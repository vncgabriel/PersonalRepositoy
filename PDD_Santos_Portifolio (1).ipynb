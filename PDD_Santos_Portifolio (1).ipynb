{
  "nbformat": 4,
  "nbformat_minor": 0,
  "metadata": {
    "colab": {
      "provenance": [],
      "toc_visible": true
    },
    "kernelspec": {
      "name": "python3",
      "display_name": "Python 3"
    },
    "language_info": {
      "name": "python"
    }
  },
  "cells": [
    {
      "cell_type": "markdown",
      "source": [
        "# 1. Dataset - NBA Players\n",
        "#### **Alumnos**: Vinicius Gabriel Santos Dias\n",
        "\n",
        "Descripción: el dataset NBA Players contiene estadísticas de jugadores de la NBA desde 1996 hasta 2022, incluyendo datos sobre su desempeño y características personales. https://www.kaggle.com/datasets/justinas/nba-players-data\n",
        "\n",
        "Objetivo: el dataset no incluye una variable objetivo predefinida. Por ello, proponemos crear esta variable para predecir la capacidad de los jugadores de promediar 20 o más puntos por partido, basándonos en otras características de su desempeño y trayectoria en la NBA.\n",
        "\n",
        "Comenzamos cargando el conjunto de datos.\n"
      ],
      "metadata": {
        "id": "JAm7eL3PDWoG"
      }
    },
    {
      "cell_type": "markdown",
      "source": [
        "### Descripción de las columnas del dataset\n",
        "\n",
        "1. **Unnamed: 0**\n",
        "   Índice numérico generado automáticamente.\n",
        "\n",
        "2. **player_name**\n",
        "   Nombre completo del jugador.\n",
        "\n",
        "3. **team_abbreviation**\n",
        "   Abreviatura del equipo en el que juega el jugador durante la temporada.\n",
        "\n",
        "4. **age**\n",
        "   Edad del jugador (en años) durante la temporada correspondiente.\n",
        "\n",
        "5. **player_height**\n",
        "   Altura del jugador en centímetros.\n",
        "\n",
        "6. **player_weight**\n",
        "   Peso del jugador en kilogramos.\n",
        "\n",
        "7. **college**\n",
        "   Universidad en la que estudió el jugador.\n",
        "\n",
        "8. **country**\n",
        "   País de origen del jugador.\n",
        "\n",
        "9. **draft_year**\n",
        "   Año en que el jugador fue seleccionado (draft) para la NBA.\n",
        "\n",
        "10. **draft_round**\n",
        "    Ronda en la que el jugador fue seleccionado en el draft.\n",
        "\n",
        "11. **draft_number**\n",
        "    Número exacto de selección del jugador en el draft.\n",
        "\n",
        "12. **gp**\n",
        "    Número de partidos jugados durante la temporada.\n",
        "\n",
        "13. **pts**\n",
        "    Puntos promedio anotados por partido.\n",
        "\n",
        "14. **reb**\n",
        "    Rebotes promedio obtenidos por partido.\n",
        "\n",
        "15. **ast**\n",
        "    Asistencias promedio realizadas por partido.\n",
        "\n",
        "16. **net_rating**\n",
        "    Diferencia promedio entre puntos anotados y permitidos por cada 100 posesiones.\n",
        "\n",
        "17. **oreb_pct**\n",
        "    Porcentaje de rebotes ofensivos del jugador.\n",
        "\n",
        "18. **dreb_pct**\n",
        "    Porcentaje de rebotes defensivos del jugador.\n",
        "\n",
        "19. **usg_pct**\n",
        "    Porcentaje de posesiones del equipo donde el jugador estuvo involucrado.\n",
        "\n",
        "20. **ts_pct**\n",
        "    Porcentaje de eficiencia de tiros, considerando tiros de campo, triples y tiros libres.\n",
        "\n",
        "21. **ast_pct**\n",
        "    Porcentaje de asistencias generadas por el jugador cuando está en el campo.\n",
        "\n",
        "22. **season**\n",
        "    Temporada correspondiente en formato \"Año-Inicio\" (ejemplo: 1996-97)."
      ],
      "metadata": {
        "id": "diK1jTEGkM5i"
      }
    },
    {
      "cell_type": "markdown",
      "source": [
        "## 0 Importación y visualización inicial"
      ],
      "metadata": {
        "id": "BD3zz-7yHSBK"
      }
    },
    {
      "cell_type": "code",
      "source": [
        "import warnings\n",
        "import numpy as np\n",
        "import pandas as pd\n",
        "import matplotlib.pyplot as plt\n",
        "import seaborn as sns\n",
        "import kagglehub\n",
        "from sklearn.preprocessing import LabelEncoder\n",
        "from collections import Counter\n",
        "from sklearn.compose import ColumnTransformer\n",
        "from sklearn.ensemble import RandomForestClassifier, RandomForestRegressor\n",
        "from sklearn.exceptions import ConvergenceWarning\n",
        "from sklearn.experimental import enable_iterative_imputer\n",
        "from sklearn.feature_selection import RFE, SelectKBest, f_classif\n",
        "from sklearn.impute import SimpleImputer, IterativeImputer, KNNImputer\n",
        "from sklearn.linear_model import LogisticRegression\n",
        "from sklearn.metrics import accuracy_score, confusion_matrix, ConfusionMatrixDisplay\n",
        "from sklearn.model_selection import GridSearchCV, train_test_split\n",
        "from sklearn.neighbors import KNeighborsClassifier\n",
        "from sklearn.pipeline import Pipeline\n",
        "from sklearn.preprocessing import (KBinsDiscretizer, MinMaxScaler, OneHotEncoder, PolynomialFeatures, PowerTransformer, QuantileTransformer, RobustScaler, StandardScaler)\n",
        "from sklearn.tree import DecisionTreeClassifier\n",
        "from statsmodels.stats.outliers_influence import variance_inflation_factor"
      ],
      "metadata": {
        "id": "CifXBON4RfE1"
      },
      "execution_count": null,
      "outputs": []
    },
    {
      "cell_type": "code",
      "source": [
        "path = kagglehub.dataset_download(\"justinas/nba-players-data\")\n",
        "print(\"Path to dataset files:\", path)\n",
        "\n",
        "df = pd.read_csv(path + \"/all_seasons.csv\")\n",
        "df.head()\n",
        "\n",
        "# Crear la variable objetivo\n",
        "threshold = 20\n",
        "df['target'] = (df['pts'] >= threshold).astype(int)"
      ],
      "metadata": {
        "colab": {
          "base_uri": "https://localhost:8080/"
        },
        "id": "68XaF-_ap0n8",
        "outputId": "8265d0fa-19d1-4630-a484-ad20fceaf660"
      },
      "execution_count": null,
      "outputs": [
        {
          "output_type": "stream",
          "name": "stdout",
          "text": [
            "Warning: Looks like you're using an outdated `kagglehub` version (installed: 0.3.5), please consider upgrading to the latest version (0.3.6).\n",
            "Path to dataset files: /root/.cache/kagglehub/datasets/justinas/nba-players-data/versions/5\n"
          ]
        }
      ]
    },
    {
      "cell_type": "markdown",
      "source": [
        "Se generó la variable objetivo target, que indica si un jugador tiene la posibilidad de promediar más de 20 puntos por partido."
      ],
      "metadata": {
        "id": "8TKp06OhImKo"
      }
    },
    {
      "cell_type": "code",
      "source": [
        "#Resumen de cada una de las variables del conjunto de datos.\n",
        "print(df.shape)\n",
        "df.info()"
      ],
      "metadata": {
        "colab": {
          "base_uri": "https://localhost:8080/"
        },
        "id": "cyFk7fLmqU-c",
        "outputId": "fd42f81b-3700-442b-c2ba-5a726f79e47d"
      },
      "execution_count": null,
      "outputs": [
        {
          "output_type": "stream",
          "name": "stdout",
          "text": [
            "(12844, 23)\n",
            "<class 'pandas.core.frame.DataFrame'>\n",
            "RangeIndex: 12844 entries, 0 to 12843\n",
            "Data columns (total 23 columns):\n",
            " #   Column             Non-Null Count  Dtype  \n",
            "---  ------             --------------  -----  \n",
            " 0   Unnamed: 0         12844 non-null  int64  \n",
            " 1   player_name        12844 non-null  object \n",
            " 2   team_abbreviation  12844 non-null  object \n",
            " 3   age                12844 non-null  float64\n",
            " 4   player_height      12844 non-null  float64\n",
            " 5   player_weight      12844 non-null  float64\n",
            " 6   college            10990 non-null  object \n",
            " 7   country            12844 non-null  object \n",
            " 8   draft_year         12844 non-null  object \n",
            " 9   draft_round        12844 non-null  object \n",
            " 10  draft_number       12844 non-null  object \n",
            " 11  gp                 12844 non-null  int64  \n",
            " 12  pts                12844 non-null  float64\n",
            " 13  reb                12844 non-null  float64\n",
            " 14  ast                12844 non-null  float64\n",
            " 15  net_rating         12844 non-null  float64\n",
            " 16  oreb_pct           12844 non-null  float64\n",
            " 17  dreb_pct           12844 non-null  float64\n",
            " 18  usg_pct            12844 non-null  float64\n",
            " 19  ts_pct             12844 non-null  float64\n",
            " 20  ast_pct            12844 non-null  float64\n",
            " 21  season             12844 non-null  object \n",
            " 22  target             12844 non-null  int64  \n",
            "dtypes: float64(12), int64(3), object(8)\n",
            "memory usage: 2.3+ MB\n"
          ]
        }
      ]
    },
    {
      "cell_type": "markdown",
      "source": [
        "El dataset consta de 12.844 instancias y 23 atributos. Se observa que las variables estan compuestas por distintos tipos de datos y que solo la variable college contiene valores nulos."
      ],
      "metadata": {
        "id": "xNPkMNlIIYRF"
      }
    },
    {
      "cell_type": "code",
      "source": [
        "# Removiendo las columnas 'Unnamed: 0', 'player_name', 'pts'\n",
        "df = df.drop(['Unnamed: 0', 'player_name', 'pts'], axis=1)\n",
        "df.head()"
      ],
      "metadata": {
        "colab": {
          "base_uri": "https://localhost:8080/",
          "height": 293
        },
        "id": "AWOOA35hGwOz",
        "outputId": "5f75de0a-6d34-4361-af14-4319d8f72d39"
      },
      "execution_count": null,
      "outputs": [
        {
          "output_type": "execute_result",
          "data": {
            "text/plain": [
              "  team_abbreviation   age  player_height  player_weight  \\\n",
              "0               HOU  22.0         193.04      94.800728   \n",
              "1               WAS  28.0         190.50      86.182480   \n",
              "2               VAN  26.0         203.20     103.418976   \n",
              "3               LAL  30.0         203.20     102.058200   \n",
              "4               DEN  23.0         213.36     119.748288   \n",
              "\n",
              "                 college country draft_year draft_round draft_number  gp  reb  \\\n",
              "0        Louisiana State     USA       1996           2           42  64  1.5   \n",
              "1  Northwestern Oklahoma     USA       1994           2           34   4  1.3   \n",
              "2         North Carolina     USA       1993           1           12  41  6.4   \n",
              "3          Florida State     USA       1989           1            7  64  2.8   \n",
              "4                   UCLA     USA       1995           1           22  52  1.7   \n",
              "\n",
              "   ast  net_rating  oreb_pct  dreb_pct  usg_pct  ts_pct  ast_pct   season  \\\n",
              "0  2.4         0.3     0.042     0.071    0.169   0.487    0.248  1996-97   \n",
              "1  0.3         8.9     0.030     0.111    0.174   0.497    0.043  1996-97   \n",
              "2  1.9        -8.2     0.106     0.185    0.175   0.512    0.125  1996-97   \n",
              "3  1.7        -2.7     0.027     0.111    0.206   0.527    0.125  1996-97   \n",
              "4  0.3       -14.1     0.102     0.169    0.195   0.500    0.064  1996-97   \n",
              "\n",
              "   target  \n",
              "0       0  \n",
              "1       0  \n",
              "2       0  \n",
              "3       0  \n",
              "4       0  "
            ],
            "text/html": [
              "\n",
              "  <div id=\"df-6bd76bb1-02d6-47ed-baff-e17290a9368f\" class=\"colab-df-container\">\n",
              "    <div>\n",
              "<style scoped>\n",
              "    .dataframe tbody tr th:only-of-type {\n",
              "        vertical-align: middle;\n",
              "    }\n",
              "\n",
              "    .dataframe tbody tr th {\n",
              "        vertical-align: top;\n",
              "    }\n",
              "\n",
              "    .dataframe thead th {\n",
              "        text-align: right;\n",
              "    }\n",
              "</style>\n",
              "<table border=\"1\" class=\"dataframe\">\n",
              "  <thead>\n",
              "    <tr style=\"text-align: right;\">\n",
              "      <th></th>\n",
              "      <th>team_abbreviation</th>\n",
              "      <th>age</th>\n",
              "      <th>player_height</th>\n",
              "      <th>player_weight</th>\n",
              "      <th>college</th>\n",
              "      <th>country</th>\n",
              "      <th>draft_year</th>\n",
              "      <th>draft_round</th>\n",
              "      <th>draft_number</th>\n",
              "      <th>gp</th>\n",
              "      <th>reb</th>\n",
              "      <th>ast</th>\n",
              "      <th>net_rating</th>\n",
              "      <th>oreb_pct</th>\n",
              "      <th>dreb_pct</th>\n",
              "      <th>usg_pct</th>\n",
              "      <th>ts_pct</th>\n",
              "      <th>ast_pct</th>\n",
              "      <th>season</th>\n",
              "      <th>target</th>\n",
              "    </tr>\n",
              "  </thead>\n",
              "  <tbody>\n",
              "    <tr>\n",
              "      <th>0</th>\n",
              "      <td>HOU</td>\n",
              "      <td>22.0</td>\n",
              "      <td>193.04</td>\n",
              "      <td>94.800728</td>\n",
              "      <td>Louisiana State</td>\n",
              "      <td>USA</td>\n",
              "      <td>1996</td>\n",
              "      <td>2</td>\n",
              "      <td>42</td>\n",
              "      <td>64</td>\n",
              "      <td>1.5</td>\n",
              "      <td>2.4</td>\n",
              "      <td>0.3</td>\n",
              "      <td>0.042</td>\n",
              "      <td>0.071</td>\n",
              "      <td>0.169</td>\n",
              "      <td>0.487</td>\n",
              "      <td>0.248</td>\n",
              "      <td>1996-97</td>\n",
              "      <td>0</td>\n",
              "    </tr>\n",
              "    <tr>\n",
              "      <th>1</th>\n",
              "      <td>WAS</td>\n",
              "      <td>28.0</td>\n",
              "      <td>190.50</td>\n",
              "      <td>86.182480</td>\n",
              "      <td>Northwestern Oklahoma</td>\n",
              "      <td>USA</td>\n",
              "      <td>1994</td>\n",
              "      <td>2</td>\n",
              "      <td>34</td>\n",
              "      <td>4</td>\n",
              "      <td>1.3</td>\n",
              "      <td>0.3</td>\n",
              "      <td>8.9</td>\n",
              "      <td>0.030</td>\n",
              "      <td>0.111</td>\n",
              "      <td>0.174</td>\n",
              "      <td>0.497</td>\n",
              "      <td>0.043</td>\n",
              "      <td>1996-97</td>\n",
              "      <td>0</td>\n",
              "    </tr>\n",
              "    <tr>\n",
              "      <th>2</th>\n",
              "      <td>VAN</td>\n",
              "      <td>26.0</td>\n",
              "      <td>203.20</td>\n",
              "      <td>103.418976</td>\n",
              "      <td>North Carolina</td>\n",
              "      <td>USA</td>\n",
              "      <td>1993</td>\n",
              "      <td>1</td>\n",
              "      <td>12</td>\n",
              "      <td>41</td>\n",
              "      <td>6.4</td>\n",
              "      <td>1.9</td>\n",
              "      <td>-8.2</td>\n",
              "      <td>0.106</td>\n",
              "      <td>0.185</td>\n",
              "      <td>0.175</td>\n",
              "      <td>0.512</td>\n",
              "      <td>0.125</td>\n",
              "      <td>1996-97</td>\n",
              "      <td>0</td>\n",
              "    </tr>\n",
              "    <tr>\n",
              "      <th>3</th>\n",
              "      <td>LAL</td>\n",
              "      <td>30.0</td>\n",
              "      <td>203.20</td>\n",
              "      <td>102.058200</td>\n",
              "      <td>Florida State</td>\n",
              "      <td>USA</td>\n",
              "      <td>1989</td>\n",
              "      <td>1</td>\n",
              "      <td>7</td>\n",
              "      <td>64</td>\n",
              "      <td>2.8</td>\n",
              "      <td>1.7</td>\n",
              "      <td>-2.7</td>\n",
              "      <td>0.027</td>\n",
              "      <td>0.111</td>\n",
              "      <td>0.206</td>\n",
              "      <td>0.527</td>\n",
              "      <td>0.125</td>\n",
              "      <td>1996-97</td>\n",
              "      <td>0</td>\n",
              "    </tr>\n",
              "    <tr>\n",
              "      <th>4</th>\n",
              "      <td>DEN</td>\n",
              "      <td>23.0</td>\n",
              "      <td>213.36</td>\n",
              "      <td>119.748288</td>\n",
              "      <td>UCLA</td>\n",
              "      <td>USA</td>\n",
              "      <td>1995</td>\n",
              "      <td>1</td>\n",
              "      <td>22</td>\n",
              "      <td>52</td>\n",
              "      <td>1.7</td>\n",
              "      <td>0.3</td>\n",
              "      <td>-14.1</td>\n",
              "      <td>0.102</td>\n",
              "      <td>0.169</td>\n",
              "      <td>0.195</td>\n",
              "      <td>0.500</td>\n",
              "      <td>0.064</td>\n",
              "      <td>1996-97</td>\n",
              "      <td>0</td>\n",
              "    </tr>\n",
              "  </tbody>\n",
              "</table>\n",
              "</div>\n",
              "    <div class=\"colab-df-buttons\">\n",
              "\n",
              "  <div class=\"colab-df-container\">\n",
              "    <button class=\"colab-df-convert\" onclick=\"convertToInteractive('df-6bd76bb1-02d6-47ed-baff-e17290a9368f')\"\n",
              "            title=\"Convert this dataframe to an interactive table.\"\n",
              "            style=\"display:none;\">\n",
              "\n",
              "  <svg xmlns=\"http://www.w3.org/2000/svg\" height=\"24px\" viewBox=\"0 -960 960 960\">\n",
              "    <path d=\"M120-120v-720h720v720H120Zm60-500h600v-160H180v160Zm220 220h160v-160H400v160Zm0 220h160v-160H400v160ZM180-400h160v-160H180v160Zm440 0h160v-160H620v160ZM180-180h160v-160H180v160Zm440 0h160v-160H620v160Z\"/>\n",
              "  </svg>\n",
              "    </button>\n",
              "\n",
              "  <style>\n",
              "    .colab-df-container {\n",
              "      display:flex;\n",
              "      gap: 12px;\n",
              "    }\n",
              "\n",
              "    .colab-df-convert {\n",
              "      background-color: #E8F0FE;\n",
              "      border: none;\n",
              "      border-radius: 50%;\n",
              "      cursor: pointer;\n",
              "      display: none;\n",
              "      fill: #1967D2;\n",
              "      height: 32px;\n",
              "      padding: 0 0 0 0;\n",
              "      width: 32px;\n",
              "    }\n",
              "\n",
              "    .colab-df-convert:hover {\n",
              "      background-color: #E2EBFA;\n",
              "      box-shadow: 0px 1px 2px rgba(60, 64, 67, 0.3), 0px 1px 3px 1px rgba(60, 64, 67, 0.15);\n",
              "      fill: #174EA6;\n",
              "    }\n",
              "\n",
              "    .colab-df-buttons div {\n",
              "      margin-bottom: 4px;\n",
              "    }\n",
              "\n",
              "    [theme=dark] .colab-df-convert {\n",
              "      background-color: #3B4455;\n",
              "      fill: #D2E3FC;\n",
              "    }\n",
              "\n",
              "    [theme=dark] .colab-df-convert:hover {\n",
              "      background-color: #434B5C;\n",
              "      box-shadow: 0px 1px 3px 1px rgba(0, 0, 0, 0.15);\n",
              "      filter: drop-shadow(0px 1px 2px rgba(0, 0, 0, 0.3));\n",
              "      fill: #FFFFFF;\n",
              "    }\n",
              "  </style>\n",
              "\n",
              "    <script>\n",
              "      const buttonEl =\n",
              "        document.querySelector('#df-6bd76bb1-02d6-47ed-baff-e17290a9368f button.colab-df-convert');\n",
              "      buttonEl.style.display =\n",
              "        google.colab.kernel.accessAllowed ? 'block' : 'none';\n",
              "\n",
              "      async function convertToInteractive(key) {\n",
              "        const element = document.querySelector('#df-6bd76bb1-02d6-47ed-baff-e17290a9368f');\n",
              "        const dataTable =\n",
              "          await google.colab.kernel.invokeFunction('convertToInteractive',\n",
              "                                                    [key], {});\n",
              "        if (!dataTable) return;\n",
              "\n",
              "        const docLinkHtml = 'Like what you see? Visit the ' +\n",
              "          '<a target=\"_blank\" href=https://colab.research.google.com/notebooks/data_table.ipynb>data table notebook</a>'\n",
              "          + ' to learn more about interactive tables.';\n",
              "        element.innerHTML = '';\n",
              "        dataTable['output_type'] = 'display_data';\n",
              "        await google.colab.output.renderOutput(dataTable, element);\n",
              "        const docLink = document.createElement('div');\n",
              "        docLink.innerHTML = docLinkHtml;\n",
              "        element.appendChild(docLink);\n",
              "      }\n",
              "    </script>\n",
              "  </div>\n",
              "\n",
              "\n",
              "<div id=\"df-a7fa0cd4-16ba-4361-9814-b98786c5ae1c\">\n",
              "  <button class=\"colab-df-quickchart\" onclick=\"quickchart('df-a7fa0cd4-16ba-4361-9814-b98786c5ae1c')\"\n",
              "            title=\"Suggest charts\"\n",
              "            style=\"display:none;\">\n",
              "\n",
              "<svg xmlns=\"http://www.w3.org/2000/svg\" height=\"24px\"viewBox=\"0 0 24 24\"\n",
              "     width=\"24px\">\n",
              "    <g>\n",
              "        <path d=\"M19 3H5c-1.1 0-2 .9-2 2v14c0 1.1.9 2 2 2h14c1.1 0 2-.9 2-2V5c0-1.1-.9-2-2-2zM9 17H7v-7h2v7zm4 0h-2V7h2v10zm4 0h-2v-4h2v4z\"/>\n",
              "    </g>\n",
              "</svg>\n",
              "  </button>\n",
              "\n",
              "<style>\n",
              "  .colab-df-quickchart {\n",
              "      --bg-color: #E8F0FE;\n",
              "      --fill-color: #1967D2;\n",
              "      --hover-bg-color: #E2EBFA;\n",
              "      --hover-fill-color: #174EA6;\n",
              "      --disabled-fill-color: #AAA;\n",
              "      --disabled-bg-color: #DDD;\n",
              "  }\n",
              "\n",
              "  [theme=dark] .colab-df-quickchart {\n",
              "      --bg-color: #3B4455;\n",
              "      --fill-color: #D2E3FC;\n",
              "      --hover-bg-color: #434B5C;\n",
              "      --hover-fill-color: #FFFFFF;\n",
              "      --disabled-bg-color: #3B4455;\n",
              "      --disabled-fill-color: #666;\n",
              "  }\n",
              "\n",
              "  .colab-df-quickchart {\n",
              "    background-color: var(--bg-color);\n",
              "    border: none;\n",
              "    border-radius: 50%;\n",
              "    cursor: pointer;\n",
              "    display: none;\n",
              "    fill: var(--fill-color);\n",
              "    height: 32px;\n",
              "    padding: 0;\n",
              "    width: 32px;\n",
              "  }\n",
              "\n",
              "  .colab-df-quickchart:hover {\n",
              "    background-color: var(--hover-bg-color);\n",
              "    box-shadow: 0 1px 2px rgba(60, 64, 67, 0.3), 0 1px 3px 1px rgba(60, 64, 67, 0.15);\n",
              "    fill: var(--button-hover-fill-color);\n",
              "  }\n",
              "\n",
              "  .colab-df-quickchart-complete:disabled,\n",
              "  .colab-df-quickchart-complete:disabled:hover {\n",
              "    background-color: var(--disabled-bg-color);\n",
              "    fill: var(--disabled-fill-color);\n",
              "    box-shadow: none;\n",
              "  }\n",
              "\n",
              "  .colab-df-spinner {\n",
              "    border: 2px solid var(--fill-color);\n",
              "    border-color: transparent;\n",
              "    border-bottom-color: var(--fill-color);\n",
              "    animation:\n",
              "      spin 1s steps(1) infinite;\n",
              "  }\n",
              "\n",
              "  @keyframes spin {\n",
              "    0% {\n",
              "      border-color: transparent;\n",
              "      border-bottom-color: var(--fill-color);\n",
              "      border-left-color: var(--fill-color);\n",
              "    }\n",
              "    20% {\n",
              "      border-color: transparent;\n",
              "      border-left-color: var(--fill-color);\n",
              "      border-top-color: var(--fill-color);\n",
              "    }\n",
              "    30% {\n",
              "      border-color: transparent;\n",
              "      border-left-color: var(--fill-color);\n",
              "      border-top-color: var(--fill-color);\n",
              "      border-right-color: var(--fill-color);\n",
              "    }\n",
              "    40% {\n",
              "      border-color: transparent;\n",
              "      border-right-color: var(--fill-color);\n",
              "      border-top-color: var(--fill-color);\n",
              "    }\n",
              "    60% {\n",
              "      border-color: transparent;\n",
              "      border-right-color: var(--fill-color);\n",
              "    }\n",
              "    80% {\n",
              "      border-color: transparent;\n",
              "      border-right-color: var(--fill-color);\n",
              "      border-bottom-color: var(--fill-color);\n",
              "    }\n",
              "    90% {\n",
              "      border-color: transparent;\n",
              "      border-bottom-color: var(--fill-color);\n",
              "    }\n",
              "  }\n",
              "</style>\n",
              "\n",
              "  <script>\n",
              "    async function quickchart(key) {\n",
              "      const quickchartButtonEl =\n",
              "        document.querySelector('#' + key + ' button');\n",
              "      quickchartButtonEl.disabled = true;  // To prevent multiple clicks.\n",
              "      quickchartButtonEl.classList.add('colab-df-spinner');\n",
              "      try {\n",
              "        const charts = await google.colab.kernel.invokeFunction(\n",
              "            'suggestCharts', [key], {});\n",
              "      } catch (error) {\n",
              "        console.error('Error during call to suggestCharts:', error);\n",
              "      }\n",
              "      quickchartButtonEl.classList.remove('colab-df-spinner');\n",
              "      quickchartButtonEl.classList.add('colab-df-quickchart-complete');\n",
              "    }\n",
              "    (() => {\n",
              "      let quickchartButtonEl =\n",
              "        document.querySelector('#df-a7fa0cd4-16ba-4361-9814-b98786c5ae1c button');\n",
              "      quickchartButtonEl.style.display =\n",
              "        google.colab.kernel.accessAllowed ? 'block' : 'none';\n",
              "    })();\n",
              "  </script>\n",
              "</div>\n",
              "\n",
              "    </div>\n",
              "  </div>\n"
            ],
            "application/vnd.google.colaboratory.intrinsic+json": {
              "type": "dataframe",
              "variable_name": "df",
              "summary": "{\n  \"name\": \"df\",\n  \"rows\": 12844,\n  \"fields\": [\n    {\n      \"column\": \"team_abbreviation\",\n      \"properties\": {\n        \"dtype\": \"category\",\n        \"num_unique_values\": 36,\n        \"samples\": [\n          \"NOP\",\n          \"BOS\",\n          \"CHI\"\n        ],\n        \"semantic_type\": \"\",\n        \"description\": \"\"\n      }\n    },\n    {\n      \"column\": \"age\",\n      \"properties\": {\n        \"dtype\": \"number\",\n        \"std\": 4.339210682291139,\n        \"min\": 18.0,\n        \"max\": 44.0,\n        \"num_unique_values\": 27,\n        \"samples\": [\n          29.0,\n          27.0,\n          25.0\n        ],\n        \"semantic_type\": \"\",\n        \"description\": \"\"\n      }\n    },\n    {\n      \"column\": \"player_height\",\n      \"properties\": {\n        \"dtype\": \"number\",\n        \"std\": 9.111090214548156,\n        \"min\": 160.02,\n        \"max\": 231.14,\n        \"num_unique_values\": 30,\n        \"samples\": [\n          196.0,\n          195.58,\n          167.64\n        ],\n        \"semantic_type\": \"\",\n        \"description\": \"\"\n      }\n    },\n    {\n      \"column\": \"player_weight\",\n      \"properties\": {\n        \"dtype\": \"number\",\n        \"std\": 12.426628079577815,\n        \"min\": 60.327736,\n        \"max\": 163.29312,\n        \"num_unique_values\": 157,\n        \"samples\": [\n          123.377024,\n          115.212368,\n          74.389088\n        ],\n        \"semantic_type\": \"\",\n        \"description\": \"\"\n      }\n    },\n    {\n      \"column\": \"college\",\n      \"properties\": {\n        \"dtype\": \"category\",\n        \"num_unique_values\": 356,\n        \"samples\": [\n          \"Central Florida\",\n          \"Southern Mississippi\",\n          \"Northwestern State\"\n        ],\n        \"semantic_type\": \"\",\n        \"description\": \"\"\n      }\n    },\n    {\n      \"column\": \"country\",\n      \"properties\": {\n        \"dtype\": \"category\",\n        \"num_unique_values\": 82,\n        \"samples\": [\n          \"Spain\",\n          \"USA\",\n          \"Senegal\"\n        ],\n        \"semantic_type\": \"\",\n        \"description\": \"\"\n      }\n    },\n    {\n      \"column\": \"draft_year\",\n      \"properties\": {\n        \"dtype\": \"category\",\n        \"num_unique_values\": 48,\n        \"samples\": [\n          \"2003\",\n          \"2015\",\n          \"2002\"\n        ],\n        \"semantic_type\": \"\",\n        \"description\": \"\"\n      }\n    },\n    {\n      \"column\": \"draft_round\",\n      \"properties\": {\n        \"dtype\": \"category\",\n        \"num_unique_values\": 9,\n        \"samples\": [\n          \"7\",\n          \"1\",\n          \"8\"\n        ],\n        \"semantic_type\": \"\",\n        \"description\": \"\"\n      }\n    },\n    {\n      \"column\": \"draft_number\",\n      \"properties\": {\n        \"dtype\": \"category\",\n        \"num_unique_values\": 76,\n        \"samples\": [\n          \"22\",\n          \"32\",\n          \"11\"\n        ],\n        \"semantic_type\": \"\",\n        \"description\": \"\"\n      }\n    },\n    {\n      \"column\": \"gp\",\n      \"properties\": {\n        \"dtype\": \"number\",\n        \"std\": 25,\n        \"min\": 1,\n        \"max\": 85,\n        \"num_unique_values\": 85,\n        \"samples\": [\n          31,\n          64,\n          38\n        ],\n        \"semantic_type\": \"\",\n        \"description\": \"\"\n      }\n    },\n    {\n      \"column\": \"reb\",\n      \"properties\": {\n        \"dtype\": \"number\",\n        \"std\": 2.477884505619878,\n        \"min\": 0.0,\n        \"max\": 16.3,\n        \"num_unique_values\": 153,\n        \"samples\": [\n          3.0,\n          5.0,\n          10.2\n        ],\n        \"semantic_type\": \"\",\n        \"description\": \"\"\n      }\n    },\n    {\n      \"column\": \"ast\",\n      \"properties\": {\n        \"dtype\": \"number\",\n        \"std\": 1.800839781591118,\n        \"min\": 0.0,\n        \"max\": 11.7,\n        \"num_unique_values\": 115,\n        \"samples\": [\n          8.2,\n          2.2,\n          2.7\n        ],\n        \"semantic_type\": \"\",\n        \"description\": \"\"\n      }\n    },\n    {\n      \"column\": \"net_rating\",\n      \"properties\": {\n        \"dtype\": \"number\",\n        \"std\": 12.665124137585057,\n        \"min\": -250.0,\n        \"max\": 300.0,\n        \"num_unique_values\": 772,\n        \"samples\": [\n          31.3,\n          7.7,\n          -49.0\n        ],\n        \"semantic_type\": \"\",\n        \"description\": \"\"\n      }\n    },\n    {\n      \"column\": \"oreb_pct\",\n      \"properties\": {\n        \"dtype\": \"number\",\n        \"std\": 0.04333474415212329,\n        \"min\": 0.0,\n        \"max\": 1.0,\n        \"num_unique_values\": 216,\n        \"samples\": [\n          0.2689999999999999,\n          0.2019999999999999,\n          0.074\n        ],\n        \"semantic_type\": \"\",\n        \"description\": \"\"\n      }\n    },\n    {\n      \"column\": \"dreb_pct\",\n      \"properties\": {\n        \"dtype\": \"number\",\n        \"std\": 0.06251333909368678,\n        \"min\": 0.0,\n        \"max\": 1.0,\n        \"num_unique_values\": 352,\n        \"samples\": [\n          0.345,\n          0.084,\n          0.1009999999999999\n        ],\n        \"semantic_type\": \"\",\n        \"description\": \"\"\n      }\n    },\n    {\n      \"column\": \"usg_pct\",\n      \"properties\": {\n        \"dtype\": \"number\",\n        \"std\": 0.05354488271597467,\n        \"min\": 0.0,\n        \"max\": 1.0,\n        \"num_unique_values\": 348,\n        \"samples\": [\n          0.078,\n          0.1,\n          0.342\n        ],\n        \"semantic_type\": \"\",\n        \"description\": \"\"\n      }\n    },\n    {\n      \"column\": \"ts_pct\",\n      \"properties\": {\n        \"dtype\": \"number\",\n        \"std\": 0.10172427061690982,\n        \"min\": 0.0,\n        \"max\": 1.5,\n        \"num_unique_values\": 563,\n        \"samples\": [\n          0.5489999999999999,\n          0.6859999999999999,\n          0.368\n        ],\n        \"semantic_type\": \"\",\n        \"description\": \"\"\n      }\n    },\n    {\n      \"column\": \"ast_pct\",\n      \"properties\": {\n        \"dtype\": \"number\",\n        \"std\": 0.09417180302675843,\n        \"min\": 0.0,\n        \"max\": 1.0,\n        \"num_unique_values\": 483,\n        \"samples\": [\n          0.314,\n          0.421,\n          0.107\n        ],\n        \"semantic_type\": \"\",\n        \"description\": \"\"\n      }\n    },\n    {\n      \"column\": \"season\",\n      \"properties\": {\n        \"dtype\": \"category\",\n        \"num_unique_values\": 27,\n        \"samples\": [\n          \"2004-05\",\n          \"2009-10\",\n          \"2005-06\"\n        ],\n        \"semantic_type\": \"\",\n        \"description\": \"\"\n      }\n    },\n    {\n      \"column\": \"target\",\n      \"properties\": {\n        \"dtype\": \"number\",\n        \"std\": 0,\n        \"min\": 0,\n        \"max\": 1,\n        \"num_unique_values\": 2,\n        \"samples\": [\n          1,\n          0\n        ],\n        \"semantic_type\": \"\",\n        \"description\": \"\"\n      }\n    }\n  ]\n}"
            }
          },
          "metadata": {},
          "execution_count": 4
        }
      ]
    },
    {
      "cell_type": "markdown",
      "source": [
        "Removiendo las columnas Unnamed: 0 y Player Name porque son identificadores que no contribuyen al análisis.También eliminamos la columna Pts, ya que está directamente relacionada con la columna objetivo (target), lo que podría sesgar el modelo al proporcionar una ventaja no deseada."
      ],
      "metadata": {
        "id": "zySZF1o_KDzw"
      }
    },
    {
      "cell_type": "code",
      "source": [
        "#Descripción numérica de las variables.\n",
        "df.describe()"
      ],
      "metadata": {
        "colab": {
          "base_uri": "https://localhost:8080/",
          "height": 300
        },
        "id": "r9eW3tmUGdeX",
        "outputId": "b68463d2-8019-4f8a-e95f-e1cda169da1c"
      },
      "execution_count": null,
      "outputs": [
        {
          "output_type": "execute_result",
          "data": {
            "text/plain": [
              "                age  player_height  player_weight            gp           reb  \\\n",
              "count  12844.000000   12844.000000   12844.000000  12844.000000  12844.000000   \n",
              "mean      27.045313     200.555097     100.263279     51.154158      3.558486   \n",
              "std        4.339211       9.111090      12.426628     25.084904      2.477885   \n",
              "min       18.000000     160.020000      60.327736      1.000000      0.000000   \n",
              "25%       24.000000     193.040000      90.718400     31.000000      1.800000   \n",
              "50%       26.000000     200.660000      99.790240     57.000000      3.000000   \n",
              "75%       30.000000     208.280000     108.862080     73.000000      4.700000   \n",
              "max       44.000000     231.140000     163.293120     85.000000     16.300000   \n",
              "\n",
              "                ast    net_rating      oreb_pct      dreb_pct       usg_pct  \\\n",
              "count  12844.000000  12844.000000  12844.000000  12844.000000  12844.000000   \n",
              "mean       1.824681     -2.226339      0.054073      0.140646      0.184641   \n",
              "std        1.800840     12.665124      0.043335      0.062513      0.053545   \n",
              "min        0.000000   -250.000000      0.000000      0.000000      0.000000   \n",
              "25%        0.600000     -6.400000      0.021000      0.096000      0.149000   \n",
              "50%        1.200000     -1.300000      0.040000      0.130500      0.181000   \n",
              "75%        2.400000      3.200000      0.083000      0.179000      0.217000   \n",
              "max       11.700000    300.000000      1.000000      1.000000      1.000000   \n",
              "\n",
              "             ts_pct       ast_pct        target  \n",
              "count  12844.000000  12844.000000  12844.000000  \n",
              "mean       0.513138      0.131595      0.055979  \n",
              "std        0.101724      0.094172      0.229891  \n",
              "min        0.000000      0.000000      0.000000  \n",
              "25%        0.482000      0.066000      0.000000  \n",
              "50%        0.525000      0.103000      0.000000  \n",
              "75%        0.563000      0.179000      0.000000  \n",
              "max        1.500000      1.000000      1.000000  "
            ],
            "text/html": [
              "\n",
              "  <div id=\"df-bb0c231c-3910-4a0c-ac23-9bf14b3fedaa\" class=\"colab-df-container\">\n",
              "    <div>\n",
              "<style scoped>\n",
              "    .dataframe tbody tr th:only-of-type {\n",
              "        vertical-align: middle;\n",
              "    }\n",
              "\n",
              "    .dataframe tbody tr th {\n",
              "        vertical-align: top;\n",
              "    }\n",
              "\n",
              "    .dataframe thead th {\n",
              "        text-align: right;\n",
              "    }\n",
              "</style>\n",
              "<table border=\"1\" class=\"dataframe\">\n",
              "  <thead>\n",
              "    <tr style=\"text-align: right;\">\n",
              "      <th></th>\n",
              "      <th>age</th>\n",
              "      <th>player_height</th>\n",
              "      <th>player_weight</th>\n",
              "      <th>gp</th>\n",
              "      <th>reb</th>\n",
              "      <th>ast</th>\n",
              "      <th>net_rating</th>\n",
              "      <th>oreb_pct</th>\n",
              "      <th>dreb_pct</th>\n",
              "      <th>usg_pct</th>\n",
              "      <th>ts_pct</th>\n",
              "      <th>ast_pct</th>\n",
              "      <th>target</th>\n",
              "    </tr>\n",
              "  </thead>\n",
              "  <tbody>\n",
              "    <tr>\n",
              "      <th>count</th>\n",
              "      <td>12844.000000</td>\n",
              "      <td>12844.000000</td>\n",
              "      <td>12844.000000</td>\n",
              "      <td>12844.000000</td>\n",
              "      <td>12844.000000</td>\n",
              "      <td>12844.000000</td>\n",
              "      <td>12844.000000</td>\n",
              "      <td>12844.000000</td>\n",
              "      <td>12844.000000</td>\n",
              "      <td>12844.000000</td>\n",
              "      <td>12844.000000</td>\n",
              "      <td>12844.000000</td>\n",
              "      <td>12844.000000</td>\n",
              "    </tr>\n",
              "    <tr>\n",
              "      <th>mean</th>\n",
              "      <td>27.045313</td>\n",
              "      <td>200.555097</td>\n",
              "      <td>100.263279</td>\n",
              "      <td>51.154158</td>\n",
              "      <td>3.558486</td>\n",
              "      <td>1.824681</td>\n",
              "      <td>-2.226339</td>\n",
              "      <td>0.054073</td>\n",
              "      <td>0.140646</td>\n",
              "      <td>0.184641</td>\n",
              "      <td>0.513138</td>\n",
              "      <td>0.131595</td>\n",
              "      <td>0.055979</td>\n",
              "    </tr>\n",
              "    <tr>\n",
              "      <th>std</th>\n",
              "      <td>4.339211</td>\n",
              "      <td>9.111090</td>\n",
              "      <td>12.426628</td>\n",
              "      <td>25.084904</td>\n",
              "      <td>2.477885</td>\n",
              "      <td>1.800840</td>\n",
              "      <td>12.665124</td>\n",
              "      <td>0.043335</td>\n",
              "      <td>0.062513</td>\n",
              "      <td>0.053545</td>\n",
              "      <td>0.101724</td>\n",
              "      <td>0.094172</td>\n",
              "      <td>0.229891</td>\n",
              "    </tr>\n",
              "    <tr>\n",
              "      <th>min</th>\n",
              "      <td>18.000000</td>\n",
              "      <td>160.020000</td>\n",
              "      <td>60.327736</td>\n",
              "      <td>1.000000</td>\n",
              "      <td>0.000000</td>\n",
              "      <td>0.000000</td>\n",
              "      <td>-250.000000</td>\n",
              "      <td>0.000000</td>\n",
              "      <td>0.000000</td>\n",
              "      <td>0.000000</td>\n",
              "      <td>0.000000</td>\n",
              "      <td>0.000000</td>\n",
              "      <td>0.000000</td>\n",
              "    </tr>\n",
              "    <tr>\n",
              "      <th>25%</th>\n",
              "      <td>24.000000</td>\n",
              "      <td>193.040000</td>\n",
              "      <td>90.718400</td>\n",
              "      <td>31.000000</td>\n",
              "      <td>1.800000</td>\n",
              "      <td>0.600000</td>\n",
              "      <td>-6.400000</td>\n",
              "      <td>0.021000</td>\n",
              "      <td>0.096000</td>\n",
              "      <td>0.149000</td>\n",
              "      <td>0.482000</td>\n",
              "      <td>0.066000</td>\n",
              "      <td>0.000000</td>\n",
              "    </tr>\n",
              "    <tr>\n",
              "      <th>50%</th>\n",
              "      <td>26.000000</td>\n",
              "      <td>200.660000</td>\n",
              "      <td>99.790240</td>\n",
              "      <td>57.000000</td>\n",
              "      <td>3.000000</td>\n",
              "      <td>1.200000</td>\n",
              "      <td>-1.300000</td>\n",
              "      <td>0.040000</td>\n",
              "      <td>0.130500</td>\n",
              "      <td>0.181000</td>\n",
              "      <td>0.525000</td>\n",
              "      <td>0.103000</td>\n",
              "      <td>0.000000</td>\n",
              "    </tr>\n",
              "    <tr>\n",
              "      <th>75%</th>\n",
              "      <td>30.000000</td>\n",
              "      <td>208.280000</td>\n",
              "      <td>108.862080</td>\n",
              "      <td>73.000000</td>\n",
              "      <td>4.700000</td>\n",
              "      <td>2.400000</td>\n",
              "      <td>3.200000</td>\n",
              "      <td>0.083000</td>\n",
              "      <td>0.179000</td>\n",
              "      <td>0.217000</td>\n",
              "      <td>0.563000</td>\n",
              "      <td>0.179000</td>\n",
              "      <td>0.000000</td>\n",
              "    </tr>\n",
              "    <tr>\n",
              "      <th>max</th>\n",
              "      <td>44.000000</td>\n",
              "      <td>231.140000</td>\n",
              "      <td>163.293120</td>\n",
              "      <td>85.000000</td>\n",
              "      <td>16.300000</td>\n",
              "      <td>11.700000</td>\n",
              "      <td>300.000000</td>\n",
              "      <td>1.000000</td>\n",
              "      <td>1.000000</td>\n",
              "      <td>1.000000</td>\n",
              "      <td>1.500000</td>\n",
              "      <td>1.000000</td>\n",
              "      <td>1.000000</td>\n",
              "    </tr>\n",
              "  </tbody>\n",
              "</table>\n",
              "</div>\n",
              "    <div class=\"colab-df-buttons\">\n",
              "\n",
              "  <div class=\"colab-df-container\">\n",
              "    <button class=\"colab-df-convert\" onclick=\"convertToInteractive('df-bb0c231c-3910-4a0c-ac23-9bf14b3fedaa')\"\n",
              "            title=\"Convert this dataframe to an interactive table.\"\n",
              "            style=\"display:none;\">\n",
              "\n",
              "  <svg xmlns=\"http://www.w3.org/2000/svg\" height=\"24px\" viewBox=\"0 -960 960 960\">\n",
              "    <path d=\"M120-120v-720h720v720H120Zm60-500h600v-160H180v160Zm220 220h160v-160H400v160Zm0 220h160v-160H400v160ZM180-400h160v-160H180v160Zm440 0h160v-160H620v160ZM180-180h160v-160H180v160Zm440 0h160v-160H620v160Z\"/>\n",
              "  </svg>\n",
              "    </button>\n",
              "\n",
              "  <style>\n",
              "    .colab-df-container {\n",
              "      display:flex;\n",
              "      gap: 12px;\n",
              "    }\n",
              "\n",
              "    .colab-df-convert {\n",
              "      background-color: #E8F0FE;\n",
              "      border: none;\n",
              "      border-radius: 50%;\n",
              "      cursor: pointer;\n",
              "      display: none;\n",
              "      fill: #1967D2;\n",
              "      height: 32px;\n",
              "      padding: 0 0 0 0;\n",
              "      width: 32px;\n",
              "    }\n",
              "\n",
              "    .colab-df-convert:hover {\n",
              "      background-color: #E2EBFA;\n",
              "      box-shadow: 0px 1px 2px rgba(60, 64, 67, 0.3), 0px 1px 3px 1px rgba(60, 64, 67, 0.15);\n",
              "      fill: #174EA6;\n",
              "    }\n",
              "\n",
              "    .colab-df-buttons div {\n",
              "      margin-bottom: 4px;\n",
              "    }\n",
              "\n",
              "    [theme=dark] .colab-df-convert {\n",
              "      background-color: #3B4455;\n",
              "      fill: #D2E3FC;\n",
              "    }\n",
              "\n",
              "    [theme=dark] .colab-df-convert:hover {\n",
              "      background-color: #434B5C;\n",
              "      box-shadow: 0px 1px 3px 1px rgba(0, 0, 0, 0.15);\n",
              "      filter: drop-shadow(0px 1px 2px rgba(0, 0, 0, 0.3));\n",
              "      fill: #FFFFFF;\n",
              "    }\n",
              "  </style>\n",
              "\n",
              "    <script>\n",
              "      const buttonEl =\n",
              "        document.querySelector('#df-bb0c231c-3910-4a0c-ac23-9bf14b3fedaa button.colab-df-convert');\n",
              "      buttonEl.style.display =\n",
              "        google.colab.kernel.accessAllowed ? 'block' : 'none';\n",
              "\n",
              "      async function convertToInteractive(key) {\n",
              "        const element = document.querySelector('#df-bb0c231c-3910-4a0c-ac23-9bf14b3fedaa');\n",
              "        const dataTable =\n",
              "          await google.colab.kernel.invokeFunction('convertToInteractive',\n",
              "                                                    [key], {});\n",
              "        if (!dataTable) return;\n",
              "\n",
              "        const docLinkHtml = 'Like what you see? Visit the ' +\n",
              "          '<a target=\"_blank\" href=https://colab.research.google.com/notebooks/data_table.ipynb>data table notebook</a>'\n",
              "          + ' to learn more about interactive tables.';\n",
              "        element.innerHTML = '';\n",
              "        dataTable['output_type'] = 'display_data';\n",
              "        await google.colab.output.renderOutput(dataTable, element);\n",
              "        const docLink = document.createElement('div');\n",
              "        docLink.innerHTML = docLinkHtml;\n",
              "        element.appendChild(docLink);\n",
              "      }\n",
              "    </script>\n",
              "  </div>\n",
              "\n",
              "\n",
              "<div id=\"df-38b32efc-ad99-466b-944a-9ce39e619718\">\n",
              "  <button class=\"colab-df-quickchart\" onclick=\"quickchart('df-38b32efc-ad99-466b-944a-9ce39e619718')\"\n",
              "            title=\"Suggest charts\"\n",
              "            style=\"display:none;\">\n",
              "\n",
              "<svg xmlns=\"http://www.w3.org/2000/svg\" height=\"24px\"viewBox=\"0 0 24 24\"\n",
              "     width=\"24px\">\n",
              "    <g>\n",
              "        <path d=\"M19 3H5c-1.1 0-2 .9-2 2v14c0 1.1.9 2 2 2h14c1.1 0 2-.9 2-2V5c0-1.1-.9-2-2-2zM9 17H7v-7h2v7zm4 0h-2V7h2v10zm4 0h-2v-4h2v4z\"/>\n",
              "    </g>\n",
              "</svg>\n",
              "  </button>\n",
              "\n",
              "<style>\n",
              "  .colab-df-quickchart {\n",
              "      --bg-color: #E8F0FE;\n",
              "      --fill-color: #1967D2;\n",
              "      --hover-bg-color: #E2EBFA;\n",
              "      --hover-fill-color: #174EA6;\n",
              "      --disabled-fill-color: #AAA;\n",
              "      --disabled-bg-color: #DDD;\n",
              "  }\n",
              "\n",
              "  [theme=dark] .colab-df-quickchart {\n",
              "      --bg-color: #3B4455;\n",
              "      --fill-color: #D2E3FC;\n",
              "      --hover-bg-color: #434B5C;\n",
              "      --hover-fill-color: #FFFFFF;\n",
              "      --disabled-bg-color: #3B4455;\n",
              "      --disabled-fill-color: #666;\n",
              "  }\n",
              "\n",
              "  .colab-df-quickchart {\n",
              "    background-color: var(--bg-color);\n",
              "    border: none;\n",
              "    border-radius: 50%;\n",
              "    cursor: pointer;\n",
              "    display: none;\n",
              "    fill: var(--fill-color);\n",
              "    height: 32px;\n",
              "    padding: 0;\n",
              "    width: 32px;\n",
              "  }\n",
              "\n",
              "  .colab-df-quickchart:hover {\n",
              "    background-color: var(--hover-bg-color);\n",
              "    box-shadow: 0 1px 2px rgba(60, 64, 67, 0.3), 0 1px 3px 1px rgba(60, 64, 67, 0.15);\n",
              "    fill: var(--button-hover-fill-color);\n",
              "  }\n",
              "\n",
              "  .colab-df-quickchart-complete:disabled,\n",
              "  .colab-df-quickchart-complete:disabled:hover {\n",
              "    background-color: var(--disabled-bg-color);\n",
              "    fill: var(--disabled-fill-color);\n",
              "    box-shadow: none;\n",
              "  }\n",
              "\n",
              "  .colab-df-spinner {\n",
              "    border: 2px solid var(--fill-color);\n",
              "    border-color: transparent;\n",
              "    border-bottom-color: var(--fill-color);\n",
              "    animation:\n",
              "      spin 1s steps(1) infinite;\n",
              "  }\n",
              "\n",
              "  @keyframes spin {\n",
              "    0% {\n",
              "      border-color: transparent;\n",
              "      border-bottom-color: var(--fill-color);\n",
              "      border-left-color: var(--fill-color);\n",
              "    }\n",
              "    20% {\n",
              "      border-color: transparent;\n",
              "      border-left-color: var(--fill-color);\n",
              "      border-top-color: var(--fill-color);\n",
              "    }\n",
              "    30% {\n",
              "      border-color: transparent;\n",
              "      border-left-color: var(--fill-color);\n",
              "      border-top-color: var(--fill-color);\n",
              "      border-right-color: var(--fill-color);\n",
              "    }\n",
              "    40% {\n",
              "      border-color: transparent;\n",
              "      border-right-color: var(--fill-color);\n",
              "      border-top-color: var(--fill-color);\n",
              "    }\n",
              "    60% {\n",
              "      border-color: transparent;\n",
              "      border-right-color: var(--fill-color);\n",
              "    }\n",
              "    80% {\n",
              "      border-color: transparent;\n",
              "      border-right-color: var(--fill-color);\n",
              "      border-bottom-color: var(--fill-color);\n",
              "    }\n",
              "    90% {\n",
              "      border-color: transparent;\n",
              "      border-bottom-color: var(--fill-color);\n",
              "    }\n",
              "  }\n",
              "</style>\n",
              "\n",
              "  <script>\n",
              "    async function quickchart(key) {\n",
              "      const quickchartButtonEl =\n",
              "        document.querySelector('#' + key + ' button');\n",
              "      quickchartButtonEl.disabled = true;  // To prevent multiple clicks.\n",
              "      quickchartButtonEl.classList.add('colab-df-spinner');\n",
              "      try {\n",
              "        const charts = await google.colab.kernel.invokeFunction(\n",
              "            'suggestCharts', [key], {});\n",
              "      } catch (error) {\n",
              "        console.error('Error during call to suggestCharts:', error);\n",
              "      }\n",
              "      quickchartButtonEl.classList.remove('colab-df-spinner');\n",
              "      quickchartButtonEl.classList.add('colab-df-quickchart-complete');\n",
              "    }\n",
              "    (() => {\n",
              "      let quickchartButtonEl =\n",
              "        document.querySelector('#df-38b32efc-ad99-466b-944a-9ce39e619718 button');\n",
              "      quickchartButtonEl.style.display =\n",
              "        google.colab.kernel.accessAllowed ? 'block' : 'none';\n",
              "    })();\n",
              "  </script>\n",
              "</div>\n",
              "\n",
              "    </div>\n",
              "  </div>\n"
            ],
            "application/vnd.google.colaboratory.intrinsic+json": {
              "type": "dataframe",
              "summary": "{\n  \"name\": \"df\",\n  \"rows\": 8,\n  \"fields\": [\n    {\n      \"column\": \"age\",\n      \"properties\": {\n        \"dtype\": \"number\",\n        \"std\": 4532.296182448679,\n        \"min\": 4.339210682291139,\n        \"max\": 12844.0,\n        \"num_unique_values\": 8,\n        \"samples\": [\n          27.045312986608533,\n          26.0,\n          12844.0\n        ],\n        \"semantic_type\": \"\",\n        \"description\": \"\"\n      }\n    },\n    {\n      \"column\": \"player_height\",\n      \"properties\": {\n        \"dtype\": \"number\",\n        \"std\": 4480.824021607004,\n        \"min\": 9.111090214548156,\n        \"max\": 12844.0,\n        \"num_unique_values\": 8,\n        \"samples\": [\n          200.555096543133,\n          200.66,\n          12844.0\n        ],\n        \"semantic_type\": \"\",\n        \"description\": \"\"\n      }\n    },\n    {\n      \"column\": \"player_weight\",\n      \"properties\": {\n        \"dtype\": \"number\",\n        \"std\": 4509.136114382995,\n        \"min\": 12.426628079577815,\n        \"max\": 12844.0,\n        \"num_unique_values\": 8,\n        \"samples\": [\n          100.26327920211773,\n          99.79024,\n          12844.0\n        ],\n        \"semantic_type\": \"\",\n        \"description\": \"\"\n      }\n    },\n    {\n      \"column\": \"gp\",\n      \"properties\": {\n        \"dtype\": \"number\",\n        \"std\": 4524.793980104312,\n        \"min\": 1.0,\n        \"max\": 12844.0,\n        \"num_unique_values\": 8,\n        \"samples\": [\n          51.15415758330738,\n          57.0,\n          12844.0\n        ],\n        \"semantic_type\": \"\",\n        \"description\": \"\"\n      }\n    },\n    {\n      \"column\": \"reb\",\n      \"properties\": {\n        \"dtype\": \"number\",\n        \"std\": 4539.434507596033,\n        \"min\": 0.0,\n        \"max\": 12844.0,\n        \"num_unique_values\": 8,\n        \"samples\": [\n          3.5584864528184363,\n          3.0,\n          12844.0\n        ],\n        \"semantic_type\": \"\",\n        \"description\": \"\"\n      }\n    },\n    {\n      \"column\": \"ast\",\n      \"properties\": {\n        \"dtype\": \"number\",\n        \"std\": 4540.055080222848,\n        \"min\": 0.0,\n        \"max\": 12844.0,\n        \"num_unique_values\": 8,\n        \"samples\": [\n          1.8246807848022422,\n          1.2,\n          12844.0\n        ],\n        \"semantic_type\": \"\",\n        \"description\": \"\"\n      }\n    },\n    {\n      \"column\": \"net_rating\",\n      \"properties\": {\n        \"dtype\": \"number\",\n        \"std\": 4540.610432056329,\n        \"min\": -250.0,\n        \"max\": 12844.0,\n        \"num_unique_values\": 8,\n        \"samples\": [\n          -2.226339146683276,\n          -1.3,\n          12844.0\n        ],\n        \"semantic_type\": \"\",\n        \"description\": \"\"\n      }\n    },\n    {\n      \"column\": \"oreb_pct\",\n      \"properties\": {\n        \"dtype\": \"number\",\n        \"std\": 4540.977060697742,\n        \"min\": 0.0,\n        \"max\": 12844.0,\n        \"num_unique_values\": 8,\n        \"samples\": [\n          0.054073108066023036,\n          0.04,\n          12844.0\n        ],\n        \"semantic_type\": \"\",\n        \"description\": \"\"\n      }\n    },\n    {\n      \"column\": \"dreb_pct\",\n      \"properties\": {\n        \"dtype\": \"number\",\n        \"std\": 4540.958510418911,\n        \"min\": 0.0,\n        \"max\": 12844.0,\n        \"num_unique_values\": 8,\n        \"samples\": [\n          0.14064598255995017,\n          0.1305,\n          12844.0\n        ],\n        \"semantic_type\": \"\",\n        \"description\": \"\"\n      }\n    },\n    {\n      \"column\": \"usg_pct\",\n      \"properties\": {\n        \"dtype\": \"number\",\n        \"std\": 4540.949594043879,\n        \"min\": 0.0,\n        \"max\": 12844.0,\n        \"num_unique_values\": 8,\n        \"samples\": [\n          0.18464076611647462,\n          0.181,\n          12844.0\n        ],\n        \"semantic_type\": \"\",\n        \"description\": \"\"\n      }\n    },\n    {\n      \"column\": \"ts_pct\",\n      \"properties\": {\n        \"dtype\": \"number\",\n        \"std\": 4540.853657273476,\n        \"min\": 0.0,\n        \"max\": 12844.0,\n        \"num_unique_values\": 8,\n        \"samples\": [\n          0.5131383525381501,\n          0.525,\n          12844.0\n        ],\n        \"semantic_type\": \"\",\n        \"description\": \"\"\n      }\n    },\n    {\n      \"column\": \"ast_pct\",\n      \"properties\": {\n        \"dtype\": \"number\",\n        \"std\": 4540.9602728614145,\n        \"min\": 0.0,\n        \"max\": 12844.0,\n        \"num_unique_values\": 8,\n        \"samples\": [\n          0.13159514170040482,\n          0.103,\n          12844.0\n        ],\n        \"semantic_type\": \"\",\n        \"description\": \"\"\n      }\n    },\n    {\n      \"column\": \"target\",\n      \"properties\": {\n        \"dtype\": \"number\",\n        \"std\": 4540.974815410835,\n        \"min\": 0.0,\n        \"max\": 12844.0,\n        \"num_unique_values\": 5,\n        \"samples\": [\n          0.05597944565555901,\n          1.0,\n          0.22989097866307204\n        ],\n        \"semantic_type\": \"\",\n        \"description\": \"\"\n      }\n    }\n  ]\n}"
            }
          },
          "metadata": {},
          "execution_count": 5
        }
      ]
    },
    {
      "cell_type": "markdown",
      "source": [
        "## 1 Data Cleaning"
      ],
      "metadata": {
        "id": "I7yFwgyHJvju"
      }
    },
    {
      "cell_type": "markdown",
      "source": [
        "### 1.1 Correcion de Tipo de Datos"
      ],
      "metadata": {
        "id": "lh6mP4ehODkI"
      }
    },
    {
      "cell_type": "markdown",
      "source": [
        "Las columnas relacionadas con el draft tienen un problema: todas están clasificadas como tipo Object debido a la presencia del valor 'Undrafted' junto con los datos numéricos que indican el año del draft, la ronda y el número.\n",
        "\n",
        "Para iniciar el proceso de limpieza corregiremos este problema.\n"
      ],
      "metadata": {
        "id": "zs5L8r9nOBEF"
      }
    },
    {
      "cell_type": "code",
      "source": [
        "# Manejo de valores no numéricos en las columnas del draft y conversión a valores numéricos\n",
        "\n",
        "# Convertir 'draft_year' a valores numéricos, forzar errores a NaN y reemplazar NaN por 0\n",
        "df['draft_year'] = pd.to_numeric(df['draft_year'], errors='coerce').fillna(0).astype(int)\n",
        "\n",
        "# Convertir 'draft_round' a valores numéricos, forzar errores a NaN y reemplazar NaN por 0\n",
        "df['draft_round'] = pd.to_numeric(df['draft_round'], errors='coerce').fillna(0).astype(int)\n",
        "\n",
        "# Convertir 'draft_number' a valores numéricos, forzar errores a NaN y reemplazar NaN por 0\n",
        "df['draft_number'] = pd.to_numeric(df['draft_number'], errors='coerce').fillna(0).astype(int)\n",
        "\n",
        "# Extrair o ano de início do campeonato da coluna 'season'\n",
        "df['season'] = df['season'].str.split('-').str[0].astype(int)\n",
        "\n",
        "\n",
        "# Mostrar los tipos de datos de todas las columnas después de la conversión\n",
        "df.dtypes\n"
      ],
      "metadata": {
        "colab": {
          "base_uri": "https://localhost:8080/",
          "height": 711
        },
        "id": "urs0tEDDNyd4",
        "outputId": "41fb8693-2520-4e4a-e489-f7dc6b0f60c5"
      },
      "execution_count": null,
      "outputs": [
        {
          "output_type": "execute_result",
          "data": {
            "text/plain": [
              "team_abbreviation     object\n",
              "age                  float64\n",
              "player_height        float64\n",
              "player_weight        float64\n",
              "college               object\n",
              "country               object\n",
              "draft_year             int64\n",
              "draft_round            int64\n",
              "draft_number           int64\n",
              "gp                     int64\n",
              "reb                  float64\n",
              "ast                  float64\n",
              "net_rating           float64\n",
              "oreb_pct             float64\n",
              "dreb_pct             float64\n",
              "usg_pct              float64\n",
              "ts_pct               float64\n",
              "ast_pct              float64\n",
              "season                 int64\n",
              "target                 int64\n",
              "dtype: object"
            ],
            "text/html": [
              "<div>\n",
              "<style scoped>\n",
              "    .dataframe tbody tr th:only-of-type {\n",
              "        vertical-align: middle;\n",
              "    }\n",
              "\n",
              "    .dataframe tbody tr th {\n",
              "        vertical-align: top;\n",
              "    }\n",
              "\n",
              "    .dataframe thead th {\n",
              "        text-align: right;\n",
              "    }\n",
              "</style>\n",
              "<table border=\"1\" class=\"dataframe\">\n",
              "  <thead>\n",
              "    <tr style=\"text-align: right;\">\n",
              "      <th></th>\n",
              "      <th>0</th>\n",
              "    </tr>\n",
              "  </thead>\n",
              "  <tbody>\n",
              "    <tr>\n",
              "      <th>team_abbreviation</th>\n",
              "      <td>object</td>\n",
              "    </tr>\n",
              "    <tr>\n",
              "      <th>age</th>\n",
              "      <td>float64</td>\n",
              "    </tr>\n",
              "    <tr>\n",
              "      <th>player_height</th>\n",
              "      <td>float64</td>\n",
              "    </tr>\n",
              "    <tr>\n",
              "      <th>player_weight</th>\n",
              "      <td>float64</td>\n",
              "    </tr>\n",
              "    <tr>\n",
              "      <th>college</th>\n",
              "      <td>object</td>\n",
              "    </tr>\n",
              "    <tr>\n",
              "      <th>country</th>\n",
              "      <td>object</td>\n",
              "    </tr>\n",
              "    <tr>\n",
              "      <th>draft_year</th>\n",
              "      <td>int64</td>\n",
              "    </tr>\n",
              "    <tr>\n",
              "      <th>draft_round</th>\n",
              "      <td>int64</td>\n",
              "    </tr>\n",
              "    <tr>\n",
              "      <th>draft_number</th>\n",
              "      <td>int64</td>\n",
              "    </tr>\n",
              "    <tr>\n",
              "      <th>gp</th>\n",
              "      <td>int64</td>\n",
              "    </tr>\n",
              "    <tr>\n",
              "      <th>reb</th>\n",
              "      <td>float64</td>\n",
              "    </tr>\n",
              "    <tr>\n",
              "      <th>ast</th>\n",
              "      <td>float64</td>\n",
              "    </tr>\n",
              "    <tr>\n",
              "      <th>net_rating</th>\n",
              "      <td>float64</td>\n",
              "    </tr>\n",
              "    <tr>\n",
              "      <th>oreb_pct</th>\n",
              "      <td>float64</td>\n",
              "    </tr>\n",
              "    <tr>\n",
              "      <th>dreb_pct</th>\n",
              "      <td>float64</td>\n",
              "    </tr>\n",
              "    <tr>\n",
              "      <th>usg_pct</th>\n",
              "      <td>float64</td>\n",
              "    </tr>\n",
              "    <tr>\n",
              "      <th>ts_pct</th>\n",
              "      <td>float64</td>\n",
              "    </tr>\n",
              "    <tr>\n",
              "      <th>ast_pct</th>\n",
              "      <td>float64</td>\n",
              "    </tr>\n",
              "    <tr>\n",
              "      <th>season</th>\n",
              "      <td>int64</td>\n",
              "    </tr>\n",
              "    <tr>\n",
              "      <th>target</th>\n",
              "      <td>int64</td>\n",
              "    </tr>\n",
              "  </tbody>\n",
              "</table>\n",
              "</div><br><label><b>dtype:</b> object</label>"
            ]
          },
          "metadata": {},
          "execution_count": 6
        }
      ]
    },
    {
      "cell_type": "markdown",
      "source": [
        "### 1.2 Tratamiento de Duplicados"
      ],
      "metadata": {
        "id": "yeDzKcV7WGMO"
      }
    },
    {
      "cell_type": "code",
      "source": [
        "# Validamos si existen duplicados\n",
        "dups = df.duplicated()\n",
        "\n",
        "# Se muestran si hay  duplicados\n",
        "print(dups.any())\n",
        "\n",
        "#Numero de instancias duplicadas\n",
        "df.duplicated().sum()"
      ],
      "metadata": {
        "colab": {
          "base_uri": "https://localhost:8080/"
        },
        "id": "H7CJywp5KxXm",
        "outputId": "37450591-4ea3-46d7-9e4e-c7b07cede2db"
      },
      "execution_count": null,
      "outputs": [
        {
          "output_type": "stream",
          "name": "stdout",
          "text": [
            "False\n"
          ]
        },
        {
          "output_type": "execute_result",
          "data": {
            "text/plain": [
              "0"
            ]
          },
          "metadata": {},
          "execution_count": 7
        }
      ]
    },
    {
      "cell_type": "markdown",
      "source": [
        "No hay valores duplicados"
      ],
      "metadata": {
        "id": "znSfPfBKWMLR"
      }
    },
    {
      "cell_type": "markdown",
      "source": [
        "### 1.3 Columnas Categoricas"
      ],
      "metadata": {
        "id": "i21u3Gehnn25"
      }
    },
    {
      "cell_type": "markdown",
      "source": [
        "El dataset contiene columnas categóricas, que son:\n",
        "- `team_abbreviation`\n",
        "- `country`\n",
        "- `College`\n",
        "\n",
        "Dado que la columna `College` contiene valores nulos, abordaremos su codificación junto con su imputación."
      ],
      "metadata": {
        "id": "_kTV1K9-1l_S"
      }
    },
    {
      "cell_type": "markdown",
      "source": [
        "#### 1.3.1 Columna Categorica - `country`"
      ],
      "metadata": {
        "id": "kaCrqaz43F2e"
      }
    },
    {
      "cell_type": "markdown",
      "source": [
        "Dado que estamos hablando de la NBA, una liga en la que todos los equipos son de Estados Unidos y Canadá, es importante identificar si los jugadores son nacionales o extranjeros. Por ello, transformaremos esta columna en un formato binario."
      ],
      "metadata": {
        "id": "7o9HMEldn5JC"
      }
    },
    {
      "cell_type": "code",
      "source": [
        "# Transformar la columna 'Country' en una variable binaria\n",
        "# 1 indica que el jugador es de EE.UU. o Canadá, 0 en caso contrario\n",
        "df['national_player?'] = df['country'].apply(lambda x: 1 if x in ['USA', 'Canada'] else 0)\n",
        "\n",
        "# Eliminar la columna original 'country', ya que ha sido procesada\n",
        "df = df.drop('country', axis=1)\n",
        "\n",
        "# Verificar los resultados de la nueva columna creada\n",
        "print(df[['national_player?']].head())"
      ],
      "metadata": {
        "colab": {
          "base_uri": "https://localhost:8080/"
        },
        "id": "4gVwE7IqoTCy",
        "outputId": "2ea5e14e-75c2-4831-c6d3-10c14721b2f6"
      },
      "execution_count": null,
      "outputs": [
        {
          "output_type": "stream",
          "name": "stdout",
          "text": [
            "   national_player?\n",
            "0                 1\n",
            "1                 1\n",
            "2                 1\n",
            "3                 1\n",
            "4                 1\n"
          ]
        }
      ]
    },
    {
      "cell_type": "markdown",
      "source": [
        "#### 1.3.2 Columna Categorica - `team_abbreviation`"
      ],
      "metadata": {
        "id": "upW2Zf0v3weF"
      }
    },
    {
      "cell_type": "markdown",
      "source": [
        "A veces, formar parte de un equipo tradicionalmente fuerte puede aumentar la probabilidad de que un jugador tenga un desempeño superior. Para capturar esta información en el conjunto de datos, crearemos una función donde el código del club se reemplaza por el porcentaje promedio de los jugadores que han pasado por él y han tenido un desempeño por encima del promedio."
      ],
      "metadata": {
        "id": "mk6X7OISqxUt"
      }
    },
    {
      "cell_type": "code",
      "source": [
        "# Calcular el promedio de la columna 'target' para cada categoría en 'team_abbreviation'\n",
        "# 'target' representa el desempeño promedio de los jugadores por equipo\n",
        "team_target_mean = df.groupby('team_abbreviation')['target'].mean()\n",
        "\n",
        "# Mapear los valores calculados de promedio al DataFrame original\n",
        "# Sustituimos 'team_abbreviation' por el valor promedio correspondiente\n",
        "df['team_encoded'] = df['team_abbreviation'].map(team_target_mean).fillna(0)\n",
        "\n",
        "# Verificar los resultados de la nueva codificación\n",
        "print(df[['team_abbreviation', 'team_encoded']].head())\n",
        "df = df.drop('team_abbreviation', axis=1)\n"
      ],
      "metadata": {
        "colab": {
          "base_uri": "https://localhost:8080/"
        },
        "id": "EV31Jb_HpqR9",
        "outputId": "f2ed1746-ddff-4919-d9c0-7d4c132bb310"
      },
      "execution_count": null,
      "outputs": [
        {
          "output_type": "stream",
          "name": "stdout",
          "text": [
            "  team_abbreviation  team_encoded\n",
            "0               HOU      0.057737\n",
            "1               WAS      0.065611\n",
            "2               VAN      0.055556\n",
            "3               LAL      0.074592\n",
            "4               DEN      0.042056\n"
          ]
        }
      ]
    },
    {
      "cell_type": "markdown",
      "source": [
        "### 1.4 Imputación de Nulos"
      ],
      "metadata": {
        "id": "qYpGAEk-NjCF"
      }
    },
    {
      "cell_type": "code",
      "source": [
        "df.isnull().sum()"
      ],
      "metadata": {
        "colab": {
          "base_uri": "https://localhost:8080/",
          "height": 711
        },
        "id": "DCmUZ1QnOMWQ",
        "outputId": "7a009dc3-bbcd-45e2-c0c8-32fd6a030a1e"
      },
      "execution_count": null,
      "outputs": [
        {
          "output_type": "execute_result",
          "data": {
            "text/plain": [
              "age                    0\n",
              "player_height          0\n",
              "player_weight          0\n",
              "college             1854\n",
              "draft_year             0\n",
              "draft_round            0\n",
              "draft_number           0\n",
              "gp                     0\n",
              "reb                    0\n",
              "ast                    0\n",
              "net_rating             0\n",
              "oreb_pct               0\n",
              "dreb_pct               0\n",
              "usg_pct                0\n",
              "ts_pct                 0\n",
              "ast_pct                0\n",
              "season                 0\n",
              "target                 0\n",
              "national_player?       0\n",
              "team_encoded           0\n",
              "dtype: int64"
            ],
            "text/html": [
              "<div>\n",
              "<style scoped>\n",
              "    .dataframe tbody tr th:only-of-type {\n",
              "        vertical-align: middle;\n",
              "    }\n",
              "\n",
              "    .dataframe tbody tr th {\n",
              "        vertical-align: top;\n",
              "    }\n",
              "\n",
              "    .dataframe thead th {\n",
              "        text-align: right;\n",
              "    }\n",
              "</style>\n",
              "<table border=\"1\" class=\"dataframe\">\n",
              "  <thead>\n",
              "    <tr style=\"text-align: right;\">\n",
              "      <th></th>\n",
              "      <th>0</th>\n",
              "    </tr>\n",
              "  </thead>\n",
              "  <tbody>\n",
              "    <tr>\n",
              "      <th>age</th>\n",
              "      <td>0</td>\n",
              "    </tr>\n",
              "    <tr>\n",
              "      <th>player_height</th>\n",
              "      <td>0</td>\n",
              "    </tr>\n",
              "    <tr>\n",
              "      <th>player_weight</th>\n",
              "      <td>0</td>\n",
              "    </tr>\n",
              "    <tr>\n",
              "      <th>college</th>\n",
              "      <td>1854</td>\n",
              "    </tr>\n",
              "    <tr>\n",
              "      <th>draft_year</th>\n",
              "      <td>0</td>\n",
              "    </tr>\n",
              "    <tr>\n",
              "      <th>draft_round</th>\n",
              "      <td>0</td>\n",
              "    </tr>\n",
              "    <tr>\n",
              "      <th>draft_number</th>\n",
              "      <td>0</td>\n",
              "    </tr>\n",
              "    <tr>\n",
              "      <th>gp</th>\n",
              "      <td>0</td>\n",
              "    </tr>\n",
              "    <tr>\n",
              "      <th>reb</th>\n",
              "      <td>0</td>\n",
              "    </tr>\n",
              "    <tr>\n",
              "      <th>ast</th>\n",
              "      <td>0</td>\n",
              "    </tr>\n",
              "    <tr>\n",
              "      <th>net_rating</th>\n",
              "      <td>0</td>\n",
              "    </tr>\n",
              "    <tr>\n",
              "      <th>oreb_pct</th>\n",
              "      <td>0</td>\n",
              "    </tr>\n",
              "    <tr>\n",
              "      <th>dreb_pct</th>\n",
              "      <td>0</td>\n",
              "    </tr>\n",
              "    <tr>\n",
              "      <th>usg_pct</th>\n",
              "      <td>0</td>\n",
              "    </tr>\n",
              "    <tr>\n",
              "      <th>ts_pct</th>\n",
              "      <td>0</td>\n",
              "    </tr>\n",
              "    <tr>\n",
              "      <th>ast_pct</th>\n",
              "      <td>0</td>\n",
              "    </tr>\n",
              "    <tr>\n",
              "      <th>season</th>\n",
              "      <td>0</td>\n",
              "    </tr>\n",
              "    <tr>\n",
              "      <th>target</th>\n",
              "      <td>0</td>\n",
              "    </tr>\n",
              "    <tr>\n",
              "      <th>national_player?</th>\n",
              "      <td>0</td>\n",
              "    </tr>\n",
              "    <tr>\n",
              "      <th>team_encoded</th>\n",
              "      <td>0</td>\n",
              "    </tr>\n",
              "  </tbody>\n",
              "</table>\n",
              "</div><br><label><b>dtype:</b> int64</label>"
            ]
          },
          "metadata": {},
          "execution_count": 10
        }
      ]
    },
    {
      "cell_type": "markdown",
      "source": [
        "#### 1.4.1 Imputación de Nulos - Definir tipo Desconocido"
      ],
      "metadata": {
        "id": "W32SvO74UnNx"
      }
    },
    {
      "cell_type": "markdown",
      "source": [
        "En la columna 'College' solo hay valores nulos. Una breve suposición podría indicar que estas personas no asistieron a la universidad o estudiaron en instituciones fuera del circuito de draft. En este caso, trataremos los valores nulos como 'Desconocido'.\n",
        "\n",
        "Sin embargo, una pregunta importante es: ¿Cuáles son las universidades con tradición en formar jugadores para la NBA?\n",
        "\n",
        "Para abordar ambos problemas, crearemos una columna que clasifique las universidades según las siguientes distribuciones:\n",
        "- 'Más de 300': 5,\n",
        "- '200 a 300': 4,\n",
        "- '100 a 200': 3,\n",
        "- '50 a 100': 2,\n",
        "- 'Menos de 50': 1,\n",
        "- 'Desconocido': 0"
      ],
      "metadata": {
        "id": "cFbbkCo4OPcS"
      }
    },
    {
      "cell_type": "code",
      "source": [
        "# Contar la cantidad de valores de cada college\n",
        "college_counts = df['college'].value_counts()\n",
        "print(college_counts)"
      ],
      "metadata": {
        "colab": {
          "base_uri": "https://localhost:8080/"
        },
        "id": "DiAFlRZFO3Lh",
        "outputId": "ae9a95d3-0d95-4651-df86-52bf9285f45f"
      },
      "execution_count": null,
      "outputs": [
        {
          "output_type": "stream",
          "name": "stdout",
          "text": [
            "college\n",
            "Kentucky                           447\n",
            "Duke                               410\n",
            "North Carolina                     355\n",
            "UCLA                               318\n",
            "Arizona                            293\n",
            "                                  ... \n",
            "Portland                             1\n",
            "Augusta State                        1\n",
            "Northwestern State                   1\n",
            "Seward County Community College      1\n",
            "Buffalo                              1\n",
            "Name: count, Length: 356, dtype: int64\n"
          ]
        }
      ]
    },
    {
      "cell_type": "code",
      "source": [
        "# Contar la frecuencia de cada universidad (excluyendo 'Desconocido')\n",
        "college_counts = df['college'][df['college'] != 'Desconocido'].value_counts()\n",
        "\n",
        "# Tratar los valores nulos en la columna 'college' como 'Desconocido'\n",
        "df['college'] = df['college'].fillna('Desconocido')\n",
        "\n",
        "# Crear categorías basadas en el número de jugadores revelados\n",
        "def categorize_college(college):\n",
        "    if college == 'Desconocido':\n",
        "        return 'Desconocido'\n",
        "    count = college_counts.get(college, 0)  # Obtiene el número de jugadores por universidad\n",
        "    if count > 300:\n",
        "        return 'Más de 300'\n",
        "    elif 200 < count <= 300:\n",
        "        return '200 a 300'\n",
        "    elif 100 < count <= 200:\n",
        "        return '100 a 200'\n",
        "    elif 50 < count <= 100:\n",
        "        return '50 a 100'\n",
        "    else:\n",
        "        return 'Menos de 50'\n",
        "\n",
        "df['college_category'] = df['college'].apply(categorize_college)\n",
        "\n",
        "# Codificación ordinal de las categorías\n",
        "ordinal_mapping = {\n",
        "    'Más de 300': 5,\n",
        "    '200 a 300': 4,\n",
        "    '100 a 200': 3,\n",
        "    '50 a 100': 2,\n",
        "    'Menos de 50': 1,\n",
        "    'Desconocido': 0\n",
        "}\n",
        "df['college_encoded'] = df['college_category'].map(ordinal_mapping)\n",
        "df = df.drop(['college', 'college_category'], axis=1)\n",
        "\n",
        "# Verificar el resultado\n",
        "print(df['college_encoded'].value_counts())"
      ],
      "metadata": {
        "colab": {
          "base_uri": "https://localhost:8080/"
        },
        "id": "f_GmIcW-Sb4Z",
        "outputId": "a9987cc1-f4cf-4a6f-f551-9fa8a3c03e5c"
      },
      "execution_count": null,
      "outputs": [
        {
          "output_type": "stream",
          "name": "stdout",
          "text": [
            "college_encoded\n",
            "3    3311\n",
            "1    2672\n",
            "2    2660\n",
            "0    1854\n",
            "5    1530\n",
            "4     817\n",
            "Name: count, dtype: int64\n"
          ]
        }
      ]
    },
    {
      "cell_type": "code",
      "source": [
        "df_test = df.select_dtypes(include=['number'])\n",
        "# Separar las características y el objetivo\n",
        "X = df_test.drop(columns=['target'])  # Excluir la columna objetivo\n",
        "y = df_test['target']  # Usar la columna 'target' como variable objetivo\n",
        "\n",
        "# Dividir en entrenamiento y prueba\n",
        "X_train, X_test, y_train, y_test = train_test_split(X, y, test_size=0.4, random_state=42, stratify=y)\n",
        "\n",
        "# Escaladores a probar\n",
        "scalers = {\n",
        "    'StandardScaler': StandardScaler(),\n",
        "    'MinMaxScaler': MinMaxScaler(),\n",
        "    'RobustScaler': RobustScaler()\n",
        "}\n",
        "\n",
        "# Resultados\n",
        "results = {}\n",
        "\n",
        "# Configurar el número de vecinos para el KNN\n",
        "n_neighbors = 5\n",
        "\n",
        "# Crear y evaluar el pipeline para cada escalador\n",
        "for scaler_name, scaler in scalers.items():\n",
        "    pipeline = Pipeline([\n",
        "        ('scaler', scaler),\n",
        "        ('knn', KNeighborsClassifier(n_neighbors=n_neighbors))\n",
        "    ])\n",
        "\n",
        "    # Entrenar el modelo\n",
        "    pipeline.fit(X_train, y_train)\n",
        "\n",
        "    # Hacer predicciones en el conjunto de prueba\n",
        "    y_pred = pipeline.predict(X_test)\n",
        "\n",
        "    # Calcular la precisión\n",
        "    accuracy = accuracy_score(y_test, y_pred)\n",
        "    results[scaler_name] = accuracy\n",
        "\n",
        "# Mostrar resultados\n",
        "for scaler_name, accuracy in results.items():\n",
        "    print(f\"{scaler_name}: Accuracy = {accuracy:.4f}\")\n"
      ],
      "metadata": {
        "colab": {
          "base_uri": "https://localhost:8080/"
        },
        "id": "1xxu_EzHQT7x",
        "outputId": "6ac4dd30-232e-416a-b502-1e9374980cbd"
      },
      "execution_count": null,
      "outputs": [
        {
          "output_type": "stream",
          "name": "stdout",
          "text": [
            "StandardScaler: Accuracy = 0.9741\n",
            "MinMaxScaler: Accuracy = 0.9656\n",
            "RobustScaler: Accuracy = 0.9745\n"
          ]
        }
      ]
    },
    {
      "cell_type": "code",
      "source": [
        "cm = confusion_matrix(y_test, y_pred)\n",
        "\n",
        "disp = ConfusionMatrixDisplay(confusion_matrix=cm, display_labels=pipeline.classes_)\n",
        "disp.plot()\n",
        "plt.show()"
      ],
      "metadata": {
        "colab": {
          "base_uri": "https://localhost:8080/",
          "height": 449
        },
        "id": "e4uNbJzTOc44",
        "outputId": "3798d4d6-a7ab-4b95-cc8a-b84acaf9be58"
      },
      "execution_count": null,
      "outputs": [
        {
          "output_type": "display_data",
          "data": {
            "text/plain": [
              "<Figure size 640x480 with 2 Axes>"
            ],
            "image/png": "[encoded data removed]"
          },
          "metadata": {}
        }
      ]
    },
    {
      "cell_type": "markdown",
      "source": [
        "#### 1.4.2 Imputación de Nulos - Imputación Estatistica -  Most Frequent"
      ],
      "metadata": {
        "id": "W7qRySD4UdzZ"
      }
    },
    {
      "cell_type": "code",
      "source": [
        "# Seleccionar sólo columnas numéricas\n",
        "df_test_moda = df.select_dtypes(include=['number'])\n",
        "\n",
        "# Transformar los valores 0 en NaN\n",
        "df_test_moda['college_encoded'] = df_test_moda['college_encoded'].replace(0, np.nan)\n",
        "\n",
        "# Usar Imputer para reemplazar los valores NaN por la moda\n",
        "imputer = SimpleImputer(strategy='most_frequent')\n",
        "df_test_moda['college_encoded'] = imputer.fit_transform(df_test_moda[['college_encoded']])\n",
        "\n",
        "# Verificar el resultado\n",
        "print(df_test_moda['college_encoded'].value_counts())"
      ],
      "metadata": {
        "colab": {
          "base_uri": "https://localhost:8080/"
        },
        "id": "F97N80oqUdGl",
        "outputId": "ff39b09b-4ea0-4792-ac65-4b24734cc8f2"
      },
      "execution_count": null,
      "outputs": [
        {
          "output_type": "stream",
          "name": "stdout",
          "text": [
            "college_encoded\n",
            "3.0    5165\n",
            "1.0    2672\n",
            "2.0    2660\n",
            "5.0    1530\n",
            "4.0     817\n",
            "Name: count, dtype: int64\n"
          ]
        }
      ]
    },
    {
      "cell_type": "code",
      "source": [
        "# Separar las características y el objetivo\n",
        "X = df_test_moda.drop(columns=['target'])  # Excluir la columna objetivo\n",
        "y = df_test_moda['target']  # Usar la columna 'target' como variable objetivo\n",
        "\n",
        "# Dividir en entrenamiento y prueba\n",
        "X_train, X_test, y_train, y_test = train_test_split(X, y, test_size=0.4, random_state=42, stratify=y)\n",
        "\n",
        "# Resultados\n",
        "results = {}\n",
        "\n",
        "# Reutilizar X_train, X_test, y_train, y_test\n",
        "for scaler_name, scaler in scalers.items():\n",
        "    # Reutilizar el pipeline y definir nuevos parámetros\n",
        "    pipeline.set_params(scaler=scaler, knn=KNeighborsClassifier(n_neighbors=n_neighbors))\n",
        "\n",
        "    # Entrenar el modelo\n",
        "    pipeline.fit(X_train, y_train)\n",
        "\n",
        "    # Realizar predicciones en el conjunto de prueba\n",
        "    y_pred = pipeline.predict(X_test)\n",
        "\n",
        "    # Calcular la precisión\n",
        "    accuracy = accuracy_score(y_test, y_pred)\n",
        "    results[scaler_name] = accuracy\n",
        "\n",
        "# Mostrar resultados\n",
        "for scaler_name, accuracy in results.items():\n",
        "    print(f\"{scaler_name}: Accuracy = {accuracy:.4f}\")\n"
      ],
      "metadata": {
        "colab": {
          "base_uri": "https://localhost:8080/"
        },
        "id": "VvDI7adKVXef",
        "outputId": "c4f3f41d-29e3-4d26-c384-c64a43dd3131"
      },
      "execution_count": null,
      "outputs": [
        {
          "output_type": "stream",
          "name": "stdout",
          "text": [
            "StandardScaler: Accuracy = 0.9749\n",
            "MinMaxScaler: Accuracy = 0.9661\n",
            "RobustScaler: Accuracy = 0.9768\n"
          ]
        }
      ]
    },
    {
      "cell_type": "code",
      "source": [
        "cm = confusion_matrix(y_test, y_pred)\n",
        "\n",
        "disp = ConfusionMatrixDisplay(confusion_matrix=cm, display_labels=pipeline.classes_)\n",
        "disp.plot()\n",
        "plt.show()"
      ],
      "metadata": {
        "colab": {
          "base_uri": "https://localhost:8080/",
          "height": 449
        },
        "id": "xSoOdOxzO353",
        "outputId": "8274335e-b704-441f-d671-18354c3d9b9e"
      },
      "execution_count": null,
      "outputs": [
        {
          "output_type": "display_data",
          "data": {
            "text/plain": [
              "<Figure size 640x480 with 2 Axes>"
            ],
            "image/png": "[encoded data removed]"
          },
          "metadata": {}
        }
      ]
    },
    {
      "cell_type": "markdown",
      "source": [
        "#### 1.4.3 Imputación de Nulos - Interative Imputer - Random Forrest"
      ],
      "metadata": {
        "id": "ChevZVK0IOmM"
      }
    },
    {
      "cell_type": "code",
      "source": [
        "df_test_random = df.select_dtypes(include=['number'])\n",
        "\n",
        "# Asegurar que los valores 0 sean reemplazados por np.nan\n",
        "df_test_random['college_encoded'] = df_test_random['college_encoded'].replace(0, np.nan)\n",
        "\n",
        "# Configurar el imputador con RandomForest\n",
        "iterative_imputer = IterativeImputer(\n",
        "    estimator=RandomForestRegressor(random_state=42),\n",
        "    max_iter=30,\n",
        "    random_state=42\n",
        ")\n",
        "\n",
        "# Aplicar el imputador directamente\n",
        "df_test_random[['college_encoded']] = iterative_imputer.fit_transform(df_test_random[['college_encoded']])\n",
        "\n",
        "# Agregar aleatoriedad y ajustar al rango de 1 a 5\n",
        "df_test_random['college_encoded'] += np.random.uniform(-0.5, 0.5, size=len(df_test_random))\n",
        "df_test_random['college_encoded'] = np.clip(np.round(df_test_random['college_encoded']), 1, 5).astype(int)\n",
        "\n",
        "# Verificar solo la nueva distribución\n",
        "print(\"Distribución después de la imputación (sin scaler):\")\n",
        "print(df_test_random['college_encoded'].value_counts())\n"
      ],
      "metadata": {
        "colab": {
          "base_uri": "https://localhost:8080/"
        },
        "id": "b9Z6fXHNh9i_",
        "outputId": "46f97c4a-999a-4b8f-fcc0-466e2ce6c8f3"
      },
      "execution_count": null,
      "outputs": [
        {
          "output_type": "stream",
          "name": "stdout",
          "text": [
            "Distribución después de la imputación (sin scaler):\n",
            "college_encoded\n",
            "3    4498\n",
            "2    3327\n",
            "1    2672\n",
            "5    1530\n",
            "4     817\n",
            "Name: count, dtype: int64\n"
          ]
        }
      ]
    },
    {
      "cell_type": "code",
      "source": [
        "# Separar las características y el objetivo\n",
        "X = df_test_random.drop(columns=['target'])  # Excluir la columna objetivo\n",
        "y = df_test_random['target']  # Usar la columna 'target' como variable objetivo\n",
        "\n",
        "# Dividir en entrenamiento y prueba\n",
        "X_train, X_test, y_train, y_test = train_test_split(X, y, test_size=0.4, random_state=42, stratify=y)\n",
        "\n",
        "# Resultados\n",
        "results = {}\n",
        "\n",
        "# Reutilizar X_train, X_test, y_train, y_test\n",
        "for scaler_name, scaler in scalers.items():\n",
        "    # Reutilizar el pipeline y definir nuevos parámetros\n",
        "    pipeline.set_params(scaler=scaler, knn=KNeighborsClassifier(n_neighbors=n_neighbors))\n",
        "\n",
        "    # Entrenar el modelo\n",
        "    pipeline.fit(X_train, y_train)\n",
        "\n",
        "    # Realizar predicciones en el conjunto de prueba\n",
        "    y_pred = pipeline.predict(X_test)\n",
        "\n",
        "    # Calcular la precisión\n",
        "    accuracy = accuracy_score(y_test, y_pred)\n",
        "    results[scaler_name] = accuracy\n",
        "\n",
        "# Mostrar resultados\n",
        "for scaler_name, accuracy in results.items():\n",
        "    print(f\"{scaler_name}: Accuracy = {accuracy:.4f}\")"
      ],
      "metadata": {
        "colab": {
          "base_uri": "https://localhost:8080/"
        },
        "id": "MEEx5E_npIOl",
        "outputId": "a9c4c241-cbd1-4468-b434-e2c7edbe8c10"
      },
      "execution_count": null,
      "outputs": [
        {
          "output_type": "stream",
          "name": "stdout",
          "text": [
            "StandardScaler: Accuracy = 0.9753\n",
            "MinMaxScaler: Accuracy = 0.9648\n",
            "RobustScaler: Accuracy = 0.9761\n"
          ]
        }
      ]
    },
    {
      "cell_type": "code",
      "source": [
        "cm = confusion_matrix(y_test, y_pred)\n",
        "\n",
        "disp = ConfusionMatrixDisplay(confusion_matrix=cm, display_labels=pipeline.classes_)\n",
        "disp.plot()\n",
        "plt.show()"
      ],
      "metadata": {
        "colab": {
          "base_uri": "https://localhost:8080/",
          "height": 449
        },
        "id": "YMF7E_s_O9Qo",
        "outputId": "d2bcbcda-5afc-41b5-9fee-b95a4d5a0fed"
      },
      "execution_count": null,
      "outputs": [
        {
          "output_type": "display_data",
          "data": {
            "text/plain": [
              "<Figure size 640x480 with 2 Axes>"
            ],
            "image/png": "[encoded data removed]"
          },
          "metadata": {}
        }
      ]
    },
    {
      "cell_type": "markdown",
      "source": [
        "#### 1.4.4 Imputación de Nulos - KNN Imputer"
      ],
      "metadata": {
        "id": "jjLMUpyQLDNf"
      }
    },
    {
      "cell_type": "code",
      "source": [
        "# Crear un DataFrame solo con columnas numéricas\n",
        "df_test = df.select_dtypes(include=['number'])\n",
        "\n",
        "# Mostrar las primeras filas para verificar\n",
        "df_test.head()\n",
        "Counter(df_test['college_encoded'])"
      ],
      "metadata": {
        "colab": {
          "base_uri": "https://localhost:8080/"
        },
        "id": "v7MkWVQtJH23",
        "outputId": "d6a0fed1-6718-4658-a119-ad8c63227ff5"
      },
      "execution_count": null,
      "outputs": [
        {
          "output_type": "execute_result",
          "data": {
            "text/plain": [
              "Counter({3: 3311, 1: 2672, 5: 1530, 0: 1854, 2: 2660, 4: 817})"
            ]
          },
          "metadata": {},
          "execution_count": 21
        }
      ]
    },
    {
      "cell_type": "code",
      "source": [
        "df_test = df.select_dtypes(include=['number'])\n",
        "\n",
        "# Asegurar que los valores 0 sean reemplazados por np.nan\n",
        "df_test['college_encoded'] = df_test['college_encoded'].replace(0, np.nan)\n",
        "\n",
        "# Configurar el KNNImputer\n",
        "knn_imputer = KNNImputer(n_neighbors=5)\n",
        "\n",
        "# Aplicar el imputador directamente\n",
        "df_test[['college_encoded']] = knn_imputer.fit_transform(df_test[['college_encoded']])\n",
        "\n",
        "# Ajustar los valores al rango de 1 a 5\n",
        "df_test['college_encoded'] += np.random.uniform(-0.5, 0.5, size=len(df_test))\n",
        "df_test['college_encoded'] = np.clip(np.round(df_test['college_encoded']), 1, 5).astype(int)\n",
        "\n",
        "# Verificar solo la nueva distribución\n",
        "print(\"Distribución después de la imputación con KNN:\")\n",
        "print(df_test['college_encoded'].value_counts())"
      ],
      "metadata": {
        "colab": {
          "base_uri": "https://localhost:8080/"
        },
        "id": "-LPEoyUOJGaM",
        "outputId": "f6dd3c37-e1ef-4735-dc93-5bb03a5961b1"
      },
      "execution_count": null,
      "outputs": [
        {
          "output_type": "stream",
          "name": "stdout",
          "text": [
            "Distribución después de la imputación con KNN:\n",
            "college_encoded\n",
            "3    4475\n",
            "2    3350\n",
            "1    2672\n",
            "5    1530\n",
            "4     817\n",
            "Name: count, dtype: int64\n"
          ]
        }
      ]
    },
    {
      "cell_type": "code",
      "source": [
        "# Separar las características y el objetivo\n",
        "X = df_test.drop(columns=['target'])  # Excluir la columna objetivo\n",
        "y = df_test['target']  # Usar la columna 'target' como variable objetivo\n",
        "\n",
        "# Dividir en entrenamiento y prueba\n",
        "X_train, X_test, y_train, y_test = train_test_split(X, y, test_size=0.4, random_state=42, stratify=y)\n",
        "\n",
        "# Resultados\n",
        "results = {}\n",
        "\n",
        "# Reutilizar X_train, X_test, y_train, y_test\n",
        "for scaler_name, scaler in scalers.items():\n",
        "    # Reutilizar el pipeline y definir nuevos parámetros\n",
        "    pipeline.set_params(scaler=scaler, knn=KNeighborsClassifier(n_neighbors=n_neighbors))\n",
        "\n",
        "    # Entrenar el modelo\n",
        "    pipeline.fit(X_train, y_train)\n",
        "\n",
        "    # Realizar predicciones en el conjunto de prueba\n",
        "    y_pred = pipeline.predict(X_test)\n",
        "\n",
        "    # Calcular la precisión\n",
        "    accuracy = accuracy_score(y_test, y_pred)\n",
        "    results[scaler_name] = accuracy\n",
        "\n",
        "# Mostrar resultados\n",
        "for scaler_name, accuracy in results.items():\n",
        "    print(f\"{scaler_name}: Accuracy = {accuracy:.4f}\")\n"
      ],
      "metadata": {
        "colab": {
          "base_uri": "https://localhost:8080/"
        },
        "id": "3TQcFq3kJWrA",
        "outputId": "0bf3694e-a588-4720-94a2-2759b52ffeab"
      },
      "execution_count": null,
      "outputs": [
        {
          "output_type": "stream",
          "name": "stdout",
          "text": [
            "StandardScaler: Accuracy = 0.9759\n",
            "MinMaxScaler: Accuracy = 0.9659\n",
            "RobustScaler: Accuracy = 0.9764\n"
          ]
        }
      ]
    },
    {
      "cell_type": "code",
      "source": [
        "cm = confusion_matrix(y_test, y_pred)\n",
        "\n",
        "disp = ConfusionMatrixDisplay(confusion_matrix=cm, display_labels=pipeline.classes_)\n",
        "disp.plot()\n",
        "plt.show()"
      ],
      "metadata": {
        "colab": {
          "base_uri": "https://localhost:8080/",
          "height": 449
        },
        "id": "gensyyWXPAH1",
        "outputId": "784b9dc4-1462-4bee-f3ed-a8425f1bbcf5"
      },
      "execution_count": null,
      "outputs": [
        {
          "output_type": "display_data",
          "data": {
            "text/plain": [
              "<Figure size 640x480 with 2 Axes>"
            ],
            "image/png": "[encoded data removed]"
          },
          "metadata": {}
        }
      ]
    },
    {
      "cell_type": "markdown",
      "source": [
        "#### 1.4.4.1 Comparación de resultados"
      ],
      "metadata": {
        "id": "kFL_nvJgJG7U"
      }
    },
    {
      "cell_type": "markdown",
      "source": [
        "**Comparación de resultados**\n",
        "\n",
        "**Tipo Desconocido**\n",
        "\n",
        "- StandardScaler: Accuracy = 0.9741\n",
        "- MinMaxScaler: Accuracy = 0.9656\n",
        "- RobustScaler: Accuracy = 0.9745\n",
        "\n",
        "**Imputación Estadística**\n",
        "\n",
        "- StandardScaler: Accuracy = 0.9749\n",
        "- MinMaxScaler: Accuracy = 0.9661\n",
        "- RobustScaler: Accuracy = 0.9768\n",
        "\n",
        "**Interactive Imputer - Random Forest**\n",
        "\n",
        "- StandardScaler: Accuracy = 0.9753\n",
        "- MinMaxScaler: Accuracy = 0.9654\n",
        "- RobustScaler: Accuracy = 0.9761\n",
        "\n",
        "**KNN Imputer**\n",
        "\n",
        "- StandardScaler: Accuracy = 0.9745\n",
        "- MinMaxScaler: Accuracy = 0.9652\n",
        "- RobustScaler: Accuracy = 0.9755\n",
        "\n",
        "\n",
        "El método más sólido es el **Interactive Imputer - Random Forest** y el metodo más solido de **Scaler** es **RobustScaler**\n"
      ],
      "metadata": {
        "id": "rWEXiBWgMu6W"
      }
    },
    {
      "cell_type": "markdown",
      "source": [
        "\n",
        "**Promedio de Accuracy por método de Scaler**\n",
        "\n",
        "- **StandardScaler**: Promedio = 0.9747\n",
        "- **MinMaxScaler**: Promedio = 0.9657\n",
        "- **RobustScaler**: Promedio = 0.9759"
      ],
      "metadata": {
        "id": "Wf09VugZNv8C"
      }
    },
    {
      "cell_type": "markdown",
      "source": [
        "\n",
        "***Promedio de los metodos de Imputación***\n",
        "\n",
        "- **Tipo Desconocido**: Promedio = 0.9714\n",
        "- **Imputación Estadística**: Promedio = 0.9726\n",
        "- **Interactive Imputer - Random Forest**: Promedio = 0.9727\n",
        "- **KNN Imputer**: Promedio = 0.9717"
      ],
      "metadata": {
        "id": "wAVuVD5zNzoX"
      }
    },
    {
      "cell_type": "markdown",
      "source": [
        "El método más sólido es el **Interactive Imputer - Random Forest** y el método más sólido de **Scaler** es el **RobustScaler**. Utilizaremos ambos para los próximos pasos."
      ],
      "metadata": {
        "id": "wIClffKlN2df"
      }
    },
    {
      "cell_type": "code",
      "source": [
        "df = df_test_random\n",
        "\n",
        "pipeline = Pipeline([\n",
        "    ('scaler', RobustScaler()),\n",
        "    ('knn', KNeighborsClassifier(n_neighbors=5))])"
      ],
      "metadata": {
        "id": "v_0RDmIqNuAk"
      },
      "execution_count": null,
      "outputs": []
    },
    {
      "cell_type": "markdown",
      "source": [
        "## 2 Evaluación de modelos"
      ],
      "metadata": {
        "id": "LeQrNSPuOYOh"
      }
    },
    {
      "cell_type": "code",
      "source": [
        "# Definir los modelos y los hiperparámetros a probar\n",
        "models_with_params = {\n",
        "    \"RandomForest\": {\n",
        "        \"model\": RandomForestClassifier(random_state=42),\n",
        "        \"params\": {\n",
        "            \"model__n_estimators\": [50, 100, 200],\n",
        "            \"model__max_depth\": [None, 10, 20]\n",
        "        }\n",
        "    },\n",
        "    \"LogisticRegression\": {\n",
        "        \"model\": LogisticRegression(max_iter=500, random_state=42),\n",
        "        \"params\": {\n",
        "            \"model__C\": [0.1, 1, 10],\n",
        "            \"model__penalty\": [\"l2\"]\n",
        "        }\n",
        "    },\n",
        "    \"DecisionTree\": {\n",
        "        \"model\": DecisionTreeClassifier(random_state=42),\n",
        "        \"params\": {\n",
        "            \"model__max_depth\": [None, 10, 20],\n",
        "            \"model__min_samples_split\": [2, 5, 10]\n",
        "        }\n",
        "    },\n",
        "    \"KNN\": {\n",
        "        \"model\": KNeighborsClassifier(),\n",
        "        \"params\": {\n",
        "            \"model__n_neighbors\": [3, 5, 7],\n",
        "            \"model__weights\": [\"uniform\", \"distance\"]\n",
        "        }\n",
        "    }\n",
        "}\n",
        "\n",
        "# Función para realizar Grid Search y evaluar los modelos\n",
        "def grid_search_models(models_with_params, X_train, y_train, X_test, y_test):\n",
        "    results = {}\n",
        "\n",
        "    for model_name, config in models_with_params.items():\n",
        "        # Crear el pipeline con el modelo y el escalador\n",
        "        custom_pipeline = Pipeline([\n",
        "            ('scaler', RobustScaler()),  # Escalador\n",
        "            ('model', config[\"model\"])  # Modelo actual\n",
        "        ])\n",
        "\n",
        "        # Configurar el GridSearchCV\n",
        "        grid_search = GridSearchCV(\n",
        "            estimator=custom_pipeline,\n",
        "            param_grid=config[\"params\"],\n",
        "            cv=5,\n",
        "            scoring=\"accuracy\",\n",
        "            n_jobs=-1\n",
        "        )\n",
        "\n",
        "        grid_search.fit(X_train, y_train)\n",
        "        best_model = grid_search.best_estimator_\n",
        "        best_params = grid_search.best_params_\n",
        "\n",
        "        # Evaluar en el conjunto de prueba\n",
        "        y_pred = best_model.predict(X_test)\n",
        "        accuracy = accuracy_score(y_test, y_pred)\n",
        "\n",
        "        # Almacenar los resultados\n",
        "        results[model_name] = {\n",
        "            \"best_params\": best_params,\n",
        "            \"accuracy\": accuracy\n",
        "        }\n",
        "\n",
        "    return results\n",
        "\n",
        "grid_results = grid_search_models(models_with_params, X_train, y_train, X_test, y_test)\n",
        "\n",
        "for model_name, result in grid_results.items():\n",
        "    print(f\"{model_name}:\")\n",
        "    print(f\"  Mejor configuración: {result['best_params']}\")\n",
        "    print(f\"  Accuracy: {result['accuracy']:.4f}\")"
      ],
      "metadata": {
        "colab": {
          "base_uri": "https://localhost:8080/"
        },
        "id": "qBjF5cc0lyIJ",
        "outputId": "96d999f3-6011-479a-fb5b-b1c6e772dc96"
      },
      "execution_count": null,
      "outputs": [
        {
          "output_type": "stream",
          "name": "stdout",
          "text": [
            "RandomForest:\n",
            "  Mejor configuración: {'model__max_depth': 10, 'model__n_estimators': 200}\n",
            "  Accuracy: 0.9823\n",
            "LogisticRegression:\n",
            "  Mejor configuración: {'model__C': 10, 'model__penalty': 'l2'}\n",
            "  Accuracy: 0.9854\n",
            "DecisionTree:\n",
            "  Mejor configuración: {'model__max_depth': None, 'model__min_samples_split': 10}\n",
            "  Accuracy: 0.9749\n",
            "KNN:\n",
            "  Mejor configuración: {'model__n_neighbors': 7, 'model__weights': 'distance'}\n",
            "  Accuracy: 0.9788\n"
          ]
        }
      ]
    },
    {
      "cell_type": "markdown",
      "source": [
        "A partir de ahora configuraremos el **Pipeline Final**, cuya función será probar y entrenar modelos con nuevas técnicas. Si estas nuevas técnicas obtienen resultados mejores que los encontrados anteriormente, el **Pipeline Final** será reemplazado por el pipeline aplicado.\n"
      ],
      "metadata": {
        "id": "vqSvetUOkSw9"
      }
    },
    {
      "cell_type": "code",
      "source": [
        "# Mejores hiperparametros\n",
        "logistic_regression_model = LogisticRegression(C=10, penalty='l2', max_iter=500, random_state=42)\n",
        "logistic_regression = LogisticRegression(C=10, penalty='l2', max_iter=500, random_state=42)\n",
        "\n",
        "# Pipeline aystado\n",
        "final_pipeline = Pipeline([\n",
        "    ('scaler', RobustScaler()),  # Escalador\n",
        "    ('logistic_regression', logistic_regression_model)  # Modelo ganador\n",
        "])"
      ],
      "metadata": {
        "id": "0JHOdCNonOqN"
      },
      "execution_count": null,
      "outputs": []
    },
    {
      "cell_type": "markdown",
      "source": [
        "## 3 Column Transformer"
      ],
      "metadata": {
        "id": "FNximmaNn6ce"
      }
    },
    {
      "cell_type": "code",
      "source": [
        "# Selecionando columnas numericas y categoricas para el column transform\n",
        "columnas_numericas = [\n",
        "    'age', 'player_height', 'player_weight', 'draft_year', 'draft_round',\n",
        "    'draft_number', 'gp', 'reb', 'ast', 'net_rating', 'oreb_pct',\n",
        "    'dreb_pct', 'usg_pct', 'ts_pct', 'ast_pct', 'season'\n",
        "]\n",
        "\n",
        "columnas_categoricas = ['national_player?', 'team_encoded', 'college_encoded']\n",
        "\n",
        "# Definir ColumnTransformer, las columans numericas con robust scaler, las categoricas con one hot encoding\n",
        "preprocessor = ColumnTransformer(transformers=[\n",
        "    ('num', RobustScaler(), columnas_numericas),\n",
        "    ('cat', OneHotEncoder(handle_unknown='ignore'), columnas_categoricas)\n",
        "], remainder='passthrough')\n",
        "\n",
        "# Pipeline final con ColumnTransformer\n",
        "column_transformer_pipeline = Pipeline([\n",
        "    ('preprocessor', preprocessor),\n",
        "    ('scaler', RobustScaler()),\n",
        "    ('logistic_regression', logistic_regression_model)\n",
        "])\n",
        "\n",
        "column_transformer_pipeline.fit(X_train, y_train)\n",
        "\n",
        "# Predicción y evaluación\n",
        "y_pred = column_transformer_pipeline.predict(X_test)\n",
        "accuracy = accuracy_score(y_test, y_pred)\n",
        "print(f\"Precisión del modelo con ColumnTransformer: {accuracy:.4f}\")"
      ],
      "metadata": {
        "colab": {
          "base_uri": "https://localhost:8080/"
        },
        "id": "IKS9vSoLXvoK",
        "outputId": "df14253c-c66c-494d-af5a-83dee2b70728"
      },
      "execution_count": null,
      "outputs": [
        {
          "output_type": "stream",
          "name": "stdout",
          "text": [
            "Precisión del modelo con ColumnTransformer: 0.9827\n"
          ]
        }
      ]
    },
    {
      "cell_type": "markdown",
      "source": [
        "### 3.1 Discretización"
      ],
      "metadata": {
        "id": "YB9SZXVXXnPS"
      }
    },
    {
      "cell_type": "code",
      "source": [
        "# Selección de columnas para crear histogramas\n",
        "df_hist = pd.DataFrame({\n",
        "    'age': df_test['age'],\n",
        "    'player_height': df_test['player_height'],\n",
        "    'player_weight': df_test['player_weight'],\n",
        "    'reb': df_test['reb'],\n",
        "    'ast': df_test['ast'],\n",
        "    'net_rating': df_test['net_rating'],\n",
        "    'oreb_pct': df_test['oreb_pct'],\n",
        "    'dreb_pct': df_test['dreb_pct'],\n",
        "    'usg_pct': df_test['usg_pct'],\n",
        "    'ts_pct': df_test['ts_pct'],\n",
        "    'ast_pct': df_test['ast_pct']\n",
        "})\n",
        "\n",
        "# Crear histogramas\n",
        "df_hist.hist(layout=(3, 4), figsize=(12, 9), bins=20, color='skyblue', edgecolor='black')\n",
        "plt.tight_layout()\n",
        "plt.show()"
      ],
      "metadata": {
        "colab": {
          "base_uri": "https://localhost:8080/",
          "height": 907
        },
        "id": "Wqm8yERvtm2l",
        "outputId": "d8fcc9ac-fd47-4b07-848c-df426354d20f"
      },
      "execution_count": null,
      "outputs": [
        {
          "output_type": "display_data",
          "data": {
            "text/plain": [
              "<Figure size 1200x900 with 12 Axes>"
            ],
            "image/png": "[encoded data removed]"
          },
          "metadata": {}
        }
      ]
    },
    {
      "cell_type": "code",
      "source": [
        "# Columnas a discretizar\n",
        "columns_to_discretize = ['age', 'player_height', 'player_weight', 'reb', 'ast']\n",
        "\n",
        "discretizer = KBinsDiscretizer(n_bins=5, encode='ordinal', strategy='uniform')\n",
        "\n",
        "# Preprocesador\n",
        "preprocessor = ColumnTransformer([\n",
        "    ('discretizer', discretizer, columns_to_discretize)\n",
        "], remainder='passthrough')\n",
        "\n",
        "pipeline_with_discretization = Pipeline([\n",
        "    ('preprocessor', preprocessor),\n",
        "    ('scaler', RobustScaler()),\n",
        "    ('logistic_regression', logistic_regression_model)\n",
        "])\n",
        "\n",
        "pipeline_with_discretization.fit(X_train, y_train)\n",
        "y_pred_discretized = pipeline_with_discretization.predict(X_test)\n",
        "accuracy_discretized = accuracy_score(y_test, y_pred_discretized)\n",
        "\n",
        "print(f\"Modelo con discretización: {accuracy_discretized:.4f}\")"
      ],
      "metadata": {
        "colab": {
          "base_uri": "https://localhost:8080/"
        },
        "id": "OXFmSA3WuiH3",
        "outputId": "fd433aa7-dcc2-49d3-b458-f0a2ebc2ca2f"
      },
      "execution_count": null,
      "outputs": [
        {
          "output_type": "stream",
          "name": "stdout",
          "text": [
            "Modelo con discretización: 0.9780\n"
          ]
        }
      ]
    },
    {
      "cell_type": "markdown",
      "source": [
        "## 4 Selección de Caracteristicas"
      ],
      "metadata": {
        "id": "9mLsLwf7vxAn"
      }
    },
    {
      "cell_type": "markdown",
      "source": [
        "### 4.1 K-Best"
      ],
      "metadata": {
        "id": "Uux3bLaFY-XH"
      }
    },
    {
      "cell_type": "code",
      "source": [
        "\n",
        "X_train, X_test, y_train, y_test = train_test_split(X, y, test_size=0.4, random_state=42, stratify=y)\n",
        "\n",
        "results = []\n",
        "\n",
        "# Probar diferentes números de características con SelectKBest\n",
        "for k in range(X_train.shape[1], 0, -1):\n",
        "    pipeline_with_selection = Pipeline([\n",
        "        ('feature_selection', SelectKBest(score_func=f_classif, k=k)),\n",
        "        ('scaler', RobustScaler()),\n",
        "        ('logistic_regression', LogisticRegression(C=10, penalty='l2', max_iter=500, random_state=42))\n",
        "    ])\n",
        "\n",
        "    # Entrenamiento\n",
        "    pipeline_with_selection.fit(X_train, y_train)\n",
        "\n",
        "    # Evaluación\n",
        "    y_pred = pipeline_with_selection.predict(X_test)\n",
        "    accuracy = accuracy_score(y_test, y_pred)\n",
        "\n",
        "    # Guardar resultados\n",
        "    results.append((k, accuracy))\n",
        "    print(f\"Número de características: {k}, Precisión: {accuracy:.4f}\")\n",
        "\n",
        "# Mejor número de características\n",
        "best_k, best_accuracy = max(results, key=lambda x: x[1])\n",
        "print(f\"\\nMejor número de características: {best_k} con precisión de {best_accuracy}\")\n",
        "\n"
      ],
      "metadata": {
        "colab": {
          "base_uri": "https://localhost:8080/"
        },
        "id": "Oz74brqhVv-h",
        "outputId": "e6e24bca-75af-4ba1-e06d-d0ac9a031ef5"
      },
      "execution_count": null,
      "outputs": [
        {
          "output_type": "stream",
          "name": "stdout",
          "text": [
            "Número de características: 19, Precisión: 0.9854\n",
            "Número de características: 18, Precisión: 0.9858\n",
            "Número de características: 17, Precisión: 0.9860\n",
            "Número de características: 16, Precisión: 0.9860\n",
            "Número de características: 15, Precisión: 0.9864\n",
            "Número de características: 14, Precisión: 0.9862\n",
            "Número de características: 13, Precisión: 0.9866\n",
            "Número de características: 12, Precisión: 0.9809\n",
            "Número de características: 11, Precisión: 0.9798\n",
            "Número de características: 10, Precisión: 0.9794\n",
            "Número de características: 9, Precisión: 0.9800\n",
            "Número de características: 8, Precisión: 0.9811\n",
            "Número de características: 7, Precisión: 0.9803\n",
            "Número de características: 6, Precisión: 0.9786\n",
            "Número de características: 5, Precisión: 0.9776\n",
            "Número de características: 4, Precisión: 0.9761\n",
            "Número de características: 3, Precisión: 0.9692\n",
            "Número de características: 2, Precisión: 0.9619\n",
            "Número de características: 1, Precisión: 0.9543\n",
            "\n",
            "Mejor número de características: 13 con precisión de 0.9865706500583885\n"
          ]
        }
      ]
    },
    {
      "cell_type": "code",
      "source": [
        "X_train, X_test, y_train, y_test = train_test_split(X, y, test_size=0.4, random_state=42, stratify=y)\n",
        "\n",
        "# Selección de características y modelo según k encontrado en la funcion anterior\n",
        "k = 13\n",
        "selector = SelectKBest(score_func=f_classif, k=k)\n",
        "\n",
        "pipeline_with_selection = Pipeline([\n",
        "    ('feature_selection', selector),\n",
        "    ('scaler', RobustScaler()),\n",
        "    ('logistic_regression', logistic_regression)\n",
        "])\n",
        "\n",
        "# Entrenamiento\n",
        "pipeline_with_selection.fit(X_train, y_train)\n",
        "\n",
        "# Obtener los coeficientes\n",
        "selected_features_mask = selector.get_support()\n",
        "selected_features = X_train.columns[selected_features_mask]\n",
        "coefficients = logistic_regression.coef_.flatten()\n",
        "\n",
        "# Crear DataFrame para mostrar resultados\n",
        "coefficients_df = pd.DataFrame({\n",
        "    'Feature': selected_features,\n",
        "    'Coefficient': coefficients\n",
        "}).sort_values(by='Coefficient', key=abs, ascending=False)\n",
        "\n",
        "coefficients_df = coefficients_df.sort_values(by='Coefficient', ascending=False)\n",
        "print(coefficients_df)\n",
        "\n",
        "plt.figure(figsize=(10, 6))\n",
        "plt.barh(coefficients_df['Feature'], coefficients_df['Coefficient'], color='skyblue')\n",
        "plt.xlabel('Coeficientes')"
      ],
      "metadata": {
        "colab": {
          "base_uri": "https://localhost:8080/",
          "height": 802
        },
        "id": "Si0XfqZWWiJl",
        "outputId": "cc3f92a1-831c-41a4-9594-d134725e19ac"
      },
      "execution_count": null,
      "outputs": [
        {
          "output_type": "stream",
          "name": "stdout",
          "text": [
            "            Feature  Coefficient\n",
            "3               reb     6.359424\n",
            "8           usg_pct     4.351489\n",
            "4               ast     1.604206\n",
            "9            ts_pct     1.358088\n",
            "2                gp     0.766729\n",
            "11     team_encoded     0.341380\n",
            "5        net_rating     0.285828\n",
            "0        draft_year     0.076910\n",
            "12  college_encoded     0.038022\n",
            "1      draft_number    -0.098098\n",
            "10          ast_pct    -2.249000\n",
            "6          oreb_pct    -4.112670\n",
            "7          dreb_pct    -5.475988\n"
          ]
        },
        {
          "output_type": "execute_result",
          "data": {
            "text/plain": [
              "Text(0.5, 0, 'Coeficientes')"
            ]
          },
          "metadata": {},
          "execution_count": 32
        },
        {
          "output_type": "display_data",
          "data": {
            "text/plain": [
              "<Figure size 1000x600 with 1 Axes>"
            ],
            "image/png": "[encoded data removed]"
          },
          "metadata": {}
        }
      ]
    },
    {
      "cell_type": "markdown",
      "source": [
        "### 4.2 RFE"
      ],
      "metadata": {
        "id": "dJN0r4cyZQ9c"
      }
    },
    {
      "cell_type": "code",
      "source": [
        "results = []\n",
        "\n",
        "# Probar todas diferentes cantidades de características\n",
        "for k in range(1, X_train.shape[1] + 1):\n",
        "    rfe = RFE(estimator=logistic_regression, n_features_to_select=k)\n",
        "\n",
        "    # Pipeline con RFE\n",
        "    pipeline_with_rfe = Pipeline([\n",
        "        ('scaler', RobustScaler()),     # Escalado\n",
        "        ('feature_selection', rfe),     # Selección con RFE\n",
        "        ('model', logistic_regression)  # Modelo\n",
        "    ])\n",
        "\n",
        "    pipeline_with_rfe.fit(X_train, y_train)\n",
        "\n",
        "    y_pred = pipeline_with_rfe.predict(X_test)\n",
        "    accuracy = accuracy_score(y_test, y_pred)\n",
        "\n",
        "    results.append((k, accuracy))\n",
        "    print(f\"Número de características: {k}, Precisión: {accuracy:.4f}\")\n",
        "\n",
        "\n",
        "# Mejor número de características\n",
        "best_k, best_accuracy = max(results, key=lambda x: x[1])\n",
        "print(f\"\\nMejor número de características: {best_k} con precisión de {best_accuracy:.4f}\")\n",
        "\n",
        "# Ajustar el modelo con el mejor k\n",
        "final_rfe = RFE(estimator=logistic_regression, n_features_to_select=best_k)\n",
        "final_pipeline = Pipeline([\n",
        "    ('scaler', RobustScaler()),\n",
        "    ('feature_selection', final_rfe),\n",
        "    ('model', logistic_regression)\n",
        "])\n",
        "\n",
        "# Entrenar el pipeline final\n",
        "final_pipeline.fit(X_train, y_train)\n",
        "\n",
        "# Mostrar las características seleccionadas\n",
        "selected_features_mask = final_rfe.support_\n",
        "selected_features = X_train.columns[selected_features_mask]\n",
        "\n",
        "print(\"\\nCaracterísticas seleccionadas en el mejor modelo:\")\n",
        "print(selected_features)\n"
      ],
      "metadata": {
        "colab": {
          "base_uri": "https://localhost:8080/"
        },
        "id": "zsFT_LwWZRxw",
        "outputId": "1f45f4ef-7695-4389-cdc7-b85ffa589d18"
      },
      "execution_count": null,
      "outputs": [
        {
          "output_type": "stream",
          "name": "stdout",
          "text": [
            "Número de características: 1, Precisión: 0.9439\n",
            "Número de características: 2, Precisión: 0.9436\n",
            "Número de características: 3, Precisión: 0.9535\n",
            "Número de características: 4, Precisión: 0.9815\n",
            "Número de características: 5, Precisión: 0.9809\n",
            "Número de características: 6, Precisión: 0.9831\n",
            "Número de características: 7, Precisión: 0.9840\n",
            "Número de características: 8, Precisión: 0.9866\n",
            "Número de características: 9, Precisión: 0.9872\n",
            "Número de características: 10, Precisión: 0.9864\n",
            "Número de características: 11, Precisión: 0.9854\n",
            "Número de características: 12, Precisión: 0.9856\n",
            "Número de características: 13, Precisión: 0.9852\n",
            "Número de características: 14, Precisión: 0.9854\n",
            "Número de características: 15, Precisión: 0.9856\n",
            "Número de características: 16, Precisión: 0.9860\n",
            "Número de características: 17, Precisión: 0.9856\n",
            "Número de características: 18, Precisión: 0.9858\n",
            "Número de características: 19, Precisión: 0.9854\n",
            "\n",
            "Mejor número de características: 9 con precisión de 0.9872\n",
            "\n",
            "Características seleccionadas en el mejor modelo:\n",
            "Index(['gp', 'reb', 'ast', 'oreb_pct', 'dreb_pct', 'usg_pct', 'ts_pct',\n",
            "       'ast_pct', 'national_player?'],\n",
            "      dtype='object')\n"
          ]
        }
      ]
    },
    {
      "cell_type": "code",
      "source": [
        "# Configurando RFE con k = 9\n",
        "k = 9\n",
        "rfe = RFE(estimator=logistic_regression, n_features_to_select=k)\n",
        "\n",
        "# Pipeline con RFE\n",
        "pipeline_with_rfe = Pipeline([\n",
        "    ('scaler', RobustScaler()),     # Escalado\n",
        "    ('feature_selection', rfe),     # Selección de características con RFE\n",
        "    ('model', logistic_regression)  # Modelo\n",
        "])\n",
        "\n",
        "# Entrenar el pipeline con k = 9\n",
        "pipeline_with_rfe.fit(X_train, y_train)\n",
        "\n",
        "# Obtener características seleccionadas y coeficientes\n",
        "selected_features_mask = rfe.support_\n",
        "selected_features = X_train.columns[selected_features_mask]\n",
        "coefficients = logistic_regression.coef_.flatten()\n",
        "\n",
        "# Crear DataFrame para mostrar coeficientes\n",
        "coefficients_df = pd.DataFrame({\n",
        "    'Feature': selected_features,\n",
        "    'Coefficient': coefficients\n",
        "}).sort_values(by='Coefficient', key=abs, ascending=False)\n",
        "\n",
        "coefficients_df = coefficients_df.sort_values(by='Coefficient', ascending=False)\n",
        "print(coefficients_df)\n",
        "\n",
        "\n",
        "plt.figure(figsize=(10, 6))\n",
        "plt.barh(coefficients_df['Feature'], coefficients_df['Coefficient'], color='skyblue')\n",
        "plt.xlabel('Coeficientes')"
      ],
      "metadata": {
        "colab": {
          "base_uri": "https://localhost:8080/",
          "height": 733
        },
        "id": "y3icDrb_Z-DM",
        "outputId": "24b64fd1-e9ef-47c3-df0f-e1f9cdbd7e0d"
      },
      "execution_count": null,
      "outputs": [
        {
          "output_type": "stream",
          "name": "stdout",
          "text": [
            "            Feature  Coefficient\n",
            "1               reb     6.648197\n",
            "5           usg_pct     4.123880\n",
            "6            ts_pct     1.328158\n",
            "2               ast     1.281073\n",
            "0                gp     1.227051\n",
            "8  national_player?     0.606756\n",
            "7           ast_pct    -1.661546\n",
            "3          oreb_pct    -4.288486\n",
            "4          dreb_pct    -5.558880\n"
          ]
        },
        {
          "output_type": "execute_result",
          "data": {
            "text/plain": [
              "Text(0.5, 0, 'Coeficientes')"
            ]
          },
          "metadata": {},
          "execution_count": 34
        },
        {
          "output_type": "display_data",
          "data": {
            "text/plain": [
              "<Figure size 1000x600 with 1 Axes>"
            ],
            "image/png": "[encoded data removed]"
          },
          "metadata": {}
        }
      ]
    },
    {
      "cell_type": "markdown",
      "source": [
        "### 4.3 ANOVA"
      ],
      "metadata": {
        "id": "izLE_xc0a5Y2"
      }
    },
    {
      "cell_type": "code",
      "source": [
        "# Inicializar resultados\n",
        "results = []\n",
        "\n",
        "# Probar diferentes valores de k en SelectKBest\n",
        "for k in range(1, X_train.shape[1] + 1):\n",
        "    selector = SelectKBest(score_func=f_classif, k=k)\n",
        "\n",
        "    # Pipeline con ANOVA\n",
        "    pipeline_with_anova = Pipeline([\n",
        "        ('feature_selection', selector),\n",
        "        ('scaler', RobustScaler()),\n",
        "        ('model', logistic_regression)\n",
        "    ])\n",
        "\n",
        "    # Entrenamiento y evaluación\n",
        "    pipeline_with_anova.fit(X_train, y_train)\n",
        "    y_pred = pipeline_with_anova.predict(X_test)\n",
        "    accuracy = accuracy_score(y_test, y_pred)\n",
        "\n",
        "    # Guardar resultados\n",
        "    results.append((k, accuracy))\n",
        "    print(f\"Número de características: {k}, Precisión: {accuracy:.4f}\")\n",
        "\n",
        "# Mejor valor de k\n",
        "best_k, best_accuracy = max(results, key=lambda x: x[1])\n",
        "print(f\"\\nMejor número de características: {best_k} con precisión de {best_accuracy:.4f}\")\n",
        "\n",
        "# Ajustar modelo con el mejor k\n",
        "final_selector = SelectKBest(score_func=f_classif, k=best_k)\n",
        "final_pipeline = Pipeline([\n",
        "    ('feature_selection', final_selector),\n",
        "    ('scaler', RobustScaler()),\n",
        "    ('model', logistic_regression)\n",
        "])\n",
        "\n",
        "# Entrenamiento final\n",
        "final_pipeline.fit(X_train, y_train)\n",
        "\n",
        "# Características seleccionadas y sus F-Scores\n",
        "selected_features = X_train.columns[final_selector.get_support()]\n",
        "scores = final_selector.scores_[final_selector.get_support()]\n",
        "\n",
        "anova_results = pd.DataFrame({\n",
        "    'Feature': selected_features,\n",
        "    'F-Score': scores\n",
        "}).sort_values(by='F-Score', ascending=False)\n",
        "\n",
        "print(\"\\nCaracterísticas seleccionadas:\")\n",
        "print(anova_results)"
      ],
      "metadata": {
        "colab": {
          "base_uri": "https://localhost:8080/"
        },
        "id": "RRgrTrbvbA0r",
        "outputId": "5ffaac73-77ea-499b-b751-2149e88d7d5f"
      },
      "execution_count": null,
      "outputs": [
        {
          "output_type": "stream",
          "name": "stdout",
          "text": [
            "Número de características: 1, Precisión: 0.9543\n",
            "Número de características: 2, Precisión: 0.9619\n",
            "Número de características: 3, Precisión: 0.9692\n",
            "Número de características: 4, Precisión: 0.9761\n",
            "Número de características: 5, Precisión: 0.9776\n",
            "Número de características: 6, Precisión: 0.9786\n",
            "Número de características: 7, Precisión: 0.9803\n",
            "Número de características: 8, Precisión: 0.9811\n",
            "Número de características: 9, Precisión: 0.9800\n",
            "Número de características: 10, Precisión: 0.9794\n",
            "Número de características: 11, Precisión: 0.9798\n",
            "Número de características: 12, Precisión: 0.9809\n",
            "Número de características: 13, Precisión: 0.9866\n",
            "Número de características: 14, Precisión: 0.9862\n",
            "Número de características: 15, Precisión: 0.9864\n",
            "Número de características: 16, Precisión: 0.9860\n",
            "Número de características: 17, Precisión: 0.9860\n",
            "Número de características: 18, Precisión: 0.9858\n",
            "Número de características: 19, Precisión: 0.9854\n",
            "\n",
            "Mejor número de características: 13 con precisión de 0.9866\n",
            "\n",
            "Características seleccionadas:\n",
            "            Feature      F-Score\n",
            "8           usg_pct  2029.623432\n",
            "4               ast  1260.601202\n",
            "3               reb   745.651691\n",
            "10          ast_pct   404.213618\n",
            "2                gp   201.085672\n",
            "9            ts_pct   134.404460\n",
            "0        draft_year   101.212954\n",
            "1      draft_number   100.224612\n",
            "5        net_rating    78.407778\n",
            "12  college_encoded    39.879347\n",
            "11     team_encoded    36.132945\n",
            "6          oreb_pct    27.214583\n",
            "7          dreb_pct    18.083837\n"
          ]
        }
      ]
    },
    {
      "cell_type": "markdown",
      "source": [
        "### 4.4 Seleción Final de Caracteristicas"
      ],
      "metadata": {
        "id": "wD63ex8mbErl"
      }
    },
    {
      "cell_type": "markdown",
      "source": [
        "El modelo que logró la mejor selección de características fue el modelo **RFE** con **9 características**. Por lo tanto, será integrado en nuestro pipeline.\n",
        "\n",
        "A partir de ahora, crearé la variable **best_accuracy** para rastrear la mejor precisión obtenida hasta el momento.\n"
      ],
      "metadata": {
        "id": "v5DOHzBQbNHC"
      }
    },
    {
      "cell_type": "code",
      "source": [
        "final_rfe = RFE(estimator=logistic_regression, n_features_to_select=9)\n",
        "\n",
        "final_pipeline = Pipeline([\n",
        "    ('scaler', RobustScaler()),\n",
        "    ('feature_selection', final_rfe),\n",
        "    ('model', logistic_regression)\n",
        "])\n",
        "\n",
        "final_pipeline.fit(X_train, y_train)\n",
        "\n",
        "y_pred = final_pipeline.predict(X_test)\n",
        "accuracy = accuracy_score(y_test, y_pred)\n",
        "print(f\"Accuracy do modelo final: {accuracy:.4f}\")\n",
        "best_accuracy = accuracy"
      ],
      "metadata": {
        "colab": {
          "base_uri": "https://localhost:8080/"
        },
        "id": "vRqWblInbqCN",
        "outputId": "e9eed302-91d0-4de6-c191-94442d5c956b"
      },
      "execution_count": null,
      "outputs": [
        {
          "output_type": "stream",
          "name": "stdout",
          "text": [
            "Accuracy do modelo final: 0.9872\n"
          ]
        }
      ]
    },
    {
      "cell_type": "code",
      "source": [
        "best_accuracy"
      ],
      "metadata": {
        "colab": {
          "base_uri": "https://localhost:8080/"
        },
        "id": "3-ZLCksGdoVX",
        "outputId": "f890327b-a0c4-4c5c-d347-676ab0e4dee2"
      },
      "execution_count": null,
      "outputs": [
        {
          "output_type": "execute_result",
          "data": {
            "text/plain": [
              "0.9871545348384585"
            ]
          },
          "metadata": {},
          "execution_count": 37
        }
      ]
    },
    {
      "cell_type": "markdown",
      "source": [
        "## 5 Power Transformer"
      ],
      "metadata": {
        "id": "e3p0zrekb8tZ"
      }
    },
    {
      "cell_type": "markdown",
      "source": [
        "### 5.1 Metodo Yeo-Johnson (Por defecto)"
      ],
      "metadata": {
        "id": "VfAv0ooUiVyw"
      }
    },
    {
      "cell_type": "code",
      "source": [
        "# Pipeline actualizado con PowerTransformer\n",
        "power_pipeline = Pipeline([\n",
        "    ('power_transform', PowerTransformer(method='yeo-johnson')),\n",
        "    ('scaler', RobustScaler()),\n",
        "    ('feature_selection', final_rfe),\n",
        "    ('model', logistic_regression_model)\n",
        "])\n",
        "\n",
        "# Entrenamiento del pipeline\n",
        "power_pipeline.fit(X_train, y_train)\n",
        "\n",
        "# Predicción y evaluación\n",
        "y_pred = power_pipeline.predict(X_test)\n",
        "accuracy = accuracy_score(y_test, y_pred)\n",
        "print(f\"Precisión del modelo con PowerTransformer: {accuracy:.4f}\")\n",
        "\n",
        "# Verificación y actualización del mejor pipeline\n",
        "if accuracy > best_accuracy:\n",
        "    best_accuracy = accuracy\n",
        "    final_pipeline = power_pipeline\n",
        "    print(\"✅ Mejor pipeline actualizado con PowerTransformer.\")\n",
        "else:\n",
        "    print(\"⚠️ El pipeline no fue actualizado.\")"
      ],
      "metadata": {
        "colab": {
          "base_uri": "https://localhost:8080/"
        },
        "id": "2_sUopRyeBL2",
        "outputId": "3dba34c1-681d-4bf0-81aa-7211149c06a9"
      },
      "execution_count": null,
      "outputs": [
        {
          "output_type": "stream",
          "name": "stdout",
          "text": [
            "Precisión del modelo con PowerTransformer: 0.9912\n",
            "✅ Mejor pipeline actualizado con PowerTransformer.\n"
          ]
        }
      ]
    },
    {
      "cell_type": "markdown",
      "source": [
        "### 5.2 Box-Cox"
      ],
      "metadata": {
        "id": "Psu5n99Tiqgp"
      }
    },
    {
      "cell_type": "markdown",
      "source": [
        "Aplicaremos el método Box-Cox aplicando previamente una transformación con MinMaxScaler, ya que el dataset contiene ceros y valores negativos.\n"
      ],
      "metadata": {
        "id": "7uQd0F1WsS-f"
      }
    },
    {
      "cell_type": "code",
      "source": [
        "from sklearn.pipeline import Pipeline\n",
        "from sklearn.preprocessing import MinMaxScaler, PowerTransformer, RobustScaler\n",
        "from sklearn.linear_model import LogisticRegression\n",
        "from sklearn.metrics import accuracy_score\n",
        "\n",
        "# Suponiendo que X_train, X_test, y_train, y_test ya están definidos\n",
        "\n",
        "# Paso 1: Escalar los datos al rango (1, 2) para cumplir con los requisitos de Box-Cox\n",
        "scaler = MinMaxScaler(feature_range=(1, 2))\n",
        "\n",
        "# Paso 2: Aplicar Box-Cox Transformation\n",
        "box_cox_transformer = PowerTransformer(method='box-cox')\n",
        "\n",
        "# Paso 3: Construcción del pipeline con Box-Cox\n",
        "power_pipeline = Pipeline([\n",
        "    ('scaler', scaler),  # Escalado al rango requerido por Box-Cox\n",
        "    ('box_cox_transform', box_cox_transformer),  # Transformación Box-Cox\n",
        "    ('scaler_robust', RobustScaler()),  # Escalado adicional (opcional)\n",
        "    ('feature_selection', final_rfe),  # Selección de características\n",
        "    ('model', logistic_regression_model)  # Modelo final\n",
        "])\n",
        "\n",
        "# Entrenamiento del pipeline\n",
        "power_pipeline.fit(X_train, y_train)\n",
        "\n",
        "# Predicción y evaluación\n",
        "y_pred = power_pipeline.predict(X_test)\n",
        "accuracy = accuracy_score(y_test, y_pred)\n",
        "print(f\"Precisión del modelo con Box-Cox: {accuracy:.4f}\")\n",
        "\n",
        "# Verificación y actualización del mejor pipeline\n",
        "if accuracy > best_accuracy:\n",
        "    best_accuracy = accuracy\n",
        "    final_pipeline = power_pipeline\n",
        "    print(\"✅ Mejor pipeline actualizado con Box-Cox.\")\n",
        "else:\n",
        "    print(\"⚠️ El pipeline no fue actualizado.\")\n"
      ],
      "metadata": {
        "id": "l1iIhHh1sgUQ",
        "outputId": "85d6a967-a8c5-4c9f-d15c-0364f4fde8a3",
        "colab": {
          "base_uri": "https://localhost:8080/"
        }
      },
      "execution_count": null,
      "outputs": [
        {
          "output_type": "stream",
          "name": "stdout",
          "text": [
            "Precisión del modelo con Box-Cox: 0.9905\n",
            "⚠️ El pipeline no fue actualizado.\n"
          ]
        }
      ]
    },
    {
      "cell_type": "code",
      "source": [
        "X_train"
      ],
      "metadata": {
        "colab": {
          "base_uri": "https://localhost:8080/",
          "height": 444
        },
        "id": "0hHLMNEsrT_5",
        "outputId": "915b8fad-f45c-4095-8800-c432fe5f8a98"
      },
      "execution_count": null,
      "outputs": [
        {
          "output_type": "execute_result",
          "data": {
            "text/plain": [
              "        age  player_height  player_weight  draft_year  draft_round  \\\n",
              "5683   24.0         210.82     122.469840        2006            2   \n",
              "7863   29.0         213.36     108.862080        2006            2   \n",
              "7489   22.0         208.28     113.398000           0            0   \n",
              "7582   30.0         205.74     102.058200           0            0   \n",
              "6981   37.0         185.42      86.182480           0            0   \n",
              "...     ...            ...            ...         ...          ...   \n",
              "6616   31.0         203.20     111.130040           0            0   \n",
              "4876   27.0         195.58      97.522280        2003            2   \n",
              "12573  30.0         203.20     115.665960        2011            1   \n",
              "6021   25.0         205.74     116.119552        2007            2   \n",
              "4565   23.0         193.04      96.615096        2006            1   \n",
              "\n",
              "       draft_number  gp   reb  ast  net_rating  oreb_pct  dreb_pct  usg_pct  \\\n",
              "5683             34  27   2.5  0.4        -5.6     0.092     0.147    0.174   \n",
              "7863             50  61   1.5  0.1         6.3     0.076     0.126    0.120   \n",
              "7489              0  70   4.6  0.4         5.4     0.115     0.209    0.147   \n",
              "7582              0  39   2.7  0.3       -10.0     0.143     0.203    0.145   \n",
              "6981              0  24   1.4  1.4        -8.9     0.029     0.151    0.165   \n",
              "...             ...  ..   ...  ...         ...       ...       ...      ...   \n",
              "6616              0  30  11.5  1.3       -11.0     0.178     0.344    0.102   \n",
              "4876             43  59   1.6  1.0         2.6     0.021     0.095    0.151   \n",
              "12573             7  61   4.3  0.9         3.1     0.093     0.184    0.136   \n",
              "6021             41  18   3.3  0.4        -8.1     0.091     0.201    0.097   \n",
              "4565              7  82   2.7  2.8        -5.1     0.031     0.108    0.228   \n",
              "\n",
              "       ts_pct  ast_pct  season  national_player?  team_encoded  \\\n",
              "5683    0.474    0.067    2008                 1      0.054299   \n",
              "7863    0.730    0.026    2013                 1      0.054299   \n",
              "7489    0.636    0.036    2012                 1      0.057737   \n",
              "7582    0.392    0.051    2012                 1      0.055944   \n",
              "6981    0.409    0.296    2011                 1      0.058296   \n",
              "...       ...      ...     ...               ...           ...   \n",
              "6616    0.466    0.070    2010                 1      0.058296   \n",
              "4876    0.546    0.094    2006                 1      0.028037   \n",
              "12573   0.555    0.089    2022                 0      0.053012   \n",
              "6021    0.547    0.051    2009                 1      0.056738   \n",
              "4565    0.536    0.216    2006                 1      0.071942   \n",
              "\n",
              "       college_encoded  \n",
              "5683                 3  \n",
              "7863                 5  \n",
              "7489                 2  \n",
              "7582                 2  \n",
              "6981                 1  \n",
              "...                ...  \n",
              "6616                 2  \n",
              "4876                 5  \n",
              "12573                2  \n",
              "6021                 3  \n",
              "4565                 3  \n",
              "\n",
              "[7706 rows x 19 columns]"
            ],
            "text/html": [
              "\n",
              "  <div id=\"df-fb0153b5-f912-44af-9e91-a0f978151cf6\" class=\"colab-df-container\">\n",
              "    <div>\n",
              "<style scoped>\n",
              "    .dataframe tbody tr th:only-of-type {\n",
              "        vertical-align: middle;\n",
              "    }\n",
              "\n",
              "    .dataframe tbody tr th {\n",
              "        vertical-align: top;\n",
              "    }\n",
              "\n",
              "    .dataframe thead th {\n",
              "        text-align: right;\n",
              "    }\n",
              "</style>\n",
              "<table border=\"1\" class=\"dataframe\">\n",
              "  <thead>\n",
              "    <tr style=\"text-align: right;\">\n",
              "      <th></th>\n",
              "      <th>age</th>\n",
              "      <th>player_height</th>\n",
              "      <th>player_weight</th>\n",
              "      <th>draft_year</th>\n",
              "      <th>draft_round</th>\n",
              "      <th>draft_number</th>\n",
              "      <th>gp</th>\n",
              "      <th>reb</th>\n",
              "      <th>ast</th>\n",
              "      <th>net_rating</th>\n",
              "      <th>oreb_pct</th>\n",
              "      <th>dreb_pct</th>\n",
              "      <th>usg_pct</th>\n",
              "      <th>ts_pct</th>\n",
              "      <th>ast_pct</th>\n",
              "      <th>season</th>\n",
              "      <th>national_player?</th>\n",
              "      <th>team_encoded</th>\n",
              "      <th>college_encoded</th>\n",
              "    </tr>\n",
              "  </thead>\n",
              "  <tbody>\n",
              "    <tr>\n",
              "      <th>5683</th>\n",
              "      <td>24.0</td>\n",
              "      <td>210.82</td>\n",
              "      <td>122.469840</td>\n",
              "      <td>2006</td>\n",
              "      <td>2</td>\n",
              "      <td>34</td>\n",
              "      <td>27</td>\n",
              "      <td>2.5</td>\n",
              "      <td>0.4</td>\n",
              "      <td>-5.6</td>\n",
              "      <td>0.092</td>\n",
              "      <td>0.147</td>\n",
              "      <td>0.174</td>\n",
              "      <td>0.474</td>\n",
              "      <td>0.067</td>\n",
              "      <td>2008</td>\n",
              "      <td>1</td>\n",
              "      <td>0.054299</td>\n",
              "      <td>3</td>\n",
              "    </tr>\n",
              "    <tr>\n",
              "      <th>7863</th>\n",
              "      <td>29.0</td>\n",
              "      <td>213.36</td>\n",
              "      <td>108.862080</td>\n",
              "      <td>2006</td>\n",
              "      <td>2</td>\n",
              "      <td>50</td>\n",
              "      <td>61</td>\n",
              "      <td>1.5</td>\n",
              "      <td>0.1</td>\n",
              "      <td>6.3</td>\n",
              "      <td>0.076</td>\n",
              "      <td>0.126</td>\n",
              "      <td>0.120</td>\n",
              "      <td>0.730</td>\n",
              "      <td>0.026</td>\n",
              "      <td>2013</td>\n",
              "      <td>1</td>\n",
              "      <td>0.054299</td>\n",
              "      <td>5</td>\n",
              "    </tr>\n",
              "    <tr>\n",
              "      <th>7489</th>\n",
              "      <td>22.0</td>\n",
              "      <td>208.28</td>\n",
              "      <td>113.398000</td>\n",
              "      <td>0</td>\n",
              "      <td>0</td>\n",
              "      <td>0</td>\n",
              "      <td>70</td>\n",
              "      <td>4.6</td>\n",
              "      <td>0.4</td>\n",
              "      <td>5.4</td>\n",
              "      <td>0.115</td>\n",
              "      <td>0.209</td>\n",
              "      <td>0.147</td>\n",
              "      <td>0.636</td>\n",
              "      <td>0.036</td>\n",
              "      <td>2012</td>\n",
              "      <td>1</td>\n",
              "      <td>0.057737</td>\n",
              "      <td>2</td>\n",
              "    </tr>\n",
              "    <tr>\n",
              "      <th>7582</th>\n",
              "      <td>30.0</td>\n",
              "      <td>205.74</td>\n",
              "      <td>102.058200</td>\n",
              "      <td>0</td>\n",
              "      <td>0</td>\n",
              "      <td>0</td>\n",
              "      <td>39</td>\n",
              "      <td>2.7</td>\n",
              "      <td>0.3</td>\n",
              "      <td>-10.0</td>\n",
              "      <td>0.143</td>\n",
              "      <td>0.203</td>\n",
              "      <td>0.145</td>\n",
              "      <td>0.392</td>\n",
              "      <td>0.051</td>\n",
              "      <td>2012</td>\n",
              "      <td>1</td>\n",
              "      <td>0.055944</td>\n",
              "      <td>2</td>\n",
              "    </tr>\n",
              "    <tr>\n",
              "      <th>6981</th>\n",
              "      <td>37.0</td>\n",
              "      <td>185.42</td>\n",
              "      <td>86.182480</td>\n",
              "      <td>0</td>\n",
              "      <td>0</td>\n",
              "      <td>0</td>\n",
              "      <td>24</td>\n",
              "      <td>1.4</td>\n",
              "      <td>1.4</td>\n",
              "      <td>-8.9</td>\n",
              "      <td>0.029</td>\n",
              "      <td>0.151</td>\n",
              "      <td>0.165</td>\n",
              "      <td>0.409</td>\n",
              "      <td>0.296</td>\n",
              "      <td>2011</td>\n",
              "      <td>1</td>\n",
              "      <td>0.058296</td>\n",
              "      <td>1</td>\n",
              "    </tr>\n",
              "    <tr>\n",
              "      <th>...</th>\n",
              "      <td>...</td>\n",
              "      <td>...</td>\n",
              "      <td>...</td>\n",
              "      <td>...</td>\n",
              "      <td>...</td>\n",
              "      <td>...</td>\n",
              "      <td>...</td>\n",
              "      <td>...</td>\n",
              "      <td>...</td>\n",
              "      <td>...</td>\n",
              "      <td>...</td>\n",
              "      <td>...</td>\n",
              "      <td>...</td>\n",
              "      <td>...</td>\n",
              "      <td>...</td>\n",
              "      <td>...</td>\n",
              "      <td>...</td>\n",
              "      <td>...</td>\n",
              "      <td>...</td>\n",
              "    </tr>\n",
              "    <tr>\n",
              "      <th>6616</th>\n",
              "      <td>31.0</td>\n",
              "      <td>203.20</td>\n",
              "      <td>111.130040</td>\n",
              "      <td>0</td>\n",
              "      <td>0</td>\n",
              "      <td>0</td>\n",
              "      <td>30</td>\n",
              "      <td>11.5</td>\n",
              "      <td>1.3</td>\n",
              "      <td>-11.0</td>\n",
              "      <td>0.178</td>\n",
              "      <td>0.344</td>\n",
              "      <td>0.102</td>\n",
              "      <td>0.466</td>\n",
              "      <td>0.070</td>\n",
              "      <td>2010</td>\n",
              "      <td>1</td>\n",
              "      <td>0.058296</td>\n",
              "      <td>2</td>\n",
              "    </tr>\n",
              "    <tr>\n",
              "      <th>4876</th>\n",
              "      <td>27.0</td>\n",
              "      <td>195.58</td>\n",
              "      <td>97.522280</td>\n",
              "      <td>2003</td>\n",
              "      <td>2</td>\n",
              "      <td>43</td>\n",
              "      <td>59</td>\n",
              "      <td>1.6</td>\n",
              "      <td>1.0</td>\n",
              "      <td>2.6</td>\n",
              "      <td>0.021</td>\n",
              "      <td>0.095</td>\n",
              "      <td>0.151</td>\n",
              "      <td>0.546</td>\n",
              "      <td>0.094</td>\n",
              "      <td>2006</td>\n",
              "      <td>1</td>\n",
              "      <td>0.028037</td>\n",
              "      <td>5</td>\n",
              "    </tr>\n",
              "    <tr>\n",
              "      <th>12573</th>\n",
              "      <td>30.0</td>\n",
              "      <td>203.20</td>\n",
              "      <td>115.665960</td>\n",
              "      <td>2011</td>\n",
              "      <td>1</td>\n",
              "      <td>7</td>\n",
              "      <td>61</td>\n",
              "      <td>4.3</td>\n",
              "      <td>0.9</td>\n",
              "      <td>3.1</td>\n",
              "      <td>0.093</td>\n",
              "      <td>0.184</td>\n",
              "      <td>0.136</td>\n",
              "      <td>0.555</td>\n",
              "      <td>0.089</td>\n",
              "      <td>2022</td>\n",
              "      <td>0</td>\n",
              "      <td>0.053012</td>\n",
              "      <td>2</td>\n",
              "    </tr>\n",
              "    <tr>\n",
              "      <th>6021</th>\n",
              "      <td>25.0</td>\n",
              "      <td>205.74</td>\n",
              "      <td>116.119552</td>\n",
              "      <td>2007</td>\n",
              "      <td>2</td>\n",
              "      <td>41</td>\n",
              "      <td>18</td>\n",
              "      <td>3.3</td>\n",
              "      <td>0.4</td>\n",
              "      <td>-8.1</td>\n",
              "      <td>0.091</td>\n",
              "      <td>0.201</td>\n",
              "      <td>0.097</td>\n",
              "      <td>0.547</td>\n",
              "      <td>0.051</td>\n",
              "      <td>2009</td>\n",
              "      <td>1</td>\n",
              "      <td>0.056738</td>\n",
              "      <td>3</td>\n",
              "    </tr>\n",
              "    <tr>\n",
              "      <th>4565</th>\n",
              "      <td>23.0</td>\n",
              "      <td>193.04</td>\n",
              "      <td>96.615096</td>\n",
              "      <td>2006</td>\n",
              "      <td>1</td>\n",
              "      <td>7</td>\n",
              "      <td>82</td>\n",
              "      <td>2.7</td>\n",
              "      <td>2.8</td>\n",
              "      <td>-5.1</td>\n",
              "      <td>0.031</td>\n",
              "      <td>0.108</td>\n",
              "      <td>0.228</td>\n",
              "      <td>0.536</td>\n",
              "      <td>0.216</td>\n",
              "      <td>2006</td>\n",
              "      <td>1</td>\n",
              "      <td>0.071942</td>\n",
              "      <td>3</td>\n",
              "    </tr>\n",
              "  </tbody>\n",
              "</table>\n",
              "<p>7706 rows × 19 columns</p>\n",
              "</div>\n",
              "    <div class=\"colab-df-buttons\">\n",
              "\n",
              "  <div class=\"colab-df-container\">\n",
              "    <button class=\"colab-df-convert\" onclick=\"convertToInteractive('df-fb0153b5-f912-44af-9e91-a0f978151cf6')\"\n",
              "            title=\"Convert this dataframe to an interactive table.\"\n",
              "            style=\"display:none;\">\n",
              "\n",
              "  <svg xmlns=\"http://www.w3.org/2000/svg\" height=\"24px\" viewBox=\"0 -960 960 960\">\n",
              "    <path d=\"M120-120v-720h720v720H120Zm60-500h600v-160H180v160Zm220 220h160v-160H400v160Zm0 220h160v-160H400v160ZM180-400h160v-160H180v160Zm440 0h160v-160H620v160ZM180-180h160v-160H180v160Zm440 0h160v-160H620v160Z\"/>\n",
              "  </svg>\n",
              "    </button>\n",
              "\n",
              "  <style>\n",
              "    .colab-df-container {\n",
              "      display:flex;\n",
              "      gap: 12px;\n",
              "    }\n",
              "\n",
              "    .colab-df-convert {\n",
              "      background-color: #E8F0FE;\n",
              "      border: none;\n",
              "      border-radius: 50%;\n",
              "      cursor: pointer;\n",
              "      display: none;\n",
              "      fill: #1967D2;\n",
              "      height: 32px;\n",
              "      padding: 0 0 0 0;\n",
              "      width: 32px;\n",
              "    }\n",
              "\n",
              "    .colab-df-convert:hover {\n",
              "      background-color: #E2EBFA;\n",
              "      box-shadow: 0px 1px 2px rgba(60, 64, 67, 0.3), 0px 1px 3px 1px rgba(60, 64, 67, 0.15);\n",
              "      fill: #174EA6;\n",
              "    }\n",
              "\n",
              "    .colab-df-buttons div {\n",
              "      margin-bottom: 4px;\n",
              "    }\n",
              "\n",
              "    [theme=dark] .colab-df-convert {\n",
              "      background-color: #3B4455;\n",
              "      fill: #D2E3FC;\n",
              "    }\n",
              "\n",
              "    [theme=dark] .colab-df-convert:hover {\n",
              "      background-color: #434B5C;\n",
              "      box-shadow: 0px 1px 3px 1px rgba(0, 0, 0, 0.15);\n",
              "      filter: drop-shadow(0px 1px 2px rgba(0, 0, 0, 0.3));\n",
              "      fill: #FFFFFF;\n",
              "    }\n",
              "  </style>\n",
              "\n",
              "    <script>\n",
              "      const buttonEl =\n",
              "        document.querySelector('#df-fb0153b5-f912-44af-9e91-a0f978151cf6 button.colab-df-convert');\n",
              "      buttonEl.style.display =\n",
              "        google.colab.kernel.accessAllowed ? 'block' : 'none';\n",
              "\n",
              "      async function convertToInteractive(key) {\n",
              "        const element = document.querySelector('#df-fb0153b5-f912-44af-9e91-a0f978151cf6');\n",
              "        const dataTable =\n",
              "          await google.colab.kernel.invokeFunction('convertToInteractive',\n",
              "                                                    [key], {});\n",
              "        if (!dataTable) return;\n",
              "\n",
              "        const docLinkHtml = 'Like what you see? Visit the ' +\n",
              "          '<a target=\"_blank\" href=https://colab.research.google.com/notebooks/data_table.ipynb>data table notebook</a>'\n",
              "          + ' to learn more about interactive tables.';\n",
              "        element.innerHTML = '';\n",
              "        dataTable['output_type'] = 'display_data';\n",
              "        await google.colab.output.renderOutput(dataTable, element);\n",
              "        const docLink = document.createElement('div');\n",
              "        docLink.innerHTML = docLinkHtml;\n",
              "        element.appendChild(docLink);\n",
              "      }\n",
              "    </script>\n",
              "  </div>\n",
              "\n",
              "\n",
              "<div id=\"df-8db6e57e-23fe-4c08-a990-2a14f5e3ce93\">\n",
              "  <button class=\"colab-df-quickchart\" onclick=\"quickchart('df-8db6e57e-23fe-4c08-a990-2a14f5e3ce93')\"\n",
              "            title=\"Suggest charts\"\n",
              "            style=\"display:none;\">\n",
              "\n",
              "<svg xmlns=\"http://www.w3.org/2000/svg\" height=\"24px\"viewBox=\"0 0 24 24\"\n",
              "     width=\"24px\">\n",
              "    <g>\n",
              "        <path d=\"M19 3H5c-1.1 0-2 .9-2 2v14c0 1.1.9 2 2 2h14c1.1 0 2-.9 2-2V5c0-1.1-.9-2-2-2zM9 17H7v-7h2v7zm4 0h-2V7h2v10zm4 0h-2v-4h2v4z\"/>\n",
              "    </g>\n",
              "</svg>\n",
              "  </button>\n",
              "\n",
              "<style>\n",
              "  .colab-df-quickchart {\n",
              "      --bg-color: #E8F0FE;\n",
              "      --fill-color: #1967D2;\n",
              "      --hover-bg-color: #E2EBFA;\n",
              "      --hover-fill-color: #174EA6;\n",
              "      --disabled-fill-color: #AAA;\n",
              "      --disabled-bg-color: #DDD;\n",
              "  }\n",
              "\n",
              "  [theme=dark] .colab-df-quickchart {\n",
              "      --bg-color: #3B4455;\n",
              "      --fill-color: #D2E3FC;\n",
              "      --hover-bg-color: #434B5C;\n",
              "      --hover-fill-color: #FFFFFF;\n",
              "      --disabled-bg-color: #3B4455;\n",
              "      --disabled-fill-color: #666;\n",
              "  }\n",
              "\n",
              "  .colab-df-quickchart {\n",
              "    background-color: var(--bg-color);\n",
              "    border: none;\n",
              "    border-radius: 50%;\n",
              "    cursor: pointer;\n",
              "    display: none;\n",
              "    fill: var(--fill-color);\n",
              "    height: 32px;\n",
              "    padding: 0;\n",
              "    width: 32px;\n",
              "  }\n",
              "\n",
              "  .colab-df-quickchart:hover {\n",
              "    background-color: var(--hover-bg-color);\n",
              "    box-shadow: 0 1px 2px rgba(60, 64, 67, 0.3), 0 1px 3px 1px rgba(60, 64, 67, 0.15);\n",
              "    fill: var(--button-hover-fill-color);\n",
              "  }\n",
              "\n",
              "  .colab-df-quickchart-complete:disabled,\n",
              "  .colab-df-quickchart-complete:disabled:hover {\n",
              "    background-color: var(--disabled-bg-color);\n",
              "    fill: var(--disabled-fill-color);\n",
              "    box-shadow: none;\n",
              "  }\n",
              "\n",
              "  .colab-df-spinner {\n",
              "    border: 2px solid var(--fill-color);\n",
              "    border-color: transparent;\n",
              "    border-bottom-color: var(--fill-color);\n",
              "    animation:\n",
              "      spin 1s steps(1) infinite;\n",
              "  }\n",
              "\n",
              "  @keyframes spin {\n",
              "    0% {\n",
              "      border-color: transparent;\n",
              "      border-bottom-color: var(--fill-color);\n",
              "      border-left-color: var(--fill-color);\n",
              "    }\n",
              "    20% {\n",
              "      border-color: transparent;\n",
              "      border-left-color: var(--fill-color);\n",
              "      border-top-color: var(--fill-color);\n",
              "    }\n",
              "    30% {\n",
              "      border-color: transparent;\n",
              "      border-left-color: var(--fill-color);\n",
              "      border-top-color: var(--fill-color);\n",
              "      border-right-color: var(--fill-color);\n",
              "    }\n",
              "    40% {\n",
              "      border-color: transparent;\n",
              "      border-right-color: var(--fill-color);\n",
              "      border-top-color: var(--fill-color);\n",
              "    }\n",
              "    60% {\n",
              "      border-color: transparent;\n",
              "      border-right-color: var(--fill-color);\n",
              "    }\n",
              "    80% {\n",
              "      border-color: transparent;\n",
              "      border-right-color: var(--fill-color);\n",
              "      border-bottom-color: var(--fill-color);\n",
              "    }\n",
              "    90% {\n",
              "      border-color: transparent;\n",
              "      border-bottom-color: var(--fill-color);\n",
              "    }\n",
              "  }\n",
              "</style>\n",
              "\n",
              "  <script>\n",
              "    async function quickchart(key) {\n",
              "      const quickchartButtonEl =\n",
              "        document.querySelector('#' + key + ' button');\n",
              "      quickchartButtonEl.disabled = true;  // To prevent multiple clicks.\n",
              "      quickchartButtonEl.classList.add('colab-df-spinner');\n",
              "      try {\n",
              "        const charts = await google.colab.kernel.invokeFunction(\n",
              "            'suggestCharts', [key], {});\n",
              "      } catch (error) {\n",
              "        console.error('Error during call to suggestCharts:', error);\n",
              "      }\n",
              "      quickchartButtonEl.classList.remove('colab-df-spinner');\n",
              "      quickchartButtonEl.classList.add('colab-df-quickchart-complete');\n",
              "    }\n",
              "    (() => {\n",
              "      let quickchartButtonEl =\n",
              "        document.querySelector('#df-8db6e57e-23fe-4c08-a990-2a14f5e3ce93 button');\n",
              "      quickchartButtonEl.style.display =\n",
              "        google.colab.kernel.accessAllowed ? 'block' : 'none';\n",
              "    })();\n",
              "  </script>\n",
              "</div>\n",
              "\n",
              "  <div id=\"id_41e39962-2e04-4dc9-837e-2452819761be\">\n",
              "    <style>\n",
              "      .colab-df-generate {\n",
              "        background-color: #E8F0FE;\n",
              "        border: none;\n",
              "        border-radius: 50%;\n",
              "        cursor: pointer;\n",
              "        display: none;\n",
              "        fill: #1967D2;\n",
              "        height: 32px;\n",
              "        padding: 0 0 0 0;\n",
              "        width: 32px;\n",
              "      }\n",
              "\n",
              "      .colab-df-generate:hover {\n",
              "        background-color: #E2EBFA;\n",
              "        box-shadow: 0px 1px 2px rgba(60, 64, 67, 0.3), 0px 1px 3px 1px rgba(60, 64, 67, 0.15);\n",
              "        fill: #174EA6;\n",
              "      }\n",
              "\n",
              "      [theme=dark] .colab-df-generate {\n",
              "        background-color: #3B4455;\n",
              "        fill: #D2E3FC;\n",
              "      }\n",
              "\n",
              "      [theme=dark] .colab-df-generate:hover {\n",
              "        background-color: #434B5C;\n",
              "        box-shadow: 0px 1px 3px 1px rgba(0, 0, 0, 0.15);\n",
              "        filter: drop-shadow(0px 1px 2px rgba(0, 0, 0, 0.3));\n",
              "        fill: #FFFFFF;\n",
              "      }\n",
              "    </style>\n",
              "    <button class=\"colab-df-generate\" onclick=\"generateWithVariable('X_train')\"\n",
              "            title=\"Generate code using this dataframe.\"\n",
              "            style=\"display:none;\">\n",
              "\n",
              "  <svg xmlns=\"http://www.w3.org/2000/svg\" height=\"24px\"viewBox=\"0 0 24 24\"\n",
              "       width=\"24px\">\n",
              "    <path d=\"M7,19H8.4L18.45,9,17,7.55,7,17.6ZM5,21V16.75L18.45,3.32a2,2,0,0,1,2.83,0l1.4,1.43a1.91,1.91,0,0,1,.58,1.4,1.91,1.91,0,0,1-.58,1.4L9.25,21ZM18.45,9,17,7.55Zm-12,3A5.31,5.31,0,0,0,4.9,8.1,5.31,5.31,0,0,0,1,6.5,5.31,5.31,0,0,0,4.9,4.9,5.31,5.31,0,0,0,6.5,1,5.31,5.31,0,0,0,8.1,4.9,5.31,5.31,0,0,0,12,6.5,5.46,5.46,0,0,0,6.5,12Z\"/>\n",
              "  </svg>\n",
              "    </button>\n",
              "    <script>\n",
              "      (() => {\n",
              "      const buttonEl =\n",
              "        document.querySelector('#id_41e39962-2e04-4dc9-837e-2452819761be button.colab-df-generate');\n",
              "      buttonEl.style.display =\n",
              "        google.colab.kernel.accessAllowed ? 'block' : 'none';\n",
              "\n",
              "      buttonEl.onclick = () => {\n",
              "        google.colab.notebook.generateWithVariable('X_train');\n",
              "      }\n",
              "      })();\n",
              "    </script>\n",
              "  </div>\n",
              "\n",
              "    </div>\n",
              "  </div>\n"
            ],
            "application/vnd.google.colaboratory.intrinsic+json": {
              "type": "dataframe",
              "variable_name": "X_train",
              "summary": "{\n  \"name\": \"X_train\",\n  \"rows\": 7706,\n  \"fields\": [\n    {\n      \"column\": \"age\",\n      \"properties\": {\n        \"dtype\": \"number\",\n        \"std\": 4.337836739629456,\n        \"min\": 18.0,\n        \"max\": 44.0,\n        \"num_unique_values\": 27,\n        \"samples\": [\n          34.0,\n          20.0,\n          28.0\n        ],\n        \"semantic_type\": \"\",\n        \"description\": \"\"\n      }\n    },\n    {\n      \"column\": \"player_height\",\n      \"properties\": {\n        \"dtype\": \"number\",\n        \"std\": 9.105896313217395,\n        \"min\": 160.02,\n        \"max\": 231.14,\n        \"num_unique_values\": 29,\n        \"samples\": [\n          203.0,\n          215.9,\n          226.06\n        ],\n        \"semantic_type\": \"\",\n        \"description\": \"\"\n      }\n    },\n    {\n      \"column\": \"player_weight\",\n      \"properties\": {\n        \"dtype\": \"number\",\n        \"std\": 12.486027913897669,\n        \"min\": 60.327736,\n        \"max\": 155.582056,\n        \"num_unique_values\": 148,\n        \"samples\": [\n          126.552168,\n          93.893544,\n          73.935496\n        ],\n        \"semantic_type\": \"\",\n        \"description\": \"\"\n      }\n    },\n    {\n      \"column\": \"draft_year\",\n      \"properties\": {\n        \"dtype\": \"number\",\n        \"std\": 781,\n        \"min\": 0,\n        \"max\": 2022,\n        \"num_unique_values\": 48,\n        \"samples\": [\n          1992,\n          1978,\n          1987\n        ],\n        \"semantic_type\": \"\",\n        \"description\": \"\"\n      }\n    },\n    {\n      \"column\": \"draft_round\",\n      \"properties\": {\n        \"dtype\": \"number\",\n        \"std\": 0,\n        \"min\": 0,\n        \"max\": 8,\n        \"num_unique_values\": 8,\n        \"samples\": [\n          0,\n          6,\n          2\n        ],\n        \"semantic_type\": \"\",\n        \"description\": \"\"\n      }\n    },\n    {\n      \"column\": \"draft_number\",\n      \"properties\": {\n        \"dtype\": \"number\",\n        \"std\": 16,\n        \"min\": 0,\n        \"max\": 165,\n        \"num_unique_values\": 71,\n        \"samples\": [\n          11,\n          34,\n          58\n        ],\n        \"semantic_type\": \"\",\n        \"description\": \"\"\n      }\n    },\n    {\n      \"column\": \"gp\",\n      \"properties\": {\n        \"dtype\": \"number\",\n        \"std\": 25,\n        \"min\": 1,\n        \"max\": 85,\n        \"num_unique_values\": 85,\n        \"samples\": [\n          12,\n          27,\n          40\n        ],\n        \"semantic_type\": \"\",\n        \"description\": \"\"\n      }\n    },\n    {\n      \"column\": \"reb\",\n      \"properties\": {\n        \"dtype\": \"number\",\n        \"std\": 2.4677998235964047,\n        \"min\": 0.0,\n        \"max\": 16.1,\n        \"num_unique_values\": 147,\n        \"samples\": [\n          12.9,\n          6.4,\n          14.5\n        ],\n        \"semantic_type\": \"\",\n        \"description\": \"\"\n      }\n    },\n    {\n      \"column\": \"ast\",\n      \"properties\": {\n        \"dtype\": \"number\",\n        \"std\": 1.7994795986641003,\n        \"min\": 0.0,\n        \"max\": 11.7,\n        \"num_unique_values\": 114,\n        \"samples\": [\n          8.9,\n          1.7,\n          3.0\n        ],\n        \"semantic_type\": \"\",\n        \"description\": \"\"\n      }\n    },\n    {\n      \"column\": \"net_rating\",\n      \"properties\": {\n        \"dtype\": \"number\",\n        \"std\": 12.785744113367803,\n        \"min\": -250.0,\n        \"max\": 300.0,\n        \"num_unique_values\": 657,\n        \"samples\": [\n          -28.8,\n          12.6,\n          11.9\n        ],\n        \"semantic_type\": \"\",\n        \"description\": \"\"\n      }\n    },\n    {\n      \"column\": \"oreb_pct\",\n      \"properties\": {\n        \"dtype\": \"number\",\n        \"std\": 0.04358923354673146,\n        \"min\": 0.0,\n        \"max\": 1.0,\n        \"num_unique_values\": 211,\n        \"samples\": [\n          0.053,\n          0.157,\n          0.124\n        ],\n        \"semantic_type\": \"\",\n        \"description\": \"\"\n      }\n    },\n    {\n      \"column\": \"dreb_pct\",\n      \"properties\": {\n        \"dtype\": \"number\",\n        \"std\": 0.06255303133539922,\n        \"min\": 0.0,\n        \"max\": 1.0,\n        \"num_unique_values\": 328,\n        \"samples\": [\n          0.24,\n          0.083,\n          0.295\n        ],\n        \"semantic_type\": \"\",\n        \"description\": \"\"\n      }\n    },\n    {\n      \"column\": \"usg_pct\",\n      \"properties\": {\n        \"dtype\": \"number\",\n        \"std\": 0.053617286319931526,\n        \"min\": 0.0,\n        \"max\": 1.0,\n        \"num_unique_values\": 328,\n        \"samples\": [\n          0.36,\n          0.136,\n          0.025\n        ],\n        \"semantic_type\": \"\",\n        \"description\": \"\"\n      }\n    },\n    {\n      \"column\": \"ts_pct\",\n      \"properties\": {\n        \"dtype\": \"number\",\n        \"std\": 0.10031143127213828,\n        \"min\": 0.0,\n        \"max\": 1.5,\n        \"num_unique_values\": 513,\n        \"samples\": [\n          0.348,\n          0.145,\n          0.6559999999999999\n        ],\n        \"semantic_type\": \"\",\n        \"description\": \"\"\n      }\n    },\n    {\n      \"column\": \"ast_pct\",\n      \"properties\": {\n        \"dtype\": \"number\",\n        \"std\": 0.09390375013058391,\n        \"min\": 0.0,\n        \"max\": 1.0,\n        \"num_unique_values\": 463,\n        \"samples\": [\n          0.3939999999999999,\n          0.173,\n          0.077\n        ],\n        \"semantic_type\": \"\",\n        \"description\": \"\"\n      }\n    },\n    {\n      \"column\": \"season\",\n      \"properties\": {\n        \"dtype\": \"number\",\n        \"std\": 7,\n        \"min\": 1996,\n        \"max\": 2022,\n        \"num_unique_values\": 27,\n        \"samples\": [\n          2001,\n          2003,\n          2021\n        ],\n        \"semantic_type\": \"\",\n        \"description\": \"\"\n      }\n    },\n    {\n      \"column\": \"national_player?\",\n      \"properties\": {\n        \"dtype\": \"number\",\n        \"std\": 0,\n        \"min\": 0,\n        \"max\": 1,\n        \"num_unique_values\": 2,\n        \"samples\": [\n          0,\n          1\n        ],\n        \"semantic_type\": \"\",\n        \"description\": \"\"\n      }\n    },\n    {\n      \"column\": \"team_encoded\",\n      \"properties\": {\n        \"dtype\": \"number\",\n        \"std\": 0.015998844693020514,\n        \"min\": 0.0,\n        \"max\": 0.10857142857142857,\n        \"num_unique_values\": 35,\n        \"samples\": [\n          0.06698564593301436,\n          0.056179775280898875\n        ],\n        \"semantic_type\": \"\",\n        \"description\": \"\"\n      }\n    },\n    {\n      \"column\": \"college_encoded\",\n      \"properties\": {\n        \"dtype\": \"number\",\n        \"std\": 1,\n        \"min\": 1,\n        \"max\": 5,\n        \"num_unique_values\": 5,\n        \"samples\": [\n          5,\n          4\n        ],\n        \"semantic_type\": \"\",\n        \"description\": \"\"\n      }\n    }\n  ]\n}"
            }
          },
          "metadata": {},
          "execution_count": 40
        }
      ]
    },
    {
      "cell_type": "markdown",
      "source": [
        "### 5.3 Seleción Power Transformer"
      ],
      "metadata": {
        "id": "3pza1gVzlmYI"
      }
    },
    {
      "cell_type": "code",
      "source": [
        "print(final_pipeline)"
      ],
      "metadata": {
        "colab": {
          "base_uri": "https://localhost:8080/"
        },
        "id": "UwE7g86ri2TA",
        "outputId": "b4b25a97-b785-4145-bed2-6a74069a4d1f"
      },
      "execution_count": null,
      "outputs": [
        {
          "output_type": "stream",
          "name": "stdout",
          "text": [
            "Pipeline(steps=[('power_transform', PowerTransformer()),\n",
            "                ('scaler', RobustScaler()),\n",
            "                ('feature_selection',\n",
            "                 RFE(estimator=LogisticRegression(C=10, max_iter=500,\n",
            "                                                  random_state=42),\n",
            "                     n_features_to_select=9)),\n",
            "                ('model',\n",
            "                 LogisticRegression(C=10, max_iter=500, random_state=42))])\n"
          ]
        }
      ]
    },
    {
      "cell_type": "markdown",
      "source": [
        "## 6 Numerical Transform"
      ],
      "metadata": {
        "id": "L07MHZDcoj6C"
      }
    },
    {
      "cell_type": "markdown",
      "source": [
        "### 6.1 Uniform Quartile Transform"
      ],
      "metadata": {
        "id": "lhqj7w5mn6mJ"
      }
    },
    {
      "cell_type": "code",
      "source": [
        "quantile_pipeline = Pipeline([\n",
        "    ('power_transform', PowerTransformer()),\n",
        "    ('quantile_transform', QuantileTransformer(output_distribution='normal')),\n",
        "    ('scaler', RobustScaler()),\n",
        "    ('feature_selection', final_rfe),\n",
        "    ('model', logistic_regression_model)\n",
        "])\n",
        "\n",
        "quantile_pipeline.fit(X_train, y_train)\n",
        "y_pred = quantile_pipeline.predict(X_test)\n",
        "accuracy = accuracy_score(y_test, y_pred)\n",
        "print(f\"Acurácia com QuantileTransformer: {accuracy:.4f}\")\n",
        "\n",
        "# Verificación y actualización del mejor pipeline\n",
        "if accuracy > best_accuracy:\n",
        "    best_accuracy = accuracy\n",
        "    final_pipeline = power_pipeline\n",
        "    print(\"✅ Mejor pipeline actualizado con PowerTransformer.\")\n",
        "else:\n",
        "    print(\"⚠️ El pipeline no fue actualizado.\")"
      ],
      "metadata": {
        "colab": {
          "base_uri": "https://localhost:8080/"
        },
        "id": "I9jSm7munqoA",
        "outputId": "bf5e0da4-808c-49c4-f3c6-492dd42b64ca"
      },
      "execution_count": null,
      "outputs": [
        {
          "output_type": "stream",
          "name": "stdout",
          "text": [
            "Acurácia com QuantileTransformer: 0.9899\n",
            "⚠️ El pipeline no fue actualizado.\n"
          ]
        }
      ]
    },
    {
      "cell_type": "markdown",
      "source": [
        "### 6.2 Uniform Quartile Transformation"
      ],
      "metadata": {
        "id": "qwgO9KrKoFkv"
      }
    },
    {
      "cell_type": "code",
      "source": [
        "# Aplicación\n",
        "uniform_pipeline = Pipeline([\n",
        "    ('power_transform', PowerTransformer()),\n",
        "    ('quantile_transform', QuantileTransformer(output_distribution='uniform')),\n",
        "    ('scaler', RobustScaler()),\n",
        "    ('feature_selection', final_rfe),\n",
        "    ('model', logistic_regression_model)\n",
        "])\n",
        "\n",
        "uniform_pipeline.fit(X_train, y_train)\n",
        "y_pred = uniform_pipeline.predict(X_test)\n",
        "accuracy = accuracy_score(y_test, y_pred)\n",
        "print(f\"Acurácia com QuantileTransformer: {accuracy:.4f}\")\n",
        "\n",
        "# Verificación y actualización del mejor pipeline\n",
        "if accuracy > best_accuracy:\n",
        "    best_accuracy = accuracy\n",
        "    final_pipeline = power_pipeline\n",
        "    print(\"✅ Mejor pipeline actualizado con PowerTransformer.\")\n",
        "else:\n",
        "    print(\"⚠️ El pipeline no fue actualizado.\")"
      ],
      "metadata": {
        "colab": {
          "base_uri": "https://localhost:8080/"
        },
        "id": "9xYz2citoorD",
        "outputId": "4bfa10ab-1878-4b2e-f524-a170134a3a74"
      },
      "execution_count": null,
      "outputs": [
        {
          "output_type": "stream",
          "name": "stdout",
          "text": [
            "Acurácia com QuantileTransformer: 0.9895\n",
            "⚠️ El pipeline no fue actualizado.\n"
          ]
        }
      ]
    },
    {
      "cell_type": "markdown",
      "source": [
        "## 7 Polinomial Features"
      ],
      "metadata": {
        "id": "thowDGnsq5HM"
      }
    },
    {
      "cell_type": "code",
      "source": [
        "# Ajuste en el número de iteraciones sin cambiar hiperparámetros\n",
        "logistic_regression_model.set_params(max_iter=2000)\n",
        "\n",
        "# Pipeline con PolynomialFeatures integrado\n",
        "poly_pipeline = Pipeline([\n",
        "    ('poly_features', PolynomialFeatures(degree=2, include_bias=False)),  # Generación de características polinomiales\n",
        "    ('power_transform', PowerTransformer(method='yeo-johnson')),\n",
        "    ('scaler', RobustScaler()),\n",
        "    ('feature_selection', final_rfe),\n",
        "    ('model', logistic_regression_model)\n",
        "])\n",
        "\n",
        "# Entrenamiento con supresión de advertencias de convergencia\n",
        "with warnings.catch_warnings():\n",
        "    warnings.simplefilter(\"ignore\", ConvergenceWarning)\n",
        "    poly_pipeline.fit(X_train, y_train)\n",
        "\n",
        "# Predicción y evaluación\n",
        "y_pred = poly_pipeline.predict(X_test)\n",
        "accuracy = accuracy_score(y_test, y_pred)\n",
        "print(f\"Precisión con PolynomialFeatures: {accuracy:.4f}\")\n",
        "\n",
        "# Verificación y actualización del mejor pipeline\n",
        "if accuracy > best_accuracy:\n",
        "    best_accuracy = accuracy\n",
        "    final_pipeline = power_pipeline\n",
        "    print(\"✅ Mejor pipeline actualizado con PowerTransformer.\")\n",
        "else:\n",
        "    print(\"⚠️ El pipeline no fue actualizado.\")"
      ],
      "metadata": {
        "colab": {
          "base_uri": "https://localhost:8080/"
        },
        "id": "Wxa4aGLJq7Rm",
        "outputId": "7e3a53f4-1873-4cf0-b763-b0edb1d63ab2"
      },
      "execution_count": null,
      "outputs": [
        {
          "output_type": "stream",
          "name": "stdout",
          "text": [
            "Precisión con PolynomialFeatures: 0.9903\n",
            "⚠️ El pipeline no fue actualizado.\n"
          ]
        }
      ]
    },
    {
      "cell_type": "code",
      "source": [
        "# Ajuste en el número de iteraciones sin cambiar hiperparámetros\n",
        "logistic_regression_model.set_params(max_iter=2000)\n",
        "\n",
        "# Pipeline con PolynomialFeatures integrado\n",
        "poly_pipeline = Pipeline([\n",
        "    ('poly_features', PolynomialFeatures(degree=1, include_bias=True)),  # Generación de características polinomiales\n",
        "    ('power_transform', PowerTransformer(method='yeo-johnson')),\n",
        "    ('scaler', RobustScaler()),\n",
        "    ('feature_selection', final_rfe),\n",
        "    ('model', logistic_regression_model)\n",
        "])\n",
        "\n",
        "# Entrenamiento con supresión de advertencias de convergencia\n",
        "with warnings.catch_warnings():\n",
        "    warnings.simplefilter(\"ignore\", ConvergenceWarning)\n",
        "    poly_pipeline.fit(X_train, y_train)\n",
        "\n",
        "# Predicción y evaluación\n",
        "y_pred = poly_pipeline.predict(X_test)\n",
        "accuracy = accuracy_score(y_test, y_pred)\n",
        "print(f\"Precisión con PolynomialFeatures: {accuracy:.4f}\")\n",
        "\n",
        "# Verificación y actualización del mejor pipeline\n",
        "if accuracy > best_accuracy:\n",
        "    best_accuracy = accuracy\n",
        "    final_pipeline = power_pipeline\n",
        "    print(\"✅ Mejor pipeline actualizado con PowerTransformer.\")\n",
        "else:\n",
        "    print(\"⚠️ El pipeline no fue actualizado.\")"
      ],
      "metadata": {
        "colab": {
          "base_uri": "https://localhost:8080/"
        },
        "id": "EgHyGSQf15Pp",
        "outputId": "c2caaba3-e17e-41da-d11e-ad2262bd5975"
      },
      "execution_count": null,
      "outputs": [
        {
          "output_type": "stream",
          "name": "stdout",
          "text": [
            "Precisión con PolynomialFeatures: 0.9912\n",
            "⚠️ El pipeline no fue actualizado.\n"
          ]
        }
      ]
    },
    {
      "cell_type": "markdown",
      "source": [
        "## 8 Conclusión"
      ],
      "metadata": {
        "id": "fmT5q1WztBGp"
      }
    },
    {
      "cell_type": "code",
      "source": [
        "print(\"\\033[1m El mejor pipeline encontrado a partir de aplicación de múltiples estrategias de preparación de datos fue:\\033[0m\")\n",
        "print(final_pipeline)\n"
      ],
      "metadata": {
        "colab": {
          "base_uri": "https://localhost:8080/"
        },
        "id": "mOi1xNoDtEfQ",
        "outputId": "9c312b4a-ef17-461d-8a2d-f9ee7cca9377"
      },
      "execution_count": null,
      "outputs": [
        {
          "output_type": "stream",
          "name": "stdout",
          "text": [
            "\u001b[1m El mejor pipeline encontrado a partir de aplicación de múltiples estrategias de preparación de datos fue:\u001b[0m\n",
            "Pipeline(steps=[('power_transform', PowerTransformer()),\n",
            "                ('scaler', RobustScaler()),\n",
            "                ('feature_selection',\n",
            "                 RFE(estimator=LogisticRegression(C=10, max_iter=500,\n",
            "                                                  random_state=42),\n",
            "                     n_features_to_select=9)),\n",
            "                ('model',\n",
            "                 LogisticRegression(C=10, max_iter=2000, random_state=42))])\n"
          ]
        }
      ]
    },
    {
      "cell_type": "code",
      "source": [
        "print(\"\\033[1m La mejor accuracy encontrada a partir de aplicación de múltiples estrategias de preparación de datos fue:\\033[0m\")\n",
        "print(f\"{best_accuracy*100:.2f}%\")"
      ],
      "metadata": {
        "id": "M9VdrreZvtJn",
        "outputId": "32d201ba-2140-4790-9b32-c8d1d06c405a",
        "colab": {
          "base_uri": "https://localhost:8080/"
        }
      },
      "execution_count": null,
      "outputs": [
        {
          "output_type": "stream",
          "name": "stdout",
          "text": [
            "\u001b[1m La mejor accuracy encontrada a partir de aplicación de múltiples estrategias de preparación de datos fue:\u001b[0m\n",
            "99.12%\n"
          ]
        }
      ]
    },
    {
      "cell_type": "code",
      "source": [
        "cm = confusion_matrix(y_test, y_pred)\n",
        "\n",
        "disp = ConfusionMatrixDisplay(confusion_matrix=cm, display_labels=np.unique(y_test))\n",
        "disp.plot()\n",
        "plt.show()\n"
      ],
      "metadata": {
        "colab": {
          "base_uri": "https://localhost:8080/",
          "height": 449
        },
        "id": "yQ5PhXpJVm0Y",
        "outputId": "3cbe4872-05b3-41dd-e18e-c57139fac35b"
      },
      "execution_count": null,
      "outputs": [
        {
          "output_type": "display_data",
          "data": {
            "text/plain": [
              "<Figure size 640x480 with 2 Axes>"
            ],
            "image/png": "[encoded data removed]"
          },
          "metadata": {}
        }
      ]
    },
    {
      "cell_type": "markdown",
      "source": [
        "Al final, ajustando nuestro problema, la mejor precisión obtenida fue del **99.12%**, un valor considerablemente superior al **96.56%** obtenido al inicio. Esto generó una predicción mucho más robusta para identificar jugadores con un promedio de más de 20 puntos por partido, aplicado en este caso a un \"entorno controlado\" con datos únicamente de jugadores que ya han iniciado sus carreras y, en muchos casos, que ya las han finalizado.\n",
        "\n",
        "Sin embargo, es muy probable que modelos como este se apliquen en los departamentos de scouting de equipos de la **NBA** y de otras ligas para identificar talentos, ya que es un modelo replicable si se logra una adecuada ingeniería de datos para extraer valores y patrones relevantes.\n",
        "\n",
        "Consideramos que utilizar este dataset en la realización del trabajo fue bastante útil para poner en práctica nuestros nuevos conocimientos, además de resultar ser muy interesante.\n"
      ],
      "metadata": {
        "id": "bkarBxC_uAWR"
      }
    },
    {
      "cell_type": "markdown",
      "source": [
        "# 2. Portafolio - Nuevas técnicas"
      ],
      "metadata": {
        "id": "MMtYGAxhy56l"
      }
    },
    {
      "cell_type": "markdown",
      "source": [
        "En esta sección, probaremos diversas técnicas nuevas, ya sea para reducir los outliers o para realizar una ingeniería de características más detallada. Crearemos nuevas variables con el objetivo de aplicar distintas estrategias en un modelo ya bien entrenado para:\n",
        "\n",
        "1. Ver hasta qué valor máximo de precisión podemos alcanzar.  \n",
        "2. Ampliar el conjunto de estrategias y herramientas disponibles para futuros problemas de machine learning.\n",
        "\n",
        "Para ello, presentaremos una breve introducción sobre cada método, explicando su funcionamiento y por qué puede ser útil. Luego, lo aplicaremos y analizaremos sus resultados.\n"
      ],
      "metadata": {
        "id": "WjWiu00qML-C"
      }
    },
    {
      "cell_type": "markdown",
      "source": [
        "## 1 - Eliminación de Multicolinealidad (VIF - Factor de Inflación de Varianza)\n"
      ],
      "metadata": {
        "id": "IfjLG2T4DBdq"
      }
    },
    {
      "cell_type": "markdown",
      "source": [
        "El VIF (Factor de Inflación de Varianza) mide la correlación de una variable con todas las demás del conjunto de datos. Valores altos indican redundancia, ya que la variable está altamente correlacionada con otras.\n",
        "\n",
        "¿Por qué es interesante probarlo?  \n",
        "- Reduce la redundancia entre variables.  \n",
        "- Aumenta la estabilidad de modelos lineales.  \n",
        "- Mejora la interpretabilidad del modelo al eliminar variables innecesarias.\n"
      ],
      "metadata": {
        "id": "xFl_FJWEX6z4"
      }
    },
    {
      "cell_type": "code",
      "source": [
        "# Función para eliminar variables con alta multicolinealidad\n",
        "def remove_multicollinearity(df, threshold=20.0):\n",
        "    vif_data = pd.DataFrame()\n",
        "    vif_data['feature'] = df.columns\n",
        "    vif_data['VIF'] = [variance_inflation_factor(df.values, i) for i in range(df.shape[1])]\n",
        "\n",
        "    # Filtra las variables con VIF por debajo del umbral\n",
        "    features_to_keep = vif_data[vif_data['VIF'] < threshold]['feature']\n",
        "\n",
        "    print(\"VIF calculado para cada característica:\\n\", vif_data)\n",
        "    print(f\"\\nCaracterísticas mantenidas (VIF < {threshold}):\\n\", features_to_keep.tolist())\n",
        "\n",
        "    return df[features_to_keep]\n",
        "\n",
        "# Aplicando la eliminación de multicolinealidad en el conjunto de entrenamiento\n",
        "X_train_vif = remove_multicollinearity(X_train)\n",
        "\n",
        "# Garantizando la misma selección en el conjunto de prueba\n",
        "X_test_vif = X_test[X_train_vif.columns]\n"
      ],
      "metadata": {
        "colab": {
          "base_uri": "https://localhost:8080/"
        },
        "id": "JpP7ILCuImMT",
        "outputId": "901d44c7-ec29-4967-f21c-b4f28f291947"
      },
      "execution_count": null,
      "outputs": [
        {
          "output_type": "stream",
          "name": "stdout",
          "text": [
            "VIF calculado para cada característica:\n",
            "              feature          VIF\n",
            "0                age    43.313522\n",
            "1      player_height  2011.571687\n",
            "2      player_weight   230.186996\n",
            "3         draft_year    16.308649\n",
            "4        draft_round    28.323009\n",
            "5       draft_number    11.553532\n",
            "6                 gp     8.724238\n",
            "7                reb     9.902465\n",
            "8                ast     9.538827\n",
            "9         net_rating     1.174526\n",
            "10          oreb_pct     4.888542\n",
            "11          dreb_pct    14.704518\n",
            "12           usg_pct    16.776237\n",
            "13            ts_pct    34.043268\n",
            "14           ast_pct    12.578424\n",
            "15            season  1568.483048\n",
            "16  national_player?     7.240040\n",
            "17      team_encoded    13.369507\n",
            "18   college_encoded     6.135534\n",
            "\n",
            "Características mantenidas (VIF < 20.0):\n",
            " ['draft_year', 'draft_number', 'gp', 'reb', 'ast', 'net_rating', 'oreb_pct', 'dreb_pct', 'usg_pct', 'ast_pct', 'national_player?', 'team_encoded', 'college_encoded']\n"
          ]
        }
      ]
    },
    {
      "cell_type": "code",
      "source": [
        "final_pipeline.fit(X_train_vif, y_train)\n",
        "\n",
        "y_pred_vif = final_pipeline.predict(X_test_vif)\n",
        "\n",
        "accuracy_vif = accuracy_score(y_test, y_pred_vif)\n",
        "print(f\"\\nPrecisión sin multicolinealidad: {accuracy_vif:.4f}\")\n",
        "\n",
        "if accuracy_vif > best_accuracy:\n",
        "    print(\"✅ Mejor precisión encontrada.\")\n",
        "else:\n",
        "    print(\"⚠️ No fue la mejor precisión.\")"
      ],
      "metadata": {
        "colab": {
          "base_uri": "https://localhost:8080/"
        },
        "id": "A-e_IsOBOh4d",
        "outputId": "fbf6f736-6cf4-4111-dafe-1feeec9f1bc5"
      },
      "execution_count": null,
      "outputs": [
        {
          "output_type": "stream",
          "name": "stdout",
          "text": [
            "\n",
            "Precisión sin multicolinealidad: 0.9866\n",
            "⚠️ No fue la mejor precisión.\n"
          ]
        }
      ]
    },
    {
      "cell_type": "markdown",
      "source": [
        "La precisión del modelo disminuyó en comparación con las versiones anteriores. Una posible explicación es que, para comprender las habilidades de un jugador de la NBA capaz de anotar más de 20 puntos por temporada, algunas variables pueden ser naturalmente redundantes.\n",
        "\n",
        "En este contexto, la interacción entre atributos potencia el rendimiento y, por lo tanto, la redundancia entre variables no es perjudicial, sino relevante. Así, eliminar estas correlaciones pudo haber debilitado el modelo.\n"
      ],
      "metadata": {
        "id": "jRijjwmjOMge"
      }
    },
    {
      "cell_type": "markdown",
      "source": [
        "## 2 Winsorization"
      ],
      "metadata": {
        "id": "tPhYtXJWCkvy"
      }
    },
    {
      "cell_type": "markdown",
      "source": [
        "El VIF (Factor de Inflación de Varianza) mide la correlación de una variable con todas las demás del conjunto de datos. Valores altos indican redundancia, ya que la variable está altamente correlacionada con otras.\n",
        "\n",
        "¿Por qué es interesante probarlo?  \n",
        "- Reduce la redundancia entre variables.  \n",
        "- Aumenta la estabilidad de modelos lineales.  \n",
        "- Mejora la interpretabilidad del modelo al eliminar variables innecesarias."
      ],
      "metadata": {
        "id": "r1qg2PvgO0iO"
      }
    },
    {
      "cell_type": "code",
      "source": [
        "from scipy.stats.mstats import winsorize\n",
        "\n",
        "# Función para aplicar Winsorization a todo el dataset\n",
        "def apply_winsorization(df, limits=(0.01, 0.01)):\n",
        "    df_winsorized = df.copy()\n",
        "    for col in df_winsorized.columns:\n",
        "        if df_winsorized[col].dtype != 'object':\n",
        "            df_winsorized[col] = winsorize(df_winsorized[col], limits=limits)\n",
        "    return df_winsorized\n",
        "\n",
        "# Aplicando Winsorization en los conjuntos de entrenamiento y prueba\n",
        "X_train_winsorized = apply_winsorization(X_train)\n",
        "X_test_winsorized = apply_winsorization(X_test)\n",
        "\n",
        "final_pipeline.fit(X_train_winsorized, y_train)\n",
        "\n",
        "y_pred_winsorized = final_pipeline.predict(X_test_winsorized)\n",
        "\n",
        "from sklearn.metrics import accuracy_score\n",
        "accuracy_winsorized = accuracy_score(y_test, y_pred_winsorized)\n",
        "print(f\"Precisión después de Winsorization: {accuracy_winsorized:.4f}\")\n",
        "\n",
        "if accuracy_winsorized > best_accuracy:\n",
        "    print(\"✅ Mejor precisión encontrada.\")\n",
        "else:\n",
        "    print(\"⚠️ No fue la mejor precisión.\")\n"
      ],
      "metadata": {
        "colab": {
          "base_uri": "https://localhost:8080/"
        },
        "id": "-YtiKP6iCj9l",
        "outputId": "8688edb3-cf00-4bb2-e7f0-01ec86f124ff"
      },
      "execution_count": null,
      "outputs": [
        {
          "output_type": "stream",
          "name": "stdout",
          "text": [
            "Precisión después de Winsorization: 0.9909\n",
            "⚠️ No fue la mejor precisión.\n"
          ]
        }
      ]
    },
    {
      "cell_type": "markdown",
      "source": [
        "La Winsorización mostró resultados interesantes al reducir el impacto de los outliers. Sin embargo, como el objetivo principal de este estudio fue mejorar la precisión, el método no aportó mejoras en esta métrica.\n",
        "\n",
        "A pesar de ello, reconozco que esta técnica tiene una gran aplicabilidad en futuros escenarios donde el control de valores extremos sea necesario.\n"
      ],
      "metadata": {
        "id": "ws4n2NdZPSQc"
      }
    },
    {
      "cell_type": "markdown",
      "source": [
        "## 3 FeatureAgglomeration"
      ],
      "metadata": {
        "id": "Y7UGntvDC37O"
      }
    },
    {
      "cell_type": "markdown",
      "source": [
        "Agrupa variables similares en función de la distancia euclidiana, creando clústeres de características correlacionadas. Es una forma de reducción de dimensionalidad.\n",
        "\n",
        "¿Por qué es interesante probarlo?\n",
        "\n",
        "- Simplifica el modelo al reducir el número de variables.  \n",
        "- Agrupa información correlacionada, manteniendo el contexto.\n",
        "\n"
      ],
      "metadata": {
        "id": "5LKMNPrvPze2"
      }
    },
    {
      "source": [
        "from sklearn.cluster import FeatureAgglomeration\n",
        "\n",
        "# Definir la agrupación de características\n",
        "def feature_agglomeration(X_train, X_test, pipeline, k_range):\n",
        "    best_accuracy_agglo = 0\n",
        "    best_k = None\n",
        "\n",
        "    for k in k_range:\n",
        "        agglo = FeatureAgglomeration(n_clusters=k)\n",
        "        # Aplicar la agrupación\n",
        "        X_train_clustered = agglo.fit_transform(X_train)\n",
        "        X_test_clustered = agglo.transform(X_test)\n",
        "\n",
        "        # Ajustar el número de características para RFE\n",
        "        n_features = X_train_clustered.shape[1]\n",
        "        final_pipeline.named_steps['feature_selection'].set_params(n_features_to_select=min(9, n_features))\n",
        "\n",
        "        final_pipeline.fit(X_train_clustered, y_train)\n",
        "\n",
        "        y_pred_clustered = final_pipeline.predict(X_test_clustered)\n",
        "\n",
        "        accuracy_clustered = accuracy_score(y_test, y_pred_clustered)\n",
        "        print(f\"Precisión después de Feature Agglomeration (k={k}): {accuracy_clustered:.4f}\")\n",
        "\n",
        "        if accuracy_clustered > best_accuracy_agglo:\n",
        "            best_accuracy_agglo = accuracy_clustered\n",
        "            best_k = k\n",
        "\n",
        "    print(f\"\\nMejor k: {best_k} con precisión de {best_accuracy_agglo:.4f}\")\n",
        "    return best_k, best_accuracy_agglo\n",
        "\n",
        "# Definir k_range antes de llamar la función\n",
        "k_range = range(2, 18)\n",
        "\n",
        "feature_agglomeration(X_train, X_test, final_pipeline, k_range)\n",
        "\n",
        "if accuracy > best_accuracy:\n",
        "    best_accuracy = accuracy\n",
        "    print(\"✅ Mejor precisión encontrada.\")\n",
        "else:\n",
        "    print(\"⚠️ No fue la mejor precisión.\")"
      ],
      "cell_type": "code",
      "metadata": {
        "colab": {
          "base_uri": "https://localhost:8080/"
        },
        "id": "QvgS7oVUEr7V",
        "outputId": "056cc588-4416-4095-e2d4-9927b8426561"
      },
      "execution_count": null,
      "outputs": [
        {
          "output_type": "stream",
          "name": "stdout",
          "text": [
            "Precisión después de Feature Agglomeration (k=2): 0.9439\n",
            "Precisión después de Feature Agglomeration (k=3): 0.9439\n",
            "Precisión después de Feature Agglomeration (k=4): 0.9434\n",
            "Precisión después de Feature Agglomeration (k=5): 0.9439\n",
            "Precisión después de Feature Agglomeration (k=6): 0.9439\n",
            "Precisión después de Feature Agglomeration (k=7): 0.9461\n",
            "Precisión después de Feature Agglomeration (k=8): 0.9459\n",
            "Precisión después de Feature Agglomeration (k=9): 0.9511\n",
            "Precisión después de Feature Agglomeration (k=10): 0.9502\n",
            "Precisión después de Feature Agglomeration (k=11): 0.9511\n",
            "Precisión después de Feature Agglomeration (k=12): 0.9519\n",
            "Precisión después de Feature Agglomeration (k=13): 0.9523\n",
            "Precisión después de Feature Agglomeration (k=14): 0.9519\n",
            "Precisión después de Feature Agglomeration (k=15): 0.9541\n",
            "Precisión después de Feature Agglomeration (k=16): 0.9541\n",
            "Precisión después de Feature Agglomeration (k=17): 0.9731\n",
            "\n",
            "Mejor k: 17 con precisión de 0.9731\n",
            "⚠️ No fue la mejor precisión.\n"
          ]
        }
      ]
    },
    {
      "cell_type": "markdown",
      "source": [
        "La aglomeración de características no aportó beneficios al modelo, resultando en dificultades para interpretar las variables y una disminución en la precisión. Al agrupar atributos de los jugadores, se diluyeron informaciones importantes, lo que perjudicó el análisis.\n",
        "\n",
        "Por lo tanto, esta técnica se mostró inadecuada para este problema.\n"
      ],
      "metadata": {
        "id": "DTC6NNRLP9sW"
      }
    },
    {
      "cell_type": "markdown",
      "source": [
        "## 4 Dynamic Feature Scaling (Z-Score Adaptativo)"
      ],
      "metadata": {
        "id": "htacv-IbGX7H"
      }
    },
    {
      "cell_type": "markdown",
      "source": [
        "Escala las variables de forma adaptativa usando el **Z-Score**, ajustando el impacto de variables con diferentes distribuciones.\n",
        "\n",
        "¿Por qué es interesante probarlo?\n",
        "\n",
        "- Normaliza variables de forma dinámica, haciendo el modelo más robusto.  \n",
        "- Reduce el impacto de variables con grandes varianzas.  \n",
        "- Mejora la convergencia de modelos lineales como el que estamos utilizando.\n"
      ],
      "metadata": {
        "id": "p7G2f5myQVpj"
      }
    },
    {
      "cell_type": "code",
      "source": [
        "# Escalado Dinámico de Características (Z-Score Adaptativo)\n",
        "X_train_scaled = (X_train - X_train.mean()) / (X_train.std() + 1e-5)\n",
        "X_test_scaled = (X_test - X_train.mean()) / (X_train.std() + 1e-5)\n",
        "\n",
        "final_pipeline.fit(X_train_scaled, y_train)\n",
        "\n",
        "y_pred_scaled = final_pipeline.predict(X_test_scaled)\n",
        "\n",
        "accuracy_scaled = accuracy_score(y_test, y_pred_scaled)\n",
        "print(f\"Precisión después del Escalado Dinámico de Características: {accuracy_scaled:.4f}\")\n",
        "\n",
        "if accuracy_scaled > best_accuracy:\n",
        "    best_accuracy = accuracy_scaled\n",
        "    final_pipeline = final_pipeline\n",
        "    print(\"✅ Mejor precisión encontrada.\")\n",
        "else:\n",
        "    print(\"⚠️ No fue la mejor precisión.\")"
      ],
      "metadata": {
        "colab": {
          "base_uri": "https://localhost:8080/"
        },
        "id": "rQicWFRpGYmC",
        "outputId": "c03582c0-073a-4b2f-af58-eaac58c7c5fa"
      },
      "execution_count": null,
      "outputs": [
        {
          "output_type": "stream",
          "name": "stdout",
          "text": [
            "Precisión después del Escalado Dinámico de Características: 0.9907\n",
            "⚠️ No fue la mejor precisión.\n"
          ]
        }
      ]
    },
    {
      "cell_type": "markdown",
      "source": [
        "La técnica fue interesante por aumentar la robustez del modelo, aunque causó una ligera disminución en la precisión. Al igual que la Winsorización, aunque aportó estabilidad al modelo, no contribuyó a mejorar la precisión.\n",
        "\n",
        "Por ello, no se mantendrá en este proyecto, pero puede ser útil en otros contextos.\n"
      ],
      "metadata": {
        "id": "DQQlxagJQ190"
      }
    },
    {
      "cell_type": "markdown",
      "source": [
        "## 5 Feature Drift Detection\n"
      ],
      "metadata": {
        "id": "DXvTu-H9H9IA"
      }
    },
    {
      "cell_type": "markdown",
      "source": [
        "Detecta cambios en las distribuciones de las variables entre los conjuntos de entrenamiento y prueba. Se utilizó el KS-Test para identificar variables que no se comportan de la misma manera.\n",
        "\n",
        "¿Por qué es interesante probarlo?\n",
        "\n",
        "- Previene el *data leakage* al eliminar variables inestables.  \n",
        "- Garantiza la generalización del modelo a nuevos datos.  \n",
        "- Mejora la robustez al mantener solo variables consistentes."
      ],
      "metadata": {
        "id": "C9SDAffHRUbj"
      }
    },
    {
      "cell_type": "code",
      "source": [
        "from scipy.stats import ks_2samp\n",
        "\n",
        "# Verificando drift entre entrenamiento y prueba\n",
        "for col in X_train.columns:\n",
        "    stat, p_value = ks_2samp(X_train[col], X_test[col])\n",
        "    if p_value < 0.05:\n",
        "        print(f'⚠️ La característica {col} presenta drift (p={p_value:.4f})')\n",
        "\n",
        "# Suponiendo que eliminamos las variables con drift\n",
        "features_no_drift = [col for col in X_train.columns if ks_2samp(X_train[col], X_test[col])[1] >= 0.05]\n",
        "\n",
        "X_train_drift_free = X_train[features_no_drift]\n",
        "X_test_drift_free = X_test[features_no_drift]\n",
        "\n",
        "final_pipeline.fit(X_train_drift_free, y_train)\n",
        "\n",
        "y_pred_drift = final_pipeline.predict(X_test_drift_free)\n",
        "\n",
        "accuracy_drift = accuracy_score(y_test, y_pred_drift)\n",
        "print(f\"Precisión después de eliminar características con drift: {accuracy_drift:.4f}\")\n",
        "\n",
        "if accuracy_drift > best_accuracy:\n",
        "    best_accuracy = accuracy_drift\n",
        "    print(\"✅ Mejor precisión encontrada.\")\n",
        "else:\n",
        "    print(\"⚠️ No fue la mejor precisión.\")"
      ],
      "metadata": {
        "colab": {
          "base_uri": "https://localhost:8080/"
        },
        "id": "htF2uUneH_l4",
        "outputId": "9dfc54c2-e15d-48aa-f09d-3f83e2d6d4c0"
      },
      "execution_count": null,
      "outputs": [
        {
          "output_type": "stream",
          "name": "stdout",
          "text": [
            "Precisión después de eliminar características con drift: 0.9912\n",
            "⚠️ No fue la mejor precisión.\n"
          ]
        }
      ]
    },
    {
      "cell_type": "markdown",
      "source": [
        "La aplicación de **Feature Drift Detection** resultó en una precisión equivalente al mejor resultado obtenido hasta ahora. Al eliminar variables inestables sin afectar el rendimiento, la técnica demostró ser eficaz para garantizar la robustez del modelo.\n",
        "\n",
        "Su aplicación fue muy adecuada para este problema.\n"
      ],
      "metadata": {
        "id": "D_fI5ML8Re4J"
      }
    },
    {
      "cell_type": "markdown",
      "source": [
        "## 6 Creación de Variables Estadísticas\n"
      ],
      "metadata": {
        "id": "ij9AtQtRzEkI"
      }
    },
    {
      "cell_type": "markdown",
      "source": [
        "Creación de nuevas variables basadas en agregaciones estadísticas e interacciones entre variables existentes.  \n",
        "Ejemplo: relación entre altura y peso, eficiencia en rebotes, experiencia del jugador, impacto ofensivo.\n",
        "\n",
        "Estas nuevas variables serán evaluadas nuevamente mediante **RFE** para determinar la mejor cantidad de características, considerando la incorporación de nueva información al modelo.\n",
        "\n",
        "¿Por qué es interesante probarlo?\n",
        "\n",
        "- Incorpora contexto al modelo.  \n",
        "- Revela patrones ocultos.  \n",
        "- Genera nueva información que puede enriquecer el modelo.  \n",
        "- Aumenta el poder predictivo sin alterar la estructura de los datos.\n"
      ],
      "metadata": {
        "id": "SzB1NAQlSMzz"
      }
    },
    {
      "cell_type": "code",
      "source": [
        "df_test = df.copy()\n",
        "\n",
        "# Interacciones avanzadas entre variables\n",
        "df_test['height_weight_ratio'] = df_test['player_height'] / df_test['player_weight']\n",
        "df_test['usg_ts_interaction'] = df_test['usg_pct'] * df_test['ts_pct']\n",
        "df_test['ast_usg_ratio'] = df_test['ast'] / (df_test['usg_pct'] + 1e-5)\n",
        "\n",
        "# Creación de variables estadísticas (GroupBy Aggregations)\n",
        "df_test['avg_gp_season'] = df_test.groupby('season')['gp'].transform('mean')\n",
        "df_test['net_rating_team_diff'] = df_test['net_rating'] - df_test.groupby('team_encoded')['net_rating'].transform('mean')\n",
        "df_test['avg_reb_national'] = df_test.groupby('national_player?')['reb'].transform('mean')\n",
        "\n",
        "# Variables derivadas basadas en eficiencia\n",
        "df_test['total_reb_eff'] = df_test['oreb_pct'] + df_test['dreb_pct']\n",
        "df_test['offensive_impact'] = (df_test['usg_pct'] * 0.4) + (df_test['ast_pct'] * 0.3) + (df_test['ts_pct'] * 0.3)\n",
        "df_test['experience_rating'] = (df_test['season'] - df_test['draft_year']) * df_test['net_rating']\n",
        "\n",
        "X = df_test.drop(columns=['target'])\n",
        "y = df_test['target']\n",
        "\n",
        "# División de los datos\n",
        "X_train_t, X_test_t, y_train_t, y_test_t = train_test_split(X, y, test_size=0.4, random_state=42)"
      ],
      "metadata": {
        "id": "aGEdmsQ8xrPd"
      },
      "execution_count": null,
      "outputs": []
    },
    {
      "cell_type": "markdown",
      "source": [
        "### 6.1 RFE y Predicción"
      ],
      "metadata": {
        "id": "a7BpwiZHS57H"
      }
    },
    {
      "source": [
        "results = []\n",
        "\n",
        "# Regresión Logística para la selección de características\n",
        "logistic_regression = LogisticRegression(C=10, max_iter=2000, random_state=42)\n",
        "\n",
        "# Iteración sobre diferentes cantidades de características\n",
        "for k in range(1, X_train_t.shape[1] + 1):\n",
        "    # Pipeline con RFE\n",
        "    nuevas_features_pipeline = Pipeline([\n",
        "        ('power_transform', PowerTransformer()),  # Normalización\n",
        "        ('scaler', RobustScaler()),              # Escalado robusto\n",
        "        ('feature_selection', RFE(estimator=logistic_regression, n_features_to_select=k)),  # Selección de características\n",
        "        ('model', LogisticRegression(C=10, max_iter=2000, random_state=42))  # Modelo final\n",
        "    ])\n",
        "\n",
        "    # Entrenamiento\n",
        "    nuevas_features_pipeline.fit(X_train_t, y_train_t)\n",
        "\n",
        "    # Evaluación\n",
        "    y_pred = nuevas_features_pipeline.predict(X_test_t)\n",
        "    accuracy = accuracy_score(y_test_t, y_pred)\n",
        "\n",
        "    results.append((k, accuracy))\n",
        "    print(f\"Número de características: {k}, Precisión: {accuracy:.4f}\")\n",
        "\n",
        "# Mejor número de características\n",
        "best_k, best_accuracy_new = max(results, key=lambda x: x[1])\n",
        "print(f\"\\nMejor número de características: {best_k} con precisión de {best_accuracy_new:.4f}\")\n",
        "\n",
        "# Mostrar las características seleccionadas\n",
        "selector = nuevas_features_pipeline.named_steps['feature_selection']\n",
        "selected_features_mask = selector.support_\n",
        "selected_features = X_train_t.columns[selected_features_mask]\n",
        "\n",
        "print(\"\\nCaracterísticas seleccionadas en el mejor modelo:\")\n",
        "print(selected_features)\n"
      ],
      "cell_type": "code",
      "metadata": {
        "colab": {
          "base_uri": "https://localhost:8080/"
        },
        "id": "9uO2ibFD2S_q",
        "outputId": "6e40d7c5-2b63-46a2-d40e-f29519208826"
      },
      "execution_count": null,
      "outputs": [
        {
          "output_type": "stream",
          "name": "stdout",
          "text": [
            "Número de características: 1, Precisión: 0.9434\n",
            "Número de características: 2, Precisión: 0.9558\n",
            "Número de características: 3, Precisión: 0.9858\n",
            "Número de características: 4, Precisión: 0.9868\n",
            "Número de características: 5, Precisión: 0.9891\n",
            "Número de características: 6, Precisión: 0.9893\n",
            "Número de características: 7, Precisión: 0.9893\n",
            "Número de características: 8, Precisión: 0.9883\n",
            "Número de características: 9, Precisión: 0.9897\n",
            "Número de características: 10, Precisión: 0.9895\n",
            "Número de características: 11, Precisión: 0.9903\n",
            "Número de características: 12, Precisión: 0.9901\n",
            "Número de características: 13, Precisión: 0.9905\n",
            "Número de características: 14, Precisión: 0.9907\n",
            "Número de características: 15, Precisión: 0.9910\n",
            "Número de características: 16, Precisión: 0.9918\n",
            "Número de características: 17, Precisión: 0.9916\n",
            "Número de características: 18, Precisión: 0.9910\n",
            "Número de características: 19, Precisión: 0.9909\n",
            "Número de características: 20, Precisión: 0.9912\n",
            "Número de características: 21, Precisión: 0.9910\n",
            "Número de características: 22, Precisión: 0.9910\n",
            "Número de características: 23, Precisión: 0.9907\n",
            "Número de características: 24, Precisión: 0.9914\n",
            "Número de características: 25, Precisión: 0.9914\n",
            "Número de características: 26, Precisión: 0.9914\n",
            "Número de características: 27, Precisión: 0.9914\n",
            "Número de características: 28, Precisión: 0.9920\n",
            "\n",
            "Mejor número de características: 28 con precisión de 0.9920\n",
            "\n",
            "Características seleccionadas en el mejor modelo:\n",
            "Index(['age', 'player_height', 'player_weight', 'draft_year', 'draft_round',\n",
            "       'draft_number', 'gp', 'reb', 'ast', 'net_rating', 'oreb_pct',\n",
            "       'dreb_pct', 'usg_pct', 'ts_pct', 'ast_pct', 'season',\n",
            "       'national_player?', 'team_encoded', 'college_encoded',\n",
            "       'height_weight_ratio', 'usg_ts_interaction', 'ast_usg_ratio',\n",
            "       'avg_gp_season', 'net_rating_team_diff', 'avg_reb_national',\n",
            "       'total_reb_eff', 'offensive_impact', 'experience_rating'],\n",
            "      dtype='object')\n"
          ]
        }
      ]
    },
    {
      "source": [
        "nuevas_features_pipeline = Pipeline([\n",
        "    ('power_transform', PowerTransformer()),\n",
        "    ('scaler', RobustScaler()),\n",
        "    ('feature_selection', RFE(estimator=LogisticRegression(C=10, max_iter=2000, random_state=42), n_features_to_select=16)),\n",
        "    ('model', LogisticRegression(C=10, max_iter=2000, random_state=42))\n",
        "])\n",
        "\n",
        "nuevas_features_pipeline.fit(X_train_t, y_train_t)\n",
        "\n",
        "y_pred = nuevas_features_pipeline.predict(X_test_t)\n",
        "accuracy = accuracy_score(y_test_t, y_pred)\n",
        "print(f\"Precisión del modelo final: {accuracy:.4f}\")\n",
        "\n",
        "if accuracy >= best_accuracy:\n",
        "    best_accuracy = accuracy\n",
        "    final_pipeline = nuevas_features_pipeline\n",
        "    print(\"✅ Mejor precisión encontrada.\")\n",
        "else:\n",
        "    print(\"⚠️ No fue la mejor precisión.\")\n"
      ],
      "cell_type": "code",
      "metadata": {
        "colab": {
          "base_uri": "https://localhost:8080/"
        },
        "id": "heh3v2uVDQ7r",
        "outputId": "add7fa11-411d-4be3-9a0e-2106baaae7ee"
      },
      "execution_count": null,
      "outputs": [
        {
          "output_type": "stream",
          "name": "stdout",
          "text": [
            "Precisión del modelo final: 0.9918\n",
            "✅ Mejor precisión encontrada.\n"
          ]
        }
      ]
    },
    {
      "cell_type": "markdown",
      "source": [
        "La ingeniería de nuevas características estadísticas amplió el poder predictivo del modelo, siendo responsable del mejor resultado alcanzado hasta ahora.\n",
        "\n",
        "La creación de variables derivadas fue interesante para capturar información más relevante y mejorar el rendimiento del modelo.\n"
      ],
      "metadata": {
        "id": "-duJ-juXS4Al"
      }
    },
    {
      "cell_type": "markdown",
      "source": [
        "## 7 Detección de Deriva de Características + Creación de Variables Estadísticas"
      ],
      "metadata": {
        "id": "0ztilKj1K7cz"
      }
    },
    {
      "cell_type": "markdown",
      "source": [
        "Combinación de técnicas de eliminación de variables con *drift* y creación de nuevas características estadísticas.\n",
        "\n",
        "¿Por qué es interesante probarlo?\n",
        "\n",
        "- Elimina variables inestables y, al mismo tiempo, enriquece el conjunto de datos con nueva información.  \n",
        "- Maximiza la robustez y mantiene la relevancia de los datos.\n",
        "\n"
      ],
      "metadata": {
        "id": "qQvg74CVXixP"
      }
    },
    {
      "cell_type": "code",
      "source": [
        "features_no_drift = [col for col in X_train.columns if ks_2samp(X_train[col], X_test[col])[1] >= 0.05]\n",
        "X_train_drift_free = X_train[features_no_drift]\n",
        "X_test_drift_free = X_test[features_no_drift]\n",
        "\n",
        "print(f\"Características mantenidas después de eliminar el drift: {features_no_drift}\")\n",
        "\n",
        "combined_pipeline = Pipeline([\n",
        "    ('power_transform', PowerTransformer()),\n",
        "    ('scaler', RobustScaler()),\n",
        "    ('feature_selection', RFE(\n",
        "        estimator=LogisticRegression(C=10, max_iter=2000, random_state=42),\n",
        "        n_features_to_select=min(16, len(features_no_drift))\n",
        "    )),\n",
        "    ('model', LogisticRegression(C=10, max_iter=2000, random_state=42))\n",
        "])\n",
        "\n",
        "combined_pipeline.fit(X_train_drift_free, y_train)\n",
        "\n",
        "y_pred_combined = combined_pipeline.predict(X_test_drift_free)\n",
        "accuracy_combined = accuracy_score(y_test, y_pred_combined)\n",
        "print(f\"\\nPrecisión después de combinar Feature Drift + Pipeline avanzado: {accuracy_combined:.4f}\")\n",
        "\n",
        "if accuracy_combined > best_accuracy:\n",
        "    best_accuracy = accuracy_combined\n",
        "    final_pipeline = combined_pipeline\n",
        "    print(\"✅ Mejor precisión encontrada.\")\n",
        "else:\n",
        "    print(\"⚠️ No fue la mejor precisión.\")\n"
      ],
      "metadata": {
        "colab": {
          "base_uri": "https://localhost:8080/"
        },
        "id": "1zgnf-h2K87e",
        "outputId": "7fd48302-8651-4418-e984-1cc63bc06b78"
      },
      "execution_count": null,
      "outputs": [
        {
          "output_type": "stream",
          "name": "stdout",
          "text": [
            "Características mantenidas después de eliminar el drift: ['age', 'player_height', 'player_weight', 'draft_year', 'draft_round', 'draft_number', 'gp', 'reb', 'ast', 'net_rating', 'oreb_pct', 'dreb_pct', 'usg_pct', 'ts_pct', 'ast_pct', 'season', 'national_player?', 'team_encoded', 'college_encoded']\n",
            "\n",
            "Precisión después de combinar Feature Drift + Pipeline avanzado: 0.9909\n",
            "⚠️ No fue la mejor precisión.\n"
          ]
        }
      ]
    },
    {
      "cell_type": "markdown",
      "source": [
        "La combinación de estas técnicas resultó en un **trade-off**: hubo una reducción en la precisión en comparación con el uso aislado de las variables estadísticas, pero con una mejora en la robustez.\n",
        "\n",
        "Aunque aumentó la estabilidad del modelo, esta combinación no cumplió con el objetivo principal de mejorar la precisión. Por ello, será descartada en este proyecto, aunque podría explorarse en otros contextos.\n",
        "\n",
        "Cabe destacar que la predicción realizada con estas técnicas por separado generó mejores resultados, por lo que, en este caso, sería más adecuado optar por una de las dos técnicas anteriores en lugar de combinarlas.\n"
      ],
      "metadata": {
        "id": "lBZcqERaTPl2"
      }
    },
    {
      "cell_type": "markdown",
      "source": [
        "## 8 Conclusión"
      ],
      "metadata": {
        "id": "8F0_ndLHTzew"
      }
    },
    {
      "cell_type": "code",
      "source": [
        "print(best_accuracy)"
      ],
      "metadata": {
        "colab": {
          "base_uri": "https://localhost:8080/"
        },
        "id": "uo7-qI5eXMxI",
        "outputId": "f0e5086f-48a0-4d38-ac31-1f736149da5e"
      },
      "execution_count": null,
      "outputs": [
        {
          "output_type": "stream",
          "name": "stdout",
          "text": [
            "0.9918256130790191\n"
          ]
        }
      ]
    },
    {
      "cell_type": "code",
      "source": [
        "print(final_pipeline)"
      ],
      "metadata": {
        "colab": {
          "base_uri": "https://localhost:8080/"
        },
        "id": "f1X65mkpXW59",
        "outputId": "c1843323-402d-4817-f286-dce054ef6488"
      },
      "execution_count": null,
      "outputs": [
        {
          "output_type": "stream",
          "name": "stdout",
          "text": [
            "Pipeline(steps=[('power_transform', PowerTransformer()),\n",
            "                ('scaler', RobustScaler()),\n",
            "                ('feature_selection',\n",
            "                 RFE(estimator=LogisticRegression(C=10, max_iter=2000,\n",
            "                                                  random_state=42),\n",
            "                     n_features_to_select=16)),\n",
            "                ('model',\n",
            "                 LogisticRegression(C=10, max_iter=2000, random_state=42))])\n"
          ]
        }
      ]
    },
    {
      "cell_type": "markdown",
      "source": [
        "Para concluir, probar diversas técnicas nuevas fue muy interesante para ampliar los conocimientos en la disciplina. Es importante destacar que, a diferencia de los últimos temas de la Actividad 2, aquí no nos enfocamos tanto en modificar el pipeline con las técnicas, sino en realizar cambios directamente en los datos de entrenamiento y observar cómo impactaban en las predicciones. Esto fue útil para mejorar las habilidades de manipulación de datos.\n",
        "\n",
        "Por último, me gustaría decir que, personalmente, fue divertido aplicar estas técnicas. Aunque no entiendo mucho sobre baloncesto, fue interesante analizar las métricas que, poco a poco, demostraban ser importantes para comprender la capacidad de los jugadores de lograr un promedio de 20 puntos por partido.\n"
      ],
      "metadata": {
        "id": "SjMsSIbtVwY7"
      }
    }
  ]
}